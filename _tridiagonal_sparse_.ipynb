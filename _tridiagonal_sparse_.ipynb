{
 "cells": [
  {
   "cell_type": "markdown",
   "id": "db30c5c4-2406-4fa1-ad6f-56fedefd07a0",
   "metadata": {},
   "source": [
    "We want to compare in computational terms Tridiagonal matrixes and Sparse matrixes with the \"\\\" solver and other solving algorithms"
   ]
  },
  {
   "cell_type": "markdown",
   "id": "618bd784-a479-4044-b0f1-7c12ee7805ce",
   "metadata": {},
   "source": [
    "In this first snippet of code we compared the \"\\\" solver with a randomized 10000x10000 matrix with the 90% of zero-elements stored as a sparse one \"A\" and as a full one \"B\". We can see that in the first case it takes 5 times more time to find the u vector, and several more bytes of memory used. "
   ]
  },
  {
   "cell_type": "code",
   "execution_count": 2,
   "id": "a65ce639-f233-450c-b163-a0214b3a3699",
   "metadata": {},
   "outputs": [
    {
     "name": "stdout",
     "output_type": "stream",
     "text": [
      "  342.439 μs (75 allocations: 301.09 KiB)\n"
     ]
    },
    {
     "data": {
      "text/plain": [
       "100-element Vector{Float64}:\n",
       " -26.84158629048034\n",
       "   2.7332227138828076\n",
       "   4.568798024650131\n",
       "   6.265447032432788\n",
       "   2.202629107235756\n",
       "  -0.09903515513109229\n",
       "  -4.857222239059852\n",
       "  -5.288291100782636\n",
       "   2.885604045272143\n",
       "   2.4897124815505953\n",
       "   1.9455292125267203\n",
       " -15.360896060540373\n",
       "  -1.392976400157795\n",
       "   ⋮\n",
       "   2.8481786990652203\n",
       "  -2.738697665561468\n",
       "  -4.060693176554792\n",
       " -10.987070726305697\n",
       "  -1.2106383211793381\n",
       "  -5.046241856406535\n",
       "   1.8071833874276277\n",
       "  -0.7928416355895394\n",
       "   4.4552540047820965\n",
       "  -3.8391610174471693\n",
       "   0.6347996255221112\n",
       "   0.9614267449490863"
      ]
     },
     "metadata": {},
     "output_type": "display_data"
    },
    {
     "name": "stdout",
     "output_type": "stream",
     "text": [
      "  98.560 μs (4 allocations: 79.92 KiB)\n"
     ]
    },
    {
     "data": {
      "text/plain": [
       "100-element Vector{Float64}:\n",
       " -26.841586290479952\n",
       "   2.733222713882676\n",
       "   4.568798024650022\n",
       "   6.2654470324326565\n",
       "   2.2026291072357966\n",
       "  -0.09903515513089324\n",
       "  -4.8572222390598006\n",
       "  -5.288291100782416\n",
       "   2.885604045272081\n",
       "   2.489712481550548\n",
       "   1.9455292125264971\n",
       " -15.360896060540066\n",
       "  -1.392976400157841\n",
       "   ⋮\n",
       "   2.8481786990653206\n",
       "  -2.7386976655613977\n",
       "  -4.060693176554673\n",
       " -10.98707072630555\n",
       "  -1.2106383211792675\n",
       "  -5.04624185640647\n",
       "   1.8071833874275356\n",
       "  -0.7928416355894641\n",
       "   4.455254004782047\n",
       "  -3.8391610174470645\n",
       "   0.6347996255221288\n",
       "   0.9614267449490639"
      ]
     },
     "metadata": {},
     "output_type": "display_data"
    }
   ],
   "source": [
    "using SparseArrays\n",
    "using Plots\n",
    "using LinearSolve\n",
    "using BenchmarkTools\n",
    "using LinearAlgebra\n",
    "function solver(Mat,b)\n",
    "    if(size(Mat)[1]==size(Mat)[2])\n",
    "        if(size(Mat)[1]!=size(b)[1])\n",
    "            error(\"Wrong dimensions\")\n",
    "        end\n",
    "        u = Mat \\ b\n",
    "        return u::Vector{Float64}\n",
    "    else\n",
    "        error(\"It's not a square matrix\")\n",
    "    end\n",
    "end\n",
    "\n",
    "n = 10000;\n",
    "density = 0.1;\n",
    "f = rand(n);\n",
    "A = sprand(n, n, density);\n",
    "display(@btime solver(A,f))\n",
    "B = Matrix(A);\n",
    "display(@btime solver(B,f));"
   ]
  },
  {
   "cell_type": "markdown",
   "id": "c8212315-c5d8-493a-9e05-b41b8f1cc6cc",
   "metadata": {},
   "source": [
    "In this second snippet of code we compared the \"\\\" solver with a randomized 10000x10000 tridiagonal matrix stored as a sparse one \"C\" and as a full one \"D\". Now we see that storing the matrix as sparse led us to a way faster resolution of the problem using the base solver."
   ]
  },
  {
   "cell_type": "code",
   "execution_count": 4,
   "id": "3202350a-6007-497b-9eb4-a89a5a82d903",
   "metadata": {},
   "outputs": [
    {
     "name": "stdout",
     "output_type": "stream",
     "text": [
      "  162.708 μs (14 allocations: 469.12 KiB)\n"
     ]
    },
    {
     "data": {
      "text/plain": [
       "10000-element Vector{Float64}:\n",
       "   1.0186329129453031\n",
       "   1.1217890600475604\n",
       "  -9.140265718487022\n",
       "   3.7230054615639987\n",
       "  -0.49484315253317745\n",
       "  -5.001522431282905\n",
       "  19.70274124319122\n",
       " -21.926716750657906\n",
       "   0.9829079279871175\n",
       "   5.861820538833976\n",
       "  -4.367819065662792\n",
       "  -6.616928436882084\n",
       "   7.746138190117857\n",
       "   ⋮\n",
       " -40.494695279765445\n",
       "  59.02749041600639\n",
       "  -7.808392726470104\n",
       "  -0.18093301081223\n",
       "   5.355961608978792\n",
       "  -7.65297928935669\n",
       "   5.909335895295383\n",
       "   1.4668178863912222\n",
       "  -1.960398052414121\n",
       "   4.99039984013364\n",
       "   1.2821059729307687\n",
       " -10.455466012550568"
      ]
     },
     "metadata": {},
     "output_type": "display_data"
    },
    {
     "name": "stdout",
     "output_type": "stream",
     "text": [
      "  4.763 s (6 allocations: 763.09 MiB)\n"
     ]
    },
    {
     "data": {
      "text/plain": [
       "10000-element Vector{Float64}:\n",
       "   1.0186329129453044\n",
       "   1.1217890600475602\n",
       "  -9.140265718487028\n",
       "   3.7230054615640014\n",
       "  -0.4948431525331788\n",
       "  -5.0015224312829085\n",
       "  19.702741243191234\n",
       " -21.92671675065792\n",
       "   0.982907927987117\n",
       "   5.861820538833981\n",
       "  -4.367819065662796\n",
       "  -6.6169284368820875\n",
       "   7.74613819011786\n",
       "   ⋮\n",
       " -40.4946952797653\n",
       "  59.02749041600617\n",
       "  -7.808392726470056\n",
       "  -0.18093301081223115\n",
       "   5.35596160897877\n",
       "  -7.652979289356653\n",
       "   5.909335895295353\n",
       "   1.4668178863912205\n",
       "  -1.9603980524141105\n",
       "   4.99039984013362\n",
       "   1.282105972930765\n",
       " -10.455466012550522"
      ]
     },
     "metadata": {},
     "output_type": "display_data"
    }
   ],
   "source": [
    "n=10000\n",
    "f = rand(n);\n",
    "\n",
    "#generating the low, high and main diagonal of a tridiagonal matrix\n",
    "hd = rand(n-1);\n",
    "ld = rand(n-1);\n",
    "d = rand(n)\n",
    "\n",
    "C = Tridiagonal(ld,d,hd)\n",
    "D = Matrix(C)\n",
    "display(@btime solver(C,f))\n",
    "display(@btime solver(D,f))"
   ]
  },
  {
   "cell_type": "raw",
   "id": "4646d54e-e488-4456-8e26-bacb53465d5a",
   "metadata": {},
   "source": [
    "So we can concluse that the best way to store the matrix is tridiagonal, in this way with the base solver we use less computational time."
   ]
  }
 ],
 "metadata": {
  "kernelspec": {
   "display_name": "Julia 1.9.3",
   "language": "julia",
   "name": "julia-1.9"
  },
  "language_info": {
   "file_extension": ".jl",
   "mimetype": "application/julia",
   "name": "julia",
   "version": "1.9.3"
  }
 },
 "nbformat": 4,
 "nbformat_minor": 5
}
