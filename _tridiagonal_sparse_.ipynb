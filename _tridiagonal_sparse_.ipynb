{
 "cells": [
  {
   "cell_type": "markdown",
   "id": "db30c5c4-2406-4fa1-ad6f-56fedefd07a0",
   "metadata": {},
   "source": [
    "We want to compare in computational terms Tridiagonal matrixes and Sparse matrixes with the \"\\\" solver and other solving algorithms"
   ]
  },
  {
   "cell_type": "markdown",
   "id": "618bd784-a479-4044-b0f1-7c12ee7805ce",
   "metadata": {},
   "source": [
    "# 1.1 Functions and Pakages:\n",
    "Now we go to comparing the two solver (\\ and \"LinearSolve pakage\") with both sparse and tridiagonal matrix.\n",
    "We starting by making a function for it :  "
   ]
  },
  {
   "cell_type": "code",
   "execution_count": 7,
   "id": "a65ce639-f233-450c-b163-a0214b3a3699",
   "metadata": {},
   "outputs": [
    {
     "data": {
      "text/plain": [
       "solv (generic function with 1 method)"
      ]
     },
     "metadata": {},
     "output_type": "display_data"
    }
   ],
   "source": [
    "using SparseArrays\n",
    "using Plots\n",
    "using LinearSolve\n",
    "using BenchmarkTools\n",
    "using LinearAlgebra\n",
    "\n",
    "function solver(Mat,b)\n",
    "    if(size(Mat)[1]==size(Mat)[2])\n",
    "        if(size(Mat)[1]!=size(b)[1])\n",
    "            error(\"Wrong dimensions\")\n",
    "        end\n",
    "        u = Mat \\ b\n",
    "        return u::Vector{Float64}\n",
    "    else\n",
    "        error(\"It's not a square matrix\")\n",
    "    end\n",
    "end\n",
    "\n",
    "function solv(Mat,b::Vector{Float64}) \n",
    "    if(size(Mat)[1]==size(Mat)[2])\n",
    "        if(size(Mat)[1]!=size(b)[1])\n",
    "            error(\"Wrong dimensions\")\n",
    "        end\n",
    "        prob = LinearProblem(Mat, b)\n",
    "        u = solve(prob, KrylovJL_CG())\n",
    "        return u\n",
    "    else\n",
    "        error(\"It's not a square matrix\")\n",
    "    end\n",
    "end\n"
   ]
  },
  {
   "cell_type": "markdown",
   "metadata": {},
   "source": [
    "# 1.2: Do the test with \\ solver:\n",
    " In this first snippet of code we compared the \"\\\" solver with a randomized 10000x10000 matrix with the 90% of zero-elements stored as a sparse one \"A\" and as a full one \"B\". We can see that in the first case it takes 5 times more time to find the u vector, and several more bytes of memory used. "
   ]
  },
  {
   "cell_type": "code",
   "execution_count": 8,
   "metadata": {},
   "outputs": [
    {
     "data": {
      "text/plain": [
       "10000-element Vector{Float64}:\n",
       "  28.922624218729478\n",
       " -22.454140067209764\n",
       "  13.13545141236079\n",
       "  -9.015338424316582\n",
       "  17.60601560338772\n",
       " -15.835226828434118\n",
       " -18.740705813960236\n",
       "  16.085916665458992\n",
       "  16.59444619709569\n",
       " -38.6117614690437\n",
       "   ⋮\n",
       "  24.2999851112344\n",
       " -14.262701568317308\n",
       " -11.713622984363255\n",
       "  13.8505774312978\n",
       "  -8.69130363066101\n",
       "  15.283862920875114\n",
       " -10.249345215160233\n",
       "   1.6594990431631256\n",
       "  -6.026067649789386"
      ]
     },
     "metadata": {},
     "output_type": "display_data"
    },
    {
     "name": "stdout",
     "output_type": "stream",
     "text": [
      "  13.633 s (85 allocations: 3.81 GiB)\n"
     ]
    },
    {
     "data": {
      "text/plain": [
       "10000-element Vector{Float64}:\n",
       "  28.92262422378809\n",
       " -22.454140070255406\n",
       "  13.13545141398023\n",
       "  -9.015338425198898\n",
       "  17.606015604244988\n",
       " -15.835226830435765\n",
       " -18.740705817120265\n",
       "  16.085916667467355\n",
       "  16.59444619917311\n",
       " -38.61176147460617\n",
       "   ⋮\n",
       "  24.299985114108104\n",
       " -14.262701570203781\n",
       " -11.713622985826369\n",
       "  13.850577433056825\n",
       "  -8.69130363176044\n",
       "  15.28386292265571\n",
       " -10.249345216301704\n",
       "   1.659499043123873\n",
       "  -6.02606765051643"
      ]
     },
     "metadata": {},
     "output_type": "display_data"
    },
    {
     "name": "stdout",
     "output_type": "stream",
     "text": [
      "  4.015 s (6 allocations: 763.09 MiB)\n"
     ]
    }
   ],
   "source": [
    "n = 10000;\n",
    "density = 0.1;\n",
    "f = rand(n);\n",
    "A = sprand(n, n, density);\n",
    "display(@btime solver(A,f))\n",
    "B = Matrix(A);\n",
    "display(@btime solver(B,f));"
   ]
  },
  {
   "cell_type": "markdown",
   "id": "c8212315-c5d8-493a-9e05-b41b8f1cc6cc",
   "metadata": {},
   "source": [
    "# 1.3: With random matrix: \n",
    "In this second snippet of code we compared the \"\\\" solver with a randomized 10000x10000 tridiagonal matrix stored as a sparse one \"C\" and as a full one \"D\". Now we see that storing the matrix as sparse led us to a way faster resolution of the problem using the base solver."
   ]
  },
  {
   "cell_type": "code",
   "execution_count": 10,
   "id": "3202350a-6007-497b-9eb4-a89a5a82d903",
   "metadata": {},
   "outputs": [
    {
     "data": {
      "text/plain": [
       "10000-element Vector{Float64}:\n",
       "   3.930000176734958\n",
       "   0.5432587866937981\n",
       "  -1.7762906303950157\n",
       "   1.0413557220233771\n",
       "   1.217974892489639\n",
       "  -1.3252071891906876\n",
       "   0.6566868297063173\n",
       "   1.3991911975433198\n",
       "  -2.0354919702341587\n",
       "   4.2018597539726334\n",
       "   ⋮\n",
       "   9.21995892924822\n",
       "   0.2275527000000487\n",
       " -18.05210933265012\n",
       "  19.668151837843656\n",
       "  -9.657949769412788\n",
       "   2.3497877938772382\n",
       "   4.936125560170783\n",
       " -13.123670936089871\n",
       "  14.112697091495184"
      ]
     },
     "metadata": {},
     "output_type": "display_data"
    },
    {
     "name": "stdout",
     "output_type": "stream",
     "text": [
      "  162.000 μs (14 allocations: 469.12 KiB)\n"
     ]
    },
    {
     "data": {
      "text/plain": [
       "10000-element Vector{Float64}:\n",
       "   3.930000176734995\n",
       "   0.543258786693795\n",
       "  -1.776290630395033\n",
       "   1.0413557220233824\n",
       "   1.2179748924896439\n",
       "  -1.3252071891907027\n",
       "   0.6566868297063219\n",
       "   1.399191197543335\n",
       "  -2.0354919702342005\n",
       "   4.201859753972659\n",
       "   ⋮\n",
       "   9.219958929248218\n",
       "   0.2275527000000487\n",
       " -18.05210933265012\n",
       "  19.668151837843656\n",
       "  -9.657949769412788\n",
       "   2.3497877938772382\n",
       "   4.936125560170783\n",
       " -13.123670936089871\n",
       "  14.112697091495184"
      ]
     },
     "metadata": {},
     "output_type": "display_data"
    },
    {
     "name": "stdout",
     "output_type": "stream",
     "text": [
      "  3.971 s (6 allocations: 763.09 MiB)\n"
     ]
    }
   ],
   "source": [
    "n=10000\n",
    "f = rand(n);\n",
    "\n",
    "#generating the low, high and main diagonal of a tridiagonal matrix\n",
    "hd = rand(n-1);\n",
    "ld = rand(n-1);\n",
    "d = rand(n)\n",
    "\n",
    "C = Tridiagonal(ld,d,hd)\n",
    "D = Matrix(C)\n",
    "display(@btime solver(C,f))\n",
    "display(@btime solver(D,f))"
   ]
  },
  {
   "cell_type": "markdown",
   "metadata": {},
   "source": [
    "So we can concluse that the best way to store the matrix is tridiagonal, in this way with the base solver we use less computational time."
   ]
  },
  {
   "cell_type": "markdown",
   "metadata": {},
   "source": [
    "# 2.1: Do the test with Linearsolver:\n",
    "In order to be our comparasion more justified we do the tests with the Same matrix A,B,C and D :"
   ]
  },
  {
   "cell_type": "markdown",
   "metadata": {},
   "source": [
    "# 2.2:  Sparse/Tridiagonal  Matrix:"
   ]
  },
  {
   "cell_type": "code",
   "execution_count": 9,
   "metadata": {},
   "outputs": [
    {
     "data": {
      "text/plain": [
       "u: 10000-element Vector{Float64}:\n",
       "  3.950986093537063e14\n",
       " -4.699138595088857e14\n",
       " -1.2215685492947175e15\n",
       "  3.82990716265518e13\n",
       "  8.727495961437848e14\n",
       " -5.6226610332671e14\n",
       " -2.3407572981451625e14\n",
       "  6.771649439930036e14\n",
       "  7.350212057068736e14\n",
       " -1.5286629147377085e15\n",
       "  ⋮\n",
       " -7.644981425002366e14\n",
       " -1.2477082666805738e15\n",
       " -1.7080997050129928e15\n",
       "  1.4499251534559142e15\n",
       " -1.663521285606508e15\n",
       " -5.174267526055381e14\n",
       " -1.236544395588974e15\n",
       " -6.415012248925021e14\n",
       " -1.580275486161275e15"
      ]
     },
     "metadata": {},
     "output_type": "display_data"
    },
    {
     "name": "stdout",
     "output_type": "stream",
     "text": [
      "  141.409 ms (35 allocations: 392.86 KiB)"
     ]
    },
    {
     "data": {
      "text/plain": [
       "u: 10000-element Vector{Float64}:\n",
       "  3.4546215805780144e14\n",
       " -4.108783280021132e14\n",
       " -1.0681022338833322e15\n",
       "  3.3487538610579367e13\n",
       "  7.631055938695852e14\n",
       " -4.9162830964080844e14\n",
       " -2.046686696846477e14\n",
       "  5.920923470107369e14\n",
       "  6.426800953744296e14\n",
       " -1.3366161686371548e15\n",
       "  ⋮\n",
       " -6.684538287070416e14\n",
       " -1.0909580044817425e15\n",
       " -1.4935102182134478e15\n",
       "  1.2677702747537445e15\n",
       " -1.454532209669806e15\n",
       " -4.5242215072421394e14\n",
       " -1.0811966565339671e15\n",
       " -5.6090908016760506e14\n",
       " -1.3817446248877695e15"
      ]
     },
     "metadata": {},
     "output_type": "display_data"
    },
    {
     "name": "stdout",
     "output_type": "stream",
     "text": [
      "\n",
      "  249.758 ms (33 allocations: 392.70 KiB)\n"
     ]
    }
   ],
   "source": [
    "display(@btime u=solv(A,f))\n",
    "display(@btime u=solv(B,f))"
   ]
  },
  {
   "cell_type": "markdown",
   "metadata": {},
   "source": [
    "# 2.2:  Sparse/Tridiagonal  Matrix with random matrix:"
   ]
  },
  {
   "cell_type": "code",
   "execution_count": 11,
   "metadata": {},
   "outputs": [
    {
     "data": {
      "text/plain": [
       "10000-element Vector{Float64}:\n",
       "   3.930000176734958\n",
       "   0.5432587866937981\n",
       "  -1.7762906303950157\n",
       "   1.0413557220233771\n",
       "   1.217974892489639\n",
       "  -1.3252071891906876\n",
       "   0.6566868297063173\n",
       "   1.3991911975433198\n",
       "  -2.0354919702341587\n",
       "   4.2018597539726334\n",
       "   ⋮\n",
       "   9.21995892924822\n",
       "   0.2275527000000487\n",
       " -18.05210933265012\n",
       "  19.668151837843656\n",
       "  -9.657949769412788\n",
       "   2.3497877938772382\n",
       "   4.936125560170783\n",
       " -13.123670936089871\n",
       "  14.112697091495184"
      ]
     },
     "metadata": {},
     "output_type": "display_data"
    },
    {
     "name": "stdout",
     "output_type": "stream",
     "text": [
      "  164.100 μs (14 allocations: 469.12 KiB)\n"
     ]
    },
    {
     "data": {
      "text/plain": [
       "10000-element Vector{Float64}:\n",
       "   3.930000176734995\n",
       "   0.543258786693795\n",
       "  -1.776290630395033\n",
       "   1.0413557220233824\n",
       "   1.2179748924896439\n",
       "  -1.3252071891907027\n",
       "   0.6566868297063219\n",
       "   1.399191197543335\n",
       "  -2.0354919702342005\n",
       "   4.201859753972659\n",
       "   ⋮\n",
       "   9.219958929248218\n",
       "   0.2275527000000487\n",
       " -18.05210933265012\n",
       "  19.668151837843656\n",
       "  -9.657949769412788\n",
       "   2.3497877938772382\n",
       "   4.936125560170783\n",
       " -13.123670936089871\n",
       "  14.112697091495184"
      ]
     },
     "metadata": {},
     "output_type": "display_data"
    },
    {
     "name": "stdout",
     "output_type": "stream",
     "text": [
      "  4.033 s (6 allocations: 763.09 MiB)\n"
     ]
    }
   ],
   "source": [
    "display(@btime solver(C,f))\n",
    "display(@btime solver(D,f))"
   ]
  }
 ],
 "metadata": {
  "kernelspec": {
   "display_name": "Julia 1.9.4",
   "language": "julia",
   "name": "julia-1.9"
  },
  "language_info": {
   "file_extension": ".jl",
   "mimetype": "application/julia",
   "name": "julia",
   "version": "1.9.4"
  }
 },
 "nbformat": 4,
 "nbformat_minor": 5
}
