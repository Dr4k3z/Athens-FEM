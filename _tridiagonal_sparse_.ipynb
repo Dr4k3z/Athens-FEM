{
 "cells": [
  {
   "cell_type": "markdown",
   "id": "db30c5c4-2406-4fa1-ad6f-56fedefd07a0",
   "metadata": {},
   "source": [
    "We want to compare in computational terms Tridiagonal matrixes and Sparse matrixes with the \"\\\" solver and other solving algorithms"
   ]
  },
  {
   "cell_type": "markdown",
   "id": "618bd784-a479-4044-b0f1-7c12ee7805ce",
   "metadata": {},
   "source": [
    "In this first snippet of code we compared the \"\\\" solver with a randomized 10000x10000 matrix with the 90% of zero-elements stored as a sparse one \"A\" and as a full one \"B\". We can see that in the first case it takes 5 times more time to find the u vector, and several more bytes of memory used. "
   ]
  },
  {
   "cell_type": "code",
   "execution_count": 3,
   "id": "a65ce639-f233-450c-b163-a0214b3a3699",
   "metadata": {},
   "outputs": [
    {
     "data": {
      "text/plain": [
       "10000-element Vector{Float64}:\n",
       " -0.021687341408287406\n",
       "  0.46944385328899235\n",
       " -0.12072195669867251\n",
       " -2.444815301140367\n",
       " -0.04208179614342578\n",
       " -0.09024465672533925\n",
       " -0.43883308225588\n",
       "  1.6177562586157486\n",
       " -0.5778069923092731\n",
       " -2.0666797895714746\n",
       "  ⋮\n",
       " -0.6187286462893821\n",
       "  1.3574887985304394\n",
       " -0.417606750025359\n",
       " -0.5944257960707379\n",
       "  0.0013504531843248602\n",
       "  0.07531418376453691\n",
       " -0.9019647948666345\n",
       " -1.1574250269410453\n",
       "  1.025079034760371"
      ]
     },
     "metadata": {},
     "output_type": "display_data"
    },
    {
     "name": "stdout",
     "output_type": "stream",
     "text": [
      "  12.163 s (85 allocations: 3.81 GiB)"
     ]
    },
    {
     "data": {
      "text/plain": [
       "10000-element Vector{Float64}:\n",
       " -0.02168734135856396\n",
       "  0.4694438533039351\n",
       " -0.12072195670892877\n",
       " -2.4448153011645894\n",
       " -0.04208179614074015\n",
       " -0.09024465672983147\n",
       " -0.43883308226916207\n",
       "  1.6177562585984768\n",
       " -0.5778069923329632\n",
       " -2.0666797895278988\n",
       "  ⋮\n",
       " -0.6187286462927292\n",
       "  1.357488798538937\n",
       " -0.417606750024964\n",
       " -0.5944257960750252\n",
       "  0.0013504531731280054\n",
       "  0.07531418376834575\n",
       " -0.9019647948617265\n",
       " -1.157425026940267\n",
       "  1.025079034756626"
      ]
     },
     "metadata": {},
     "output_type": "display_data"
    },
    {
     "name": "stdout",
     "output_type": "stream",
     "text": [
      "\n",
      "  3.491 s (6 allocations: 763.09 MiB)\n"
     ]
    }
   ],
   "source": [
    "using SparseArrays\n",
    "using Plots\n",
    "using LinearSolve\n",
    "using BenchmarkTools\n",
    "using LinearAlgebra\n",
    "\n",
    "function solver(Mat,b)\n",
    "    if(size(Mat)[1]==size(Mat)[2])\n",
    "        if(size(Mat)[1]!=size(b)[1])\n",
    "            error(\"Wrong dimensions\")\n",
    "        end\n",
    "        u = Mat \\ b\n",
    "        return u::Vector{Float64}\n",
    "    else\n",
    "        error(\"It's not a square matrix\")\n",
    "    end\n",
    "end\n",
    "\n",
    "\n",
    "n = 10000;\n",
    "density = 0.1;\n",
    "f = rand(n);\n",
    "A = sprand(n, n, density);\n",
    "display(@btime solver(A,f))\n",
    "B = Matrix(A);\n",
    "display(@btime solver(B,f));"
   ]
  },
  {
   "cell_type": "markdown",
   "id": "c8212315-c5d8-493a-9e05-b41b8f1cc6cc",
   "metadata": {},
   "source": [
    "In this second snippet of code we compared the \"\\\" solver with a randomized 10000x10000 tridiagonal matrix stored as a sparse one \"C\" and as a full one \"D\". Now we see that storing the matrix as sparse led us to a way faster resolution of the problem using the base solver."
   ]
  },
  {
   "cell_type": "code",
   "execution_count": 4,
   "id": "3202350a-6007-497b-9eb4-a89a5a82d903",
   "metadata": {},
   "outputs": [
    {
     "data": {
      "text/plain": [
       "10000-element Vector{Float64}:\n",
       "  11.20452150822237\n",
       "  -5.505608649084764\n",
       "  -8.635341884164497\n",
       "  36.953786638233964\n",
       "   6.145146858873217\n",
       "  -5.212940747474744\n",
       "   1.6914036781374933\n",
       "   0.09841245554101052\n",
       "  -0.9015235907864453\n",
       "   1.915375831332687\n",
       "   ⋮\n",
       "   0.1278842218023893\n",
       "   0.4381805170804257\n",
       "   1.0931076600185878\n",
       "  -4.627641701733184\n",
       " -14.637187320311385\n",
       "   8.510075948537498\n",
       "   6.1619459688398415\n",
       " -15.212788007366823\n",
       "  16.443157023023748"
      ]
     },
     "metadata": {},
     "output_type": "display_data"
    },
    {
     "name": "stdout",
     "output_type": "stream",
     "text": [
      "  162.400 μs (14 allocations: 469.12 KiB)\n"
     ]
    },
    {
     "data": {
      "text/plain": [
       "10000-element Vector{Float64}:\n",
       "  11.204521508222376\n",
       "  -5.505608649084765\n",
       "  -8.6353418841645\n",
       "  36.95378663823397\n",
       "   6.145146858873219\n",
       "  -5.212940747474745\n",
       "   1.6914036781374915\n",
       "   0.09841245554101197\n",
       "  -0.9015235907864438\n",
       "   1.915375831332683\n",
       "   ⋮\n",
       "   0.12788422180238904\n",
       "   0.4381805170804259\n",
       "   1.093107660018589\n",
       "  -4.627641701733193\n",
       " -14.63718732031139\n",
       "   8.510075948537507\n",
       "   6.1619459688398415\n",
       " -15.212788007366829\n",
       "  16.443157023023755"
      ]
     },
     "metadata": {},
     "output_type": "display_data"
    },
    {
     "name": "stdout",
     "output_type": "stream",
     "text": [
      "  3.063 s (6 allocations: 763.09 MiB)\n"
     ]
    }
   ],
   "source": [
    "n=10000\n",
    "f = rand(n);\n",
    "\n",
    "#generating the low, high and main diagonal of a tridiagonal matrix\n",
    "hd = rand(n-1);\n",
    "ld = rand(n-1);\n",
    "d = rand(n)\n",
    "\n",
    "C = Tridiagonal(ld,d,hd)\n",
    "D = Matrix(C)\n",
    "display(@btime solver(C,f))\n",
    "display(@btime solver(D,f))"
   ]
  },
  {
   "cell_type": "markdown",
   "metadata": {},
   "source": [
    "So we can concluse that the best way to store the matrix is tridiagonal, in this way with the base solver we use less computational time."
   ]
  },
  {
   "cell_type": "markdown",
   "metadata": {},
   "source": [
    "Now we go to comparing the two solver (\\ and \"LinearSolve pakage\") with both sparse and tridiagonal matrix.\n",
    "We starting by making a function for it :  "
   ]
  },
  {
   "cell_type": "code",
   "execution_count": 9,
   "metadata": {},
   "outputs": [
    {
     "data": {
      "text/plain": [
       "solv (generic function with 2 methods)"
      ]
     },
     "metadata": {},
     "output_type": "display_data"
    }
   ],
   "source": [
    "function solv(Mat,b::Vector{Float64}) \n",
    "    if(size(Mat)[1]==size(Mat)[2])\n",
    "        if(size(Mat)[1]!=size(b)[1])\n",
    "            error(\"Wrong dimensions\")\n",
    "        end\n",
    "        prob = LinearProblem(Mat, b)\n",
    "        u = solve(prob, KrylovJL_CG())\n",
    "        return u\n",
    "    else\n",
    "        error(\"It's not a square matrix\")\n",
    "    end\n",
    "end"
   ]
  },
  {
   "cell_type": "markdown",
   "metadata": {},
   "source": [
    "triying Sparse Matrix"
   ]
  },
  {
   "cell_type": "code",
   "execution_count": 10,
   "metadata": {},
   "outputs": [
    {
     "name": "stdout",
     "output_type": "stream",
     "text": [
      "  151.051 ms (35 allocations: 392.86 KiB)\n"
     ]
    },
    {
     "data": {
      "text/plain": [
       "u: 10000-element Vector{Float64}:\n",
       "  5.596351860995606e14\n",
       " -1.7610652769752044e14\n",
       " -1.0507163417720399e15\n",
       " -9.463276573562372e14\n",
       " -1.1895396818190275e15\n",
       "  1.2551046331311982e15\n",
       " -2.1686633005469738e14\n",
       " -8.234349596359776e14\n",
       "  5.0064648211997275e14\n",
       "  9.036434187157792e14\n",
       "  ⋮\n",
       " -9.246864008557686e14\n",
       " -1.1063979565892876e15\n",
       " -8.022426845276338e14\n",
       "  1.4607306714834082e15\n",
       " -1.1074692154201142e14\n",
       "  9.474125575948461e14\n",
       " -1.338973906132104e15\n",
       "  6.393928949453266e14\n",
       " -1.2671547256976785e15"
      ]
     },
     "metadata": {},
     "output_type": "display_data"
    }
   ],
   "source": [
    "@btime u=solv(A,f)"
   ]
  },
  {
   "cell_type": "markdown",
   "metadata": {},
   "source": [
    "triying Tridiagonal Matrix"
   ]
  },
  {
   "cell_type": "code",
   "execution_count": 11,
   "metadata": {},
   "outputs": [
    {
     "name": "stdout",
     "output_type": "stream",
     "text": [
      "  230.254 ms (33 allocations: 392.70 KiB)\n"
     ]
    },
    {
     "data": {
      "text/plain": [
       "u: 10000-element Vector{Float64}:\n",
       " -5.018687362140459e14\n",
       "  1.579285268151015e14\n",
       "  9.422597000017242e14\n",
       "  8.486461845829752e14\n",
       "  1.0667534701521936e15\n",
       " -1.1255507010488245e15\n",
       "  1.9448103638817272e14\n",
       "  7.384386700686348e14\n",
       " -4.489689417542448e14\n",
       " -8.103678821551954e14\n",
       "  ⋮\n",
       "  8.292387736128538e14\n",
       "  9.921937683962685e14\n",
       "  7.194338959045034e14\n",
       " -1.309951686840606e15\n",
       "  9.931544501563395e13\n",
       " -8.496190996626424e14\n",
       "  1.2007628519171705e15\n",
       " -5.733937252354348e14\n",
       "  1.1363569635530658e15"
      ]
     },
     "metadata": {},
     "output_type": "display_data"
    }
   ],
   "source": [
    "@btime u=solv(B,f)"
   ]
  },
  {
   "cell_type": "code",
   "execution_count": null,
   "metadata": {},
   "outputs": [],
   "source": []
  }
 ],
 "metadata": {
  "kernelspec": {
   "display_name": "Julia 1.9.4",
   "language": "julia",
   "name": "julia-1.9"
  },
  "language_info": {
   "file_extension": ".jl",
   "mimetype": "application/julia",
   "name": "julia",
   "version": "1.9.4"
  }
 },
 "nbformat": 4,
 "nbformat_minor": 5
}
