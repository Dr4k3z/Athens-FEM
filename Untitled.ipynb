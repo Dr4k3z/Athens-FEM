{
 "cells": [
  {
   "cell_type": "code",
   "execution_count": null,
   "id": "794eb32e-1229-4947-b256-f7a7c0641f58",
   "metadata": {},
   "outputs": [],
   "source": [
    "using DifferentialEquations\n",
    "using Plots\n",
    "using LaTeXStrings\n",
    "using Symbolics\n",
    "\n",
    "F = 1\n",
    "M(x) = F*(1-x) #momentum\n",
    "\n",
    "uEx(x) = -1/EJ .* M(x).*x.^2/2\n",
    "uEx2(x) = -F/EJ * (0.5*x.^2-x.^3/6)\n",
    "\n",
    "E(x) = x^2\n",
    "Ep(x) = 2*x\n",
    "Es(x) = 2\n",
    "I(x) = x^2\n",
    "Ip(x) = 2*x\n",
    "Is(x) = 2\n",
    "\n",
    "a(x) = (Es(x)*I(x) + 2*Ep(x)*Ip(x) + E(x)*Is(x))\n",
    "b(x) = 2*(Ep(x)*I(x)+E(x)*Ip(x))\n",
    "c(x) = E(x)*I(x)\n",
    "\n",
    "function beamEqt!(du,u,p,x)\n",
    "    du[1] = u[2]\n",
    "    du[2] = u[3]\n",
    "    du[3] = u[4]\n",
    "    du[4] = (M(x) - a(x)*u[3] - b(x)*u[4])\n",
    "end\n",
    "\n",
    "function bc!(residual,u,p,x)\n",
    "    residual[1] = u[1][1]\n",
    "    residual[2] = u[2][1]\n",
    "end\n",
    "\n",
    "x = range(0,1,100)\n",
    "xspan = (0,1)\n",
    "bvp = BVProblem(beamEqt!, bc!, [0,0,0,0], xspan)\n",
    "sol = solve(bvp, BS3(), dt = 0.005)\n",
    "\n",
    "plot(sol,title=\"Beam deflection\",xaxis=\"x\")"
   ]
  },
  {
   "cell_type": "code",
   "execution_count": null,
   "id": "6270fb8b-ff73-450e-842a-87675e1f8a60",
   "metadata": {},
   "outputs": [],
   "source": []
  }
 ],
 "metadata": {
  "kernelspec": {
   "display_name": "Julia 1.8.2",
   "language": "julia",
   "name": "julia-1.8"
  },
  "language_info": {
   "file_extension": ".jl",
   "mimetype": "application/julia",
   "name": "julia",
   "version": "1.8.2"
  }
 },
 "nbformat": 4,
 "nbformat_minor": 5
}
