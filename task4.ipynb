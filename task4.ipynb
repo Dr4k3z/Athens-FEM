{
 "cells": [
  {
   "cell_type": "code",
   "execution_count": 68,
   "metadata": {},
   "outputs": [],
   "source": [
    "using LinearAlgebra\n",
    "using SparseArrays \n",
    "using StructArrays\n",
    "using StaticArrays\n",
    "using StaticRanges\n",
    "using FastGaussQuadrature\n",
    "\n",
    "using IterativeSolvers\n",
    "using Preconditioners\n",
    "\n",
    "using BenchmarkTools\n",
    "using Profile\n",
    "using ProfileView\n",
    "\n",
    "using Plots "
   ]
  },
  {
   "cell_type": "code",
   "execution_count": 69,
   "metadata": {},
   "outputs": [],
   "source": [
    "# struct to hold a single mesh element\n",
    "# all the members of the struct should be concrete type \n",
    "struct Element\n",
    "    p1::Float64    # coordinate left-most node\n",
    "    p2::Float64    # coordinate right-most node\n",
    "    e1::Int64      # global index left-most node\n",
    "    e2::Int64      # global index right-most node\n",
    "    area::Float64  # area of the element \n",
    "  end\n",
    "  \n",
    "  # struct to hold entire mesh\n",
    "  struct Mesh\n",
    "    nnodes::Int64\n",
    "    nelements::Int64 \n",
    "    # specify one-dimensional array of elements as an array of structs. \n",
    "    # we worry about using structArray (if as all) later. \n",
    "    Elements::Array{Element,1}\n",
    "    bndNodeIds::Vector{Int64}\n",
    "    dofPerElement::Int64       \n",
    "  end "
   ]
  },
  {
   "cell_type": "code",
   "execution_count": 70,
   "metadata": {},
   "outputs": [
    {
     "data": {
      "text/plain": [
       "genMesh (generic function with 1 method)"
      ]
     },
     "metadata": {},
     "output_type": "display_data"
    }
   ],
   "source": [
    "# function to generate a mesh on the interval 0 <= x <= 1.   \n",
    "# we limit the type of input to be Int64 \n",
    "function genMesh(nelements::Int64)::Mesh\n",
    "    h = 1/nelements \n",
    "    nnodes = nelements+1\n",
    "    dofPerElement = 2 \n",
    "    x = Vector{Float64}(1:h:2)    \n",
    "    # what does the undef do here? \n",
    "    Elements = Array{Element,1}(undef,nelements)\n",
    "    for i in 1:nelements\n",
    "        Elements[i] = Element(x[i],x[i+1],i,i+1,x[i+1]-x[i])\n",
    "    end\n",
    "    mesh = Mesh(nnodes,nelements,Elements,[1,nelements+1],dofPerElement)     \n",
    "    return mesh;\n",
    "end \n",
    "\n",
    "#mesh = genMesh(4)"
   ]
  },
  {
   "cell_type": "code",
   "execution_count": 71,
   "metadata": {},
   "outputs": [
    {
     "data": {
      "text/plain": [
       "genStiffMat (generic function with 1 method)"
      ]
     },
     "metadata": {},
     "output_type": "display_data"
    }
   ],
   "source": [
    "\n",
    "\n",
    "\n",
    "# generates local stiffness matrix \n",
    "function genLocStiffMat(element::Element, densityFunc)\n",
    "    h     = element.area \n",
    "    e1    = element.e1\n",
    "    e2    = element.e2\n",
    "    Iloc  = SVector(e1, e1, e2, e2) \n",
    "    Jloc  = SVector(e1, e2, e1, e2) \n",
    "    \n",
    "    p1 = element.p1\n",
    "    p2 = element.p2\n",
    "    c_avg = (densityFunc(p1) + densityFunc(p2)) / 2\n",
    "\n",
    "    Aloc  = SVector(c_avg/h, -c_avg/h, -c_avg/h, c_avg/h) \n",
    "    return Iloc, Jloc, Aloc\n",
    "end\n",
    "\n",
    "# generate global stiffness matrix \n",
    "function genStiffMat(mesh::Mesh, densityFunc::C) where C\n",
    "    \n",
    "    #..recover number of elements  \n",
    "    nelements = mesh.nelements\n",
    "    dofperelem = 4; \n",
    "    \n",
    "    #..preallocate the memory for local matrix contributions \n",
    "    Avalues = zeros(Float64,dofperelem*nelements)\n",
    "    I = zeros(Int64,length(Avalues))\n",
    "    J = zeros(Int64,length(Avalues))\n",
    "\n",
    "    for i = 1:nelements #..loop over number of elements..\n",
    "        element = mesh.Elements[i]\n",
    "        Iloc, Jloc, Aloc = genLocStiffMat(element, densityFunc) \n",
    "        irng = mrange(dofperelem*i-dofperelem + 1,dofperelem*i) \n",
    "        I[irng] .= Iloc \n",
    "        J[irng] .= Jloc \n",
    "        Avalues[irng] .= Aloc         \n",
    "    end\n",
    "    \n",
    "    A = sparse(I,J,Avalues)\n",
    "\n",
    "    #Dirichlet BC on left node\n",
    "    #A[mesh.bndNodeIds[1],1] = 1.\n",
    "    #A[mesh.bndNodeIds[1],2] = 0.\n",
    "    #Neumann BC on right node - no need to change the matrix\n",
    "    #print(A)\n",
    "    return A; \n",
    "end\n",
    "     \n",
    "#A = genStiffMat(mesh)\n",
    "#println(A)"
   ]
  },
  {
   "cell_type": "code",
   "execution_count": 72,
   "metadata": {},
   "outputs": [
    {
     "data": {
      "text/plain": [
       "([-0.7745966692414834, 0.0, 0.7745966692414834], [0.5555555555555556, 0.8888888888888888, 0.5555555555555556])"
      ]
     },
     "metadata": {},
     "output_type": "display_data"
    }
   ],
   "source": [
    "function calcShapeFuncCoeff(degree)\n",
    "    numpoints = degree + 1\n",
    "    points = Vector(LinRange(-1,1,numpoints))\n",
    "    points\n",
    "    coeffs = zeros(Float64,numpoints,numpoints)\n",
    "    x,w = gausslegendre(numpoints)\n",
    "end\n",
    "1000\n",
    "calcShapeFuncCoeff(2)"
   ]
  },
  {
   "cell_type": "code",
   "execution_count": 73,
   "metadata": {},
   "outputs": [
    {
     "data": {
      "text/plain": [
       "genVector (generic function with 1 method)"
      ]
     },
     "metadata": {},
     "output_type": "display_data"
    }
   ],
   "source": [
    "function genLocVec(element, sourceFct)\n",
    "    h = element.area \n",
    "    Iloc = SVector(element.e1, element.e2)\n",
    "    floc = (h/2)*SVector(sourceFct(element.p1), sourceFct(element.p2))\n",
    "    return Iloc, floc\n",
    "end\n",
    "\n",
    "function genVector(mesh, sourceFct::F) where F \n",
    "    \n",
    "    #..recover number of elements  \n",
    "    nelements = mesh.nelements \n",
    "    nnodes = mesh.nnodes \n",
    "    \n",
    "    #..initialize global vector  \n",
    "    f = zeros(Float64,nnodes)\n",
    "\n",
    "    for i = 1:nelements #..loop over number of elements..\n",
    "        element = mesh.Elements[i]\n",
    "        Iloc, floc = genLocVec(element,sourceFct) \n",
    "        f[Iloc] .+= floc          \n",
    "    end\n",
    "\n",
    "    #Boundary conditions\n",
    "    #f[mesh.bndNodeIds[1]] = 0.\n",
    "    #f[mesh.bndNodeIds[2]] = 0.\n",
    "   \n",
    "    return f; \n",
    "end\n",
    "\n",
    "#f = genVector(mesh,fsource)\n",
    "#println(f)\n",
    "     "
   ]
  },
  {
   "cell_type": "code",
   "execution_count": 74,
   "metadata": {},
   "outputs": [
    {
     "data": {
      "text/plain": [
       "genMassMat (generic function with 1 method)"
      ]
     },
     "metadata": {},
     "output_type": "display_data"
    }
   ],
   "source": [
    "# generates local mass matrix \n",
    "function genLocMassMat(element::Element)\n",
    "    h     = element.area \n",
    "    e1    = element.e1\n",
    "    e2    = element.e2\n",
    "    Iloc  = SVector(e1, e1, e2, e2) \n",
    "    Jloc  = SVector(e1, e2, e1, e2) \n",
    "    Aloc  = SVector(h/3 , h/6, h/6, h/3) \n",
    "    return Iloc, Jloc, Aloc\n",
    "end\n",
    "\n",
    "# generate global mass matrix \n",
    "function genMassMat(mesh::Mesh)\n",
    "    \n",
    "    #..recover number of elements  \n",
    "    nelements = mesh.nelements\n",
    "    dofperelem = 4\n",
    "    \n",
    "    #..preallocate the memory for local matrix contributions \n",
    "    Avalues = zeros(Float64,dofperelem*nelements)\n",
    "    I = zeros(Int64,length(Avalues))\n",
    "    J = zeros(Int64,length(Avalues))\n",
    "\n",
    "    for i = 1:nelements #..loop over number of elements..\n",
    "        element = mesh.Elements[i]\n",
    "        Iloc, Jloc, Aloc = genLocMassMat(element) \n",
    "        irng = mrange(dofperelem*i - dofperelem + 1,dofperelem*i) \n",
    "        I[irng] .= Iloc \n",
    "        J[irng] .= Jloc \n",
    "        Avalues[irng] .= Aloc         \n",
    "    end\n",
    "    \n",
    "    A = sparse(I,J,Avalues)\n",
    "\n",
    "    #A[mesh.bndNodeIds[1],1] = 0.\n",
    "    #A[mesh.bndNodeIds[1],2] = 0.\n",
    "    #A[mesh.bndNodeIds[2],1] = 1.\n",
    "    #A[mesh.bndNodeIds[2],end] = 0.\n",
    "\n",
    "    #print(A)\n",
    "    return A; \n",
    "end\n",
    "#mesh = genMesh(4)\n",
    "#genMassMat(mesh)"
   ]
  },
  {
   "cell_type": "code",
   "execution_count": 87,
   "metadata": {},
   "outputs": [
    {
     "name": "stdout",
     "output_type": "stream",
     "text": [
      "sparse([1, 2, 1, 2, 3, 2, 3, 4, 3, 4, 5, 4, 5], [1, 1, 2, 2, 2, 3, 3, 3, 4, 4, 4, 5, 5], [4.5, -4.5, -4.5, 10.0, -5.5, -5.5, 12.0, -6.5, -6.5, 14.0, -7.5, -7.5, 7.5], 5, 5)\n",
      "sparse([1, 2, 1, 2, 3, 2, 3, 4, 3, 4, 5, 4, 5], [1, 1, 2, 2, 2, 3, 3, 3, 4, 4, 4, 5, 5], [0.08333333333333333, 0.041666666666666664, 0.041666666666666664, 0.16666666666666666, 0.041666666666666664, 0.041666666666666664, 0.16666666666666666, 0.041666666666666664, 0.041666666666666664, 0.16666666666666666, 0.041666666666666664, 0.041666666666666664, 0.08333333333333333], 5, 5)\n",
      "[-0.125, -0.25, -0.25, -0.25, -0.125]\n",
      "sparse([1, 2, 1, 2, 3, 2, 3, 4, 3, 4, 5, 4, 5], [1, 1, 2, 2, 2, 3, 3, 3, 4, 4, 4, 5, 5], [1.0, -4.458333333333333, 0.0, 10.166666666666666, -5.458333333333333, -5.458333333333333, 12.166666666666666, -6.458333333333333, -6.458333333333333, 14.166666666666666, -7.458333333333333, -7.458333333333333, 7.583333333333333], 5, 5)\n",
      "1648.7021152826014\n",
      "-0.3778992949728593"
     ]
    },
    {
     "data": {
      "image/png": "[encoded data removed]",
      "image/svg+xml": [
       "<?xml version=\"1.0\" encoding=\"utf-8\"?>\n",
       "<svg xmlns=\"http://www.w3.org/2000/svg\" xmlns:xlink=\"http://www.w3.org/1999/xlink\" width=\"600\" height=\"400\" viewBox=\"0 0 2400 1600\">\n",
       "<defs>\n",
       "  <clipPath id=\"clip170\">\n",
       "    <rect x=\"0\" y=\"0\" width=\"2400\" height=\"1600\"/>\n",
       "  </clipPath>\n",
       "</defs>\n",
       "<path clip-path=\"url(#clip170)\" d=\"M0 1600 L2400 1600 L2400 0 L0 0  Z\" fill=\"#ffffff\" fill-rule=\"evenodd\" fill-opacity=\"1\"/>\n",
       "<defs>\n",
       "  <clipPath id=\"clip171\">\n",
       "    <rect x=\"480\" y=\"0\" width=\"1681\" height=\"1600\"/>\n",
       "  </clipPath>\n",
       "</defs>\n",
       "<path clip-path=\"url(#clip170)\" d=\"M224.098 1486.45 L2352.76 1486.45 L2352.76 47.2441 L224.098 47.2441  Z\" fill=\"#ffffff\" fill-rule=\"evenodd\" fill-opacity=\"1\"/>\n",
       "<defs>\n",
       "  <clipPath id=\"clip172\">\n",
       "    <rect x=\"224\" y=\"47\" width=\"2130\" height=\"1440\"/>\n",
       "  </clipPath>\n",
       "</defs>\n",
       "<polyline clip-path=\"url(#clip172)\" style=\"stroke:#000000; stroke-linecap:round; stroke-linejoin:round; stroke-width:2; stroke-opacity:0.1; fill:none\" points=\"284.343,1486.45 284.343,47.2441 \"/>\n",
       "<polyline clip-path=\"url(#clip172)\" style=\"stroke:#000000; stroke-linecap:round; stroke-linejoin:round; stroke-width:2; stroke-opacity:0.1; fill:none\" points=\"786.385,1486.45 786.385,47.2441 \"/>\n",
       "<polyline clip-path=\"url(#clip172)\" style=\"stroke:#000000; stroke-linecap:round; stroke-linejoin:round; stroke-width:2; stroke-opacity:0.1; fill:none\" points=\"1288.43,1486.45 1288.43,47.2441 \"/>\n",
       "<polyline clip-path=\"url(#clip172)\" style=\"stroke:#000000; stroke-linecap:round; stroke-linejoin:round; stroke-width:2; stroke-opacity:0.1; fill:none\" points=\"1790.47,1486.45 1790.47,47.2441 \"/>\n",
       "<polyline clip-path=\"url(#clip172)\" style=\"stroke:#000000; stroke-linecap:round; stroke-linejoin:round; stroke-width:2; stroke-opacity:0.1; fill:none\" points=\"2292.51,1486.45 2292.51,47.2441 \"/>\n",
       "<polyline clip-path=\"url(#clip170)\" style=\"stroke:#000000; stroke-linecap:round; stroke-linejoin:round; stroke-width:4; stroke-opacity:1; fill:none\" points=\"224.098,1486.45 2352.76,1486.45 \"/>\n",
       "<polyline clip-path=\"url(#clip170)\" style=\"stroke:#000000; stroke-linecap:round; stroke-linejoin:round; stroke-width:4; stroke-opacity:1; fill:none\" points=\"284.343,1486.45 284.343,1467.55 \"/>\n",
       "<polyline clip-path=\"url(#clip170)\" style=\"stroke:#000000; stroke-linecap:round; stroke-linejoin:round; stroke-width:4; stroke-opacity:1; fill:none\" points=\"786.385,1486.45 786.385,1467.55 \"/>\n",
       "<polyline clip-path=\"url(#clip170)\" style=\"stroke:#000000; stroke-linecap:round; stroke-linejoin:round; stroke-width:4; stroke-opacity:1; fill:none\" points=\"1288.43,1486.45 1288.43,1467.55 \"/>\n",
       "<polyline clip-path=\"url(#clip170)\" style=\"stroke:#000000; stroke-linecap:round; stroke-linejoin:round; stroke-width:4; stroke-opacity:1; fill:none\" points=\"1790.47,1486.45 1790.47,1467.55 \"/>\n",
       "<polyline clip-path=\"url(#clip170)\" style=\"stroke:#000000; stroke-linecap:round; stroke-linejoin:round; stroke-width:4; stroke-opacity:1; fill:none\" points=\"2292.51,1486.45 2292.51,1467.55 \"/>\n",
       "<path clip-path=\"url(#clip170)\" d=\"M274.725 1544.91 L282.364 1544.91 L282.364 1518.55 L274.054 1520.21 L274.054 1515.95 L282.317 1514.29 L286.993 1514.29 L286.993 1544.91 L294.632 1544.91 L294.632 1548.85 L274.725 1548.85 L274.725 1544.91 Z\" fill=\"#000000\" fill-rule=\"nonzero\" fill-opacity=\"1\" /><path clip-path=\"url(#clip170)\" d=\"M781.038 1544.91 L797.357 1544.91 L797.357 1548.85 L775.413 1548.85 L775.413 1544.91 Q778.075 1542.16 782.658 1537.53 Q787.265 1532.88 788.445 1531.53 Q790.69 1529.01 791.57 1527.27 Q792.473 1525.51 792.473 1523.82 Q792.473 1521.07 790.528 1519.33 Q788.607 1517.6 785.505 1517.6 Q783.306 1517.6 780.853 1518.36 Q778.422 1519.13 775.644 1520.68 L775.644 1515.95 Q778.468 1514.82 780.922 1514.24 Q783.376 1513.66 785.413 1513.66 Q790.783 1513.66 793.977 1516.35 Q797.172 1519.03 797.172 1523.52 Q797.172 1525.65 796.362 1527.57 Q795.575 1529.47 793.468 1532.07 Q792.889 1532.74 789.788 1535.95 Q786.686 1539.15 781.038 1544.91 Z\" fill=\"#000000\" fill-rule=\"nonzero\" fill-opacity=\"1\" /><path clip-path=\"url(#clip170)\" d=\"M1292.67 1530.21 Q1296.03 1530.93 1297.91 1533.2 Q1299.8 1535.47 1299.8 1538.8 Q1299.8 1543.92 1296.29 1546.72 Q1292.77 1549.52 1286.29 1549.52 Q1284.11 1549.52 1281.79 1549.08 Q1279.5 1548.66 1277.05 1547.81 L1277.05 1543.29 Q1278.99 1544.43 1281.31 1545.01 Q1283.62 1545.58 1286.15 1545.58 Q1290.54 1545.58 1292.84 1543.85 Q1295.15 1542.11 1295.15 1538.8 Q1295.15 1535.75 1293 1534.03 Q1290.87 1532.3 1287.05 1532.3 L1283.02 1532.3 L1283.02 1528.45 L1287.23 1528.45 Q1290.68 1528.45 1292.51 1527.09 Q1294.34 1525.7 1294.34 1523.11 Q1294.34 1520.45 1292.44 1519.03 Q1290.57 1517.6 1287.05 1517.6 Q1285.13 1517.6 1282.93 1518.01 Q1280.73 1518.43 1278.09 1519.31 L1278.09 1515.14 Q1280.75 1514.4 1283.07 1514.03 Q1285.41 1513.66 1287.47 1513.66 Q1292.79 1513.66 1295.89 1516.09 Q1298.99 1518.5 1298.99 1522.62 Q1298.99 1525.49 1297.35 1527.48 Q1295.71 1529.45 1292.67 1530.21 Z\" fill=\"#000000\" fill-rule=\"nonzero\" fill-opacity=\"1\" /><path clip-path=\"url(#clip170)\" d=\"M1793.48 1518.36 L1781.67 1536.81 L1793.48 1536.81 L1793.48 1518.36 M1792.25 1514.29 L1798.13 1514.29 L1798.13 1536.81 L1803.06 1536.81 L1803.06 1540.7 L1798.13 1540.7 L1798.13 1548.85 L1793.48 1548.85 L1793.48 1540.7 L1777.88 1540.7 L1777.88 1536.19 L1792.25 1514.29 Z\" fill=\"#000000\" fill-rule=\"nonzero\" fill-opacity=\"1\" /><path clip-path=\"url(#clip170)\" d=\"M2282.79 1514.29 L2301.15 1514.29 L2301.15 1518.22 L2287.07 1518.22 L2287.07 1526.7 Q2288.09 1526.35 2289.11 1526.19 Q2290.13 1526 2291.15 1526 Q2296.93 1526 2300.31 1529.17 Q2303.69 1532.34 2303.69 1537.76 Q2303.69 1543.34 2300.22 1546.44 Q2296.75 1549.52 2290.43 1549.52 Q2288.25 1549.52 2285.98 1549.15 Q2283.74 1548.78 2281.33 1548.04 L2281.33 1543.34 Q2283.41 1544.47 2285.64 1545.03 Q2287.86 1545.58 2290.33 1545.58 Q2294.34 1545.58 2296.68 1543.48 Q2299.02 1541.37 2299.02 1537.76 Q2299.02 1534.15 2296.68 1532.04 Q2294.34 1529.94 2290.33 1529.94 Q2288.46 1529.94 2286.58 1530.35 Q2284.73 1530.77 2282.79 1531.65 L2282.79 1514.29 Z\" fill=\"#000000\" fill-rule=\"nonzero\" fill-opacity=\"1\" /><polyline clip-path=\"url(#clip172)\" style=\"stroke:#000000; stroke-linecap:round; stroke-linejoin:round; stroke-width:2; stroke-opacity:0.1; fill:none\" points=\"224.098,1295.93 2352.76,1295.93 \"/>\n",
       "<polyline clip-path=\"url(#clip172)\" style=\"stroke:#000000; stroke-linecap:round; stroke-linejoin:round; stroke-width:2; stroke-opacity:0.1; fill:none\" points=\"224.098,1027.5 2352.76,1027.5 \"/>\n",
       "<polyline clip-path=\"url(#clip172)\" style=\"stroke:#000000; stroke-linecap:round; stroke-linejoin:round; stroke-width:2; stroke-opacity:0.1; fill:none\" points=\"224.098,759.063 2352.76,759.063 \"/>\n",
       "<polyline clip-path=\"url(#clip172)\" style=\"stroke:#000000; stroke-linecap:round; stroke-linejoin:round; stroke-width:2; stroke-opacity:0.1; fill:none\" points=\"224.098,490.628 2352.76,490.628 \"/>\n",
       "<polyline clip-path=\"url(#clip172)\" style=\"stroke:#000000; stroke-linecap:round; stroke-linejoin:round; stroke-width:2; stroke-opacity:0.1; fill:none\" points=\"224.098,222.194 2352.76,222.194 \"/>\n",
       "<polyline clip-path=\"url(#clip170)\" style=\"stroke:#000000; stroke-linecap:round; stroke-linejoin:round; stroke-width:4; stroke-opacity:1; fill:none\" points=\"224.098,1486.45 224.098,47.2441 \"/>\n",
       "<polyline clip-path=\"url(#clip170)\" style=\"stroke:#000000; stroke-linecap:round; stroke-linejoin:round; stroke-width:4; stroke-opacity:1; fill:none\" points=\"224.098,1295.93 242.996,1295.93 \"/>\n",
       "<polyline clip-path=\"url(#clip170)\" style=\"stroke:#000000; stroke-linecap:round; stroke-linejoin:round; stroke-width:4; stroke-opacity:1; fill:none\" points=\"224.098,1027.5 242.996,1027.5 \"/>\n",
       "<polyline clip-path=\"url(#clip170)\" style=\"stroke:#000000; stroke-linecap:round; stroke-linejoin:round; stroke-width:4; stroke-opacity:1; fill:none\" points=\"224.098,759.063 242.996,759.063 \"/>\n",
       "<polyline clip-path=\"url(#clip170)\" style=\"stroke:#000000; stroke-linecap:round; stroke-linejoin:round; stroke-width:4; stroke-opacity:1; fill:none\" points=\"224.098,490.628 242.996,490.628 \"/>\n",
       "<polyline clip-path=\"url(#clip170)\" style=\"stroke:#000000; stroke-linecap:round; stroke-linejoin:round; stroke-width:4; stroke-opacity:1; fill:none\" points=\"224.098,222.194 242.996,222.194 \"/>\n",
       "<path clip-path=\"url(#clip170)\" d=\"M51.9875 1296.38 L81.6633 1296.38 L81.6633 1300.32 L51.9875 1300.32 L51.9875 1296.38 Z\" fill=\"#000000\" fill-rule=\"nonzero\" fill-opacity=\"1\" /><path clip-path=\"url(#clip170)\" d=\"M101.756 1281.73 Q98.1447 1281.73 96.316 1285.3 Q94.5104 1288.84 94.5104 1295.97 Q94.5104 1303.07 96.316 1306.64 Q98.1447 1310.18 101.756 1310.18 Q105.39 1310.18 107.196 1306.64 Q109.024 1303.07 109.024 1295.97 Q109.024 1288.84 107.196 1285.3 Q105.39 1281.73 101.756 1281.73 M101.756 1278.03 Q107.566 1278.03 110.621 1282.63 Q113.7 1287.22 113.7 1295.97 Q113.7 1304.69 110.621 1309.3 Q107.566 1313.88 101.756 1313.88 Q95.9456 1313.88 92.8669 1309.3 Q89.8114 1304.69 89.8114 1295.97 Q89.8114 1287.22 92.8669 1282.63 Q95.9456 1278.03 101.756 1278.03 Z\" fill=\"#000000\" fill-rule=\"nonzero\" fill-opacity=\"1\" /><path clip-path=\"url(#clip170)\" d=\"M121.918 1307.33 L126.802 1307.33 L126.802 1313.21 L121.918 1313.21 L121.918 1307.33 Z\" fill=\"#000000\" fill-rule=\"nonzero\" fill-opacity=\"1\" /><path clip-path=\"url(#clip170)\" d=\"M151.154 1294.58 Q154.51 1295.3 156.385 1297.56 Q158.283 1299.83 158.283 1303.17 Q158.283 1308.28 154.765 1311.08 Q151.246 1313.88 144.765 1313.88 Q142.589 1313.88 140.274 1313.44 Q137.982 1313.03 135.529 1312.17 L135.529 1307.66 Q137.473 1308.79 139.788 1309.37 Q142.103 1309.95 144.626 1309.95 Q149.024 1309.95 151.316 1308.21 Q153.63 1306.48 153.63 1303.17 Q153.63 1300.11 151.478 1298.4 Q149.348 1296.66 145.529 1296.66 L141.501 1296.66 L141.501 1292.82 L145.714 1292.82 Q149.163 1292.82 150.992 1291.45 Q152.82 1290.06 152.82 1287.47 Q152.82 1284.81 150.922 1283.4 Q149.047 1281.96 145.529 1281.96 Q143.607 1281.96 141.408 1282.38 Q139.209 1282.8 136.57 1283.68 L136.57 1279.51 Q139.232 1278.77 141.547 1278.4 Q143.885 1278.03 145.945 1278.03 Q151.269 1278.03 154.371 1280.46 Q157.473 1282.87 157.473 1286.99 Q157.473 1289.86 155.83 1291.85 Q154.186 1293.81 151.154 1294.58 Z\" fill=\"#000000\" fill-rule=\"nonzero\" fill-opacity=\"1\" /><path clip-path=\"url(#clip170)\" d=\"M167.195 1278.65 L185.552 1278.65 L185.552 1282.59 L171.478 1282.59 L171.478 1291.06 Q172.496 1290.71 173.515 1290.55 Q174.533 1290.37 175.552 1290.37 Q181.339 1290.37 184.718 1293.54 Q188.098 1296.71 188.098 1302.12 Q188.098 1307.7 184.626 1310.81 Q181.153 1313.88 174.834 1313.88 Q172.658 1313.88 170.39 1313.51 Q168.144 1313.14 165.737 1312.4 L165.737 1307.7 Q167.82 1308.84 170.042 1309.39 Q172.265 1309.95 174.741 1309.95 Q178.746 1309.95 181.084 1307.84 Q183.422 1305.74 183.422 1302.12 Q183.422 1298.51 181.084 1296.41 Q178.746 1294.3 174.741 1294.3 Q172.866 1294.3 170.991 1294.72 Q169.14 1295.13 167.195 1296.01 L167.195 1278.65 Z\" fill=\"#000000\" fill-rule=\"nonzero\" fill-opacity=\"1\" /><path clip-path=\"url(#clip170)\" d=\"M50.9921 1027.95 L80.6679 1027.95 L80.6679 1031.88 L50.9921 1031.88 L50.9921 1027.95 Z\" fill=\"#000000\" fill-rule=\"nonzero\" fill-opacity=\"1\" /><path clip-path=\"url(#clip170)\" d=\"M100.76 1013.3 Q97.1493 1013.3 95.3206 1016.86 Q93.515 1020.4 93.515 1027.53 Q93.515 1034.64 95.3206 1038.2 Q97.1493 1041.75 100.76 1041.75 Q104.395 1041.75 106.2 1038.2 Q108.029 1034.64 108.029 1027.53 Q108.029 1020.4 106.2 1016.86 Q104.395 1013.3 100.76 1013.3 M100.76 1009.59 Q106.571 1009.59 109.626 1014.2 Q112.705 1018.78 112.705 1027.53 Q112.705 1036.26 109.626 1040.87 Q106.571 1045.45 100.76 1045.45 Q94.9502 1045.45 91.8715 1040.87 Q88.816 1036.26 88.816 1027.53 Q88.816 1018.78 91.8715 1014.2 Q94.9502 1009.59 100.76 1009.59 Z\" fill=\"#000000\" fill-rule=\"nonzero\" fill-opacity=\"1\" /><path clip-path=\"url(#clip170)\" d=\"M120.922 1038.9 L125.807 1038.9 L125.807 1044.78 L120.922 1044.78 L120.922 1038.9 Z\" fill=\"#000000\" fill-rule=\"nonzero\" fill-opacity=\"1\" /><path clip-path=\"url(#clip170)\" d=\"M150.158 1026.14 Q153.515 1026.86 155.39 1029.13 Q157.288 1031.4 157.288 1034.73 Q157.288 1039.85 153.769 1042.65 Q150.251 1045.45 143.769 1045.45 Q141.593 1045.45 139.279 1045.01 Q136.987 1044.59 134.533 1043.74 L134.533 1039.22 Q136.478 1040.36 138.793 1040.94 Q141.107 1041.51 143.631 1041.51 Q148.029 1041.51 150.32 1039.78 Q152.635 1038.04 152.635 1034.73 Q152.635 1031.68 150.482 1029.96 Q148.353 1028.23 144.533 1028.23 L140.506 1028.23 L140.506 1024.38 L144.718 1024.38 Q148.168 1024.38 149.996 1023.02 Q151.825 1021.63 151.825 1019.04 Q151.825 1016.38 149.927 1014.96 Q148.052 1013.53 144.533 1013.53 Q142.612 1013.53 140.413 1013.94 Q138.214 1014.36 135.575 1015.24 L135.575 1011.07 Q138.237 1010.33 140.552 1009.96 Q142.89 1009.59 144.95 1009.59 Q150.274 1009.59 153.376 1012.02 Q156.478 1014.43 156.478 1018.55 Q156.478 1021.42 154.834 1023.41 Q153.191 1025.38 150.158 1026.14 Z\" fill=\"#000000\" fill-rule=\"nonzero\" fill-opacity=\"1\" /><path clip-path=\"url(#clip170)\" d=\"M176.153 1013.3 Q172.542 1013.3 170.714 1016.86 Q168.908 1020.4 168.908 1027.53 Q168.908 1034.64 170.714 1038.2 Q172.542 1041.75 176.153 1041.75 Q179.788 1041.75 181.593 1038.2 Q183.422 1034.64 183.422 1027.53 Q183.422 1020.4 181.593 1016.86 Q179.788 1013.3 176.153 1013.3 M176.153 1009.59 Q181.964 1009.59 185.019 1014.2 Q188.098 1018.78 188.098 1027.53 Q188.098 1036.26 185.019 1040.87 Q181.964 1045.45 176.153 1045.45 Q170.343 1045.45 167.265 1040.87 Q164.209 1036.26 164.209 1027.53 Q164.209 1018.78 167.265 1014.2 Q170.343 1009.59 176.153 1009.59 Z\" fill=\"#000000\" fill-rule=\"nonzero\" fill-opacity=\"1\" /><path clip-path=\"url(#clip170)\" d=\"M51.9875 759.515 L81.6633 759.515 L81.6633 763.45 L51.9875 763.45 L51.9875 759.515 Z\" fill=\"#000000\" fill-rule=\"nonzero\" fill-opacity=\"1\" /><path clip-path=\"url(#clip170)\" d=\"M101.756 744.862 Q98.1447 744.862 96.316 748.427 Q94.5104 751.968 94.5104 759.098 Q94.5104 766.204 96.316 769.769 Q98.1447 773.311 101.756 773.311 Q105.39 773.311 107.196 769.769 Q109.024 766.204 109.024 759.098 Q109.024 751.968 107.196 748.427 Q105.39 744.862 101.756 744.862 M101.756 741.158 Q107.566 741.158 110.621 745.765 Q113.7 750.348 113.7 759.098 Q113.7 767.825 110.621 772.431 Q107.566 777.015 101.756 777.015 Q95.9456 777.015 92.8669 772.431 Q89.8114 767.825 89.8114 759.098 Q89.8114 750.348 92.8669 745.765 Q95.9456 741.158 101.756 741.158 Z\" fill=\"#000000\" fill-rule=\"nonzero\" fill-opacity=\"1\" /><path clip-path=\"url(#clip170)\" d=\"M121.918 770.464 L126.802 770.464 L126.802 776.343 L121.918 776.343 L121.918 770.464 Z\" fill=\"#000000\" fill-rule=\"nonzero\" fill-opacity=\"1\" /><path clip-path=\"url(#clip170)\" d=\"M141.015 772.408 L157.334 772.408 L157.334 776.343 L135.39 776.343 L135.39 772.408 Q138.052 769.653 142.635 765.024 Q147.242 760.371 148.422 759.029 Q150.668 756.505 151.547 754.769 Q152.45 753.01 152.45 751.32 Q152.45 748.566 150.505 746.83 Q148.584 745.093 145.482 745.093 Q143.283 745.093 140.83 745.857 Q138.399 746.621 135.621 748.172 L135.621 743.45 Q138.445 742.316 140.899 741.737 Q143.353 741.158 145.39 741.158 Q150.76 741.158 153.955 743.843 Q157.149 746.529 157.149 751.019 Q157.149 753.149 156.339 755.07 Q155.552 756.968 153.445 759.561 Q152.867 760.232 149.765 763.45 Q146.663 766.644 141.015 772.408 Z\" fill=\"#000000\" fill-rule=\"nonzero\" fill-opacity=\"1\" /><path clip-path=\"url(#clip170)\" d=\"M167.195 741.783 L185.552 741.783 L185.552 745.718 L171.478 745.718 L171.478 754.191 Q172.496 753.843 173.515 753.681 Q174.533 753.496 175.552 753.496 Q181.339 753.496 184.718 756.667 Q188.098 759.839 188.098 765.255 Q188.098 770.834 184.626 773.936 Q181.153 777.015 174.834 777.015 Q172.658 777.015 170.39 776.644 Q168.144 776.274 165.737 775.533 L165.737 770.834 Q167.82 771.968 170.042 772.524 Q172.265 773.079 174.741 773.079 Q178.746 773.079 181.084 770.973 Q183.422 768.866 183.422 765.255 Q183.422 761.644 181.084 759.538 Q178.746 757.431 174.741 757.431 Q172.866 757.431 170.991 757.848 Q169.14 758.265 167.195 759.144 L167.195 741.783 Z\" fill=\"#000000\" fill-rule=\"nonzero\" fill-opacity=\"1\" /><path clip-path=\"url(#clip170)\" d=\"M50.9921 491.08 L80.6679 491.08 L80.6679 495.015 L50.9921 495.015 L50.9921 491.08 Z\" fill=\"#000000\" fill-rule=\"nonzero\" fill-opacity=\"1\" /><path clip-path=\"url(#clip170)\" d=\"M100.76 476.427 Q97.1493 476.427 95.3206 479.992 Q93.515 483.534 93.515 490.663 Q93.515 497.77 95.3206 501.334 Q97.1493 504.876 100.76 504.876 Q104.395 504.876 106.2 501.334 Q108.029 497.77 108.029 490.663 Q108.029 483.534 106.2 479.992 Q104.395 476.427 100.76 476.427 M100.76 472.723 Q106.571 472.723 109.626 477.33 Q112.705 481.913 112.705 490.663 Q112.705 499.39 109.626 503.996 Q106.571 508.58 100.76 508.58 Q94.9502 508.58 91.8715 503.996 Q88.816 499.39 88.816 490.663 Q88.816 481.913 91.8715 477.33 Q94.9502 472.723 100.76 472.723 Z\" fill=\"#000000\" fill-rule=\"nonzero\" fill-opacity=\"1\" /><path clip-path=\"url(#clip170)\" d=\"M120.922 502.029 L125.807 502.029 L125.807 507.908 L120.922 507.908 L120.922 502.029 Z\" fill=\"#000000\" fill-rule=\"nonzero\" fill-opacity=\"1\" /><path clip-path=\"url(#clip170)\" d=\"M140.019 503.973 L156.339 503.973 L156.339 507.908 L134.394 507.908 L134.394 503.973 Q137.056 501.219 141.64 496.589 Q146.246 491.936 147.427 490.594 Q149.672 488.071 150.552 486.335 Q151.455 484.575 151.455 482.885 Q151.455 480.131 149.51 478.395 Q147.589 476.659 144.487 476.659 Q142.288 476.659 139.834 477.423 Q137.404 478.186 134.626 479.737 L134.626 475.015 Q137.45 473.881 139.904 473.302 Q142.357 472.723 144.394 472.723 Q149.765 472.723 152.959 475.409 Q156.154 478.094 156.154 482.585 Q156.154 484.714 155.343 486.635 Q154.556 488.534 152.45 491.126 Q151.871 491.797 148.769 495.015 Q145.668 498.209 140.019 503.973 Z\" fill=\"#000000\" fill-rule=\"nonzero\" fill-opacity=\"1\" /><path clip-path=\"url(#clip170)\" d=\"M176.153 476.427 Q172.542 476.427 170.714 479.992 Q168.908 483.534 168.908 490.663 Q168.908 497.77 170.714 501.334 Q172.542 504.876 176.153 504.876 Q179.788 504.876 181.593 501.334 Q183.422 497.77 183.422 490.663 Q183.422 483.534 181.593 479.992 Q179.788 476.427 176.153 476.427 M176.153 472.723 Q181.964 472.723 185.019 477.33 Q188.098 481.913 188.098 490.663 Q188.098 499.39 185.019 503.996 Q181.964 508.58 176.153 508.58 Q170.343 508.58 167.265 503.996 Q164.209 499.39 164.209 490.663 Q164.209 481.913 167.265 477.33 Q170.343 472.723 176.153 472.723 Z\" fill=\"#000000\" fill-rule=\"nonzero\" fill-opacity=\"1\" /><path clip-path=\"url(#clip170)\" d=\"M51.9875 222.645 L81.6633 222.645 L81.6633 226.58 L51.9875 226.58 L51.9875 222.645 Z\" fill=\"#000000\" fill-rule=\"nonzero\" fill-opacity=\"1\" /><path clip-path=\"url(#clip170)\" d=\"M101.756 207.992 Q98.1447 207.992 96.316 211.557 Q94.5104 215.099 94.5104 222.228 Q94.5104 229.335 96.316 232.9 Q98.1447 236.441 101.756 236.441 Q105.39 236.441 107.196 232.9 Q109.024 229.335 109.024 222.228 Q109.024 215.099 107.196 211.557 Q105.39 207.992 101.756 207.992 M101.756 204.289 Q107.566 204.289 110.621 208.895 Q113.7 213.478 113.7 222.228 Q113.7 230.955 110.621 235.562 Q107.566 240.145 101.756 240.145 Q95.9456 240.145 92.8669 235.562 Q89.8114 230.955 89.8114 222.228 Q89.8114 213.478 92.8669 208.895 Q95.9456 204.289 101.756 204.289 Z\" fill=\"#000000\" fill-rule=\"nonzero\" fill-opacity=\"1\" /><path clip-path=\"url(#clip170)\" d=\"M121.918 233.594 L126.802 233.594 L126.802 239.474 L121.918 239.474 L121.918 233.594 Z\" fill=\"#000000\" fill-rule=\"nonzero\" fill-opacity=\"1\" /><path clip-path=\"url(#clip170)\" d=\"M137.797 235.539 L145.436 235.539 L145.436 209.173 L137.126 210.84 L137.126 206.58 L145.39 204.914 L150.066 204.914 L150.066 235.539 L157.705 235.539 L157.705 239.474 L137.797 239.474 L137.797 235.539 Z\" fill=\"#000000\" fill-rule=\"nonzero\" fill-opacity=\"1\" /><path clip-path=\"url(#clip170)\" d=\"M167.195 204.914 L185.552 204.914 L185.552 208.849 L171.478 208.849 L171.478 217.321 Q172.496 216.974 173.515 216.812 Q174.533 216.627 175.552 216.627 Q181.339 216.627 184.718 219.798 Q188.098 222.969 188.098 228.386 Q188.098 233.964 184.626 237.066 Q181.153 240.145 174.834 240.145 Q172.658 240.145 170.39 239.775 Q168.144 239.404 165.737 238.663 L165.737 233.964 Q167.82 235.099 170.042 235.654 Q172.265 236.21 174.741 236.21 Q178.746 236.21 181.084 234.103 Q183.422 231.997 183.422 228.386 Q183.422 224.775 181.084 222.668 Q178.746 220.562 174.741 220.562 Q172.866 220.562 170.991 220.978 Q169.14 221.395 167.195 222.275 L167.195 204.914 Z\" fill=\"#000000\" fill-rule=\"nonzero\" fill-opacity=\"1\" /><polyline clip-path=\"url(#clip172)\" style=\"stroke:#009af9; stroke-linecap:round; stroke-linejoin:round; stroke-width:4; stroke-opacity:1; fill:none\" points=\"284.343,87.9763 786.385,797.109 1288.43,1193.65 1790.47,1389.74 2292.51,1445.72 \"/>\n",
       "<path clip-path=\"url(#clip170)\" d=\"M2016.5 198.898 L2281.8 198.898 L2281.8 95.2176 L2016.5 95.2176  Z\" fill=\"#ffffff\" fill-rule=\"evenodd\" fill-opacity=\"1\"/>\n",
       "<polyline clip-path=\"url(#clip170)\" style=\"stroke:#000000; stroke-linecap:round; stroke-linejoin:round; stroke-width:4; stroke-opacity:1; fill:none\" points=\"2016.5,198.898 2281.8,198.898 2281.8,95.2176 2016.5,95.2176 2016.5,198.898 \"/>\n",
       "<polyline clip-path=\"url(#clip170)\" style=\"stroke:#009af9; stroke-linecap:round; stroke-linejoin:round; stroke-width:4; stroke-opacity:1; fill:none\" points=\"2040.16,147.058 2182.07,147.058 \"/>\n",
       "<path clip-path=\"url(#clip170)\" d=\"M2219.56 166.745 Q2217.76 171.375 2216.04 172.787 Q2214.33 174.199 2211.46 174.199 L2208.06 174.199 L2208.06 170.634 L2210.56 170.634 Q2212.32 170.634 2213.29 169.8 Q2214.26 168.967 2215.44 165.865 L2216.2 163.921 L2205.72 138.412 L2210.23 138.412 L2218.33 158.689 L2226.44 138.412 L2230.95 138.412 L2219.56 166.745 Z\" fill=\"#000000\" fill-rule=\"nonzero\" fill-opacity=\"1\" /><path clip-path=\"url(#clip170)\" d=\"M2238.24 160.402 L2245.88 160.402 L2245.88 134.037 L2237.57 135.703 L2237.57 131.444 L2245.83 129.778 L2250.51 129.778 L2250.51 160.402 L2258.15 160.402 L2258.15 164.338 L2238.24 164.338 L2238.24 160.402 Z\" fill=\"#000000\" fill-rule=\"nonzero\" fill-opacity=\"1\" /></svg>\n"
      ],
      "text/html": [
       "<?xml version=\"1.0\" encoding=\"utf-8\"?>\n",
       "<svg xmlns=\"http://www.w3.org/2000/svg\" xmlns:xlink=\"http://www.w3.org/1999/xlink\" width=\"600\" height=\"400\" viewBox=\"0 0 2400 1600\">\n",
       "<defs>\n",
       "  <clipPath id=\"clip220\">\n",
       "    <rect x=\"0\" y=\"0\" width=\"2400\" height=\"1600\"/>\n",
       "  </clipPath>\n",
       "</defs>\n",
       "<path clip-path=\"url(#clip220)\" d=\"M0 1600 L2400 1600 L2400 0 L0 0  Z\" fill=\"#ffffff\" fill-rule=\"evenodd\" fill-opacity=\"1\"/>\n",
       "<defs>\n",
       "  <clipPath id=\"clip221\">\n",
       "    <rect x=\"480\" y=\"0\" width=\"1681\" height=\"1600\"/>\n",
       "  </clipPath>\n",
       "</defs>\n",
       "<path clip-path=\"url(#clip220)\" d=\"M224.098 1486.45 L2352.76 1486.45 L2352.76 47.2441 L224.098 47.2441  Z\" fill=\"#ffffff\" fill-rule=\"evenodd\" fill-opacity=\"1\"/>\n",
       "<defs>\n",
       "  <clipPath id=\"clip222\">\n",
       "    <rect x=\"224\" y=\"47\" width=\"2130\" height=\"1440\"/>\n",
       "  </clipPath>\n",
       "</defs>\n",
       "<polyline clip-path=\"url(#clip222)\" style=\"stroke:#000000; stroke-linecap:round; stroke-linejoin:round; stroke-width:2; stroke-opacity:0.1; fill:none\" points=\"284.343,1486.45 284.343,47.2441 \"/>\n",
       "<polyline clip-path=\"url(#clip222)\" style=\"stroke:#000000; stroke-linecap:round; stroke-linejoin:round; stroke-width:2; stroke-opacity:0.1; fill:none\" points=\"786.385,1486.45 786.385,47.2441 \"/>\n",
       "<polyline clip-path=\"url(#clip222)\" style=\"stroke:#000000; stroke-linecap:round; stroke-linejoin:round; stroke-width:2; stroke-opacity:0.1; fill:none\" points=\"1288.43,1486.45 1288.43,47.2441 \"/>\n",
       "<polyline clip-path=\"url(#clip222)\" style=\"stroke:#000000; stroke-linecap:round; stroke-linejoin:round; stroke-width:2; stroke-opacity:0.1; fill:none\" points=\"1790.47,1486.45 1790.47,47.2441 \"/>\n",
       "<polyline clip-path=\"url(#clip222)\" style=\"stroke:#000000; stroke-linecap:round; stroke-linejoin:round; stroke-width:2; stroke-opacity:0.1; fill:none\" points=\"2292.51,1486.45 2292.51,47.2441 \"/>\n",
       "<polyline clip-path=\"url(#clip220)\" style=\"stroke:#000000; stroke-linecap:round; stroke-linejoin:round; stroke-width:4; stroke-opacity:1; fill:none\" points=\"224.098,1486.45 2352.76,1486.45 \"/>\n",
       "<polyline clip-path=\"url(#clip220)\" style=\"stroke:#000000; stroke-linecap:round; stroke-linejoin:round; stroke-width:4; stroke-opacity:1; fill:none\" points=\"284.343,1486.45 284.343,1467.55 \"/>\n",
       "<polyline clip-path=\"url(#clip220)\" style=\"stroke:#000000; stroke-linecap:round; stroke-linejoin:round; stroke-width:4; stroke-opacity:1; fill:none\" points=\"786.385,1486.45 786.385,1467.55 \"/>\n",
       "<polyline clip-path=\"url(#clip220)\" style=\"stroke:#000000; stroke-linecap:round; stroke-linejoin:round; stroke-width:4; stroke-opacity:1; fill:none\" points=\"1288.43,1486.45 1288.43,1467.55 \"/>\n",
       "<polyline clip-path=\"url(#clip220)\" style=\"stroke:#000000; stroke-linecap:round; stroke-linejoin:round; stroke-width:4; stroke-opacity:1; fill:none\" points=\"1790.47,1486.45 1790.47,1467.55 \"/>\n",
       "<polyline clip-path=\"url(#clip220)\" style=\"stroke:#000000; stroke-linecap:round; stroke-linejoin:round; stroke-width:4; stroke-opacity:1; fill:none\" points=\"2292.51,1486.45 2292.51,1467.55 \"/>\n",
       "<path clip-path=\"url(#clip220)\" d=\"M274.725 1544.91 L282.364 1544.91 L282.364 1518.55 L274.054 1520.21 L274.054 1515.95 L282.317 1514.29 L286.993 1514.29 L286.993 1544.91 L294.632 1544.91 L294.632 1548.85 L274.725 1548.85 L274.725 1544.91 Z\" fill=\"#000000\" fill-rule=\"nonzero\" fill-opacity=\"1\" /><path clip-path=\"url(#clip220)\" d=\"M781.038 1544.91 L797.357 1544.91 L797.357 1548.85 L775.413 1548.85 L775.413 1544.91 Q778.075 1542.16 782.658 1537.53 Q787.265 1532.88 788.445 1531.53 Q790.69 1529.01 791.57 1527.27 Q792.473 1525.51 792.473 1523.82 Q792.473 1521.07 790.528 1519.33 Q788.607 1517.6 785.505 1517.6 Q783.306 1517.6 780.853 1518.36 Q778.422 1519.13 775.644 1520.68 L775.644 1515.95 Q778.468 1514.82 780.922 1514.24 Q783.376 1513.66 785.413 1513.66 Q790.783 1513.66 793.977 1516.35 Q797.172 1519.03 797.172 1523.52 Q797.172 1525.65 796.362 1527.57 Q795.575 1529.47 793.468 1532.07 Q792.889 1532.74 789.788 1535.95 Q786.686 1539.15 781.038 1544.91 Z\" fill=\"#000000\" fill-rule=\"nonzero\" fill-opacity=\"1\" /><path clip-path=\"url(#clip220)\" d=\"M1292.67 1530.21 Q1296.03 1530.93 1297.91 1533.2 Q1299.8 1535.47 1299.8 1538.8 Q1299.8 1543.92 1296.29 1546.72 Q1292.77 1549.52 1286.29 1549.52 Q1284.11 1549.52 1281.79 1549.08 Q1279.5 1548.66 1277.05 1547.81 L1277.05 1543.29 Q1278.99 1544.43 1281.31 1545.01 Q1283.62 1545.58 1286.15 1545.58 Q1290.54 1545.58 1292.84 1543.85 Q1295.15 1542.11 1295.15 1538.8 Q1295.15 1535.75 1293 1534.03 Q1290.87 1532.3 1287.05 1532.3 L1283.02 1532.3 L1283.02 1528.45 L1287.23 1528.45 Q1290.68 1528.45 1292.51 1527.09 Q1294.34 1525.7 1294.34 1523.11 Q1294.34 1520.45 1292.44 1519.03 Q1290.57 1517.6 1287.05 1517.6 Q1285.13 1517.6 1282.93 1518.01 Q1280.73 1518.43 1278.09 1519.31 L1278.09 1515.14 Q1280.75 1514.4 1283.07 1514.03 Q1285.41 1513.66 1287.47 1513.66 Q1292.79 1513.66 1295.89 1516.09 Q1298.99 1518.5 1298.99 1522.62 Q1298.99 1525.49 1297.35 1527.48 Q1295.71 1529.45 1292.67 1530.21 Z\" fill=\"#000000\" fill-rule=\"nonzero\" fill-opacity=\"1\" /><path clip-path=\"url(#clip220)\" d=\"M1793.48 1518.36 L1781.67 1536.81 L1793.48 1536.81 L1793.48 1518.36 M1792.25 1514.29 L1798.13 1514.29 L1798.13 1536.81 L1803.06 1536.81 L1803.06 1540.7 L1798.13 1540.7 L1798.13 1548.85 L1793.48 1548.85 L1793.48 1540.7 L1777.88 1540.7 L1777.88 1536.19 L1792.25 1514.29 Z\" fill=\"#000000\" fill-rule=\"nonzero\" fill-opacity=\"1\" /><path clip-path=\"url(#clip220)\" d=\"M2282.79 1514.29 L2301.15 1514.29 L2301.15 1518.22 L2287.07 1518.22 L2287.07 1526.7 Q2288.09 1526.35 2289.11 1526.19 Q2290.13 1526 2291.15 1526 Q2296.93 1526 2300.31 1529.17 Q2303.69 1532.34 2303.69 1537.76 Q2303.69 1543.34 2300.22 1546.44 Q2296.75 1549.52 2290.43 1549.52 Q2288.25 1549.52 2285.98 1549.15 Q2283.74 1548.78 2281.33 1548.04 L2281.33 1543.34 Q2283.41 1544.47 2285.64 1545.03 Q2287.86 1545.58 2290.33 1545.58 Q2294.34 1545.58 2296.68 1543.48 Q2299.02 1541.37 2299.02 1537.76 Q2299.02 1534.15 2296.68 1532.04 Q2294.34 1529.94 2290.33 1529.94 Q2288.46 1529.94 2286.58 1530.35 Q2284.73 1530.77 2282.79 1531.65 L2282.79 1514.29 Z\" fill=\"#000000\" fill-rule=\"nonzero\" fill-opacity=\"1\" /><polyline clip-path=\"url(#clip222)\" style=\"stroke:#000000; stroke-linecap:round; stroke-linejoin:round; stroke-width:2; stroke-opacity:0.1; fill:none\" points=\"224.098,1295.93 2352.76,1295.93 \"/>\n",
       "<polyline clip-path=\"url(#clip222)\" style=\"stroke:#000000; stroke-linecap:round; stroke-linejoin:round; stroke-width:2; stroke-opacity:0.1; fill:none\" points=\"224.098,1027.5 2352.76,1027.5 \"/>\n",
       "<polyline clip-path=\"url(#clip222)\" style=\"stroke:#000000; stroke-linecap:round; stroke-linejoin:round; stroke-width:2; stroke-opacity:0.1; fill:none\" points=\"224.098,759.063 2352.76,759.063 \"/>\n",
       "<polyline clip-path=\"url(#clip222)\" style=\"stroke:#000000; stroke-linecap:round; stroke-linejoin:round; stroke-width:2; stroke-opacity:0.1; fill:none\" points=\"224.098,490.628 2352.76,490.628 \"/>\n",
       "<polyline clip-path=\"url(#clip222)\" style=\"stroke:#000000; stroke-linecap:round; stroke-linejoin:round; stroke-width:2; stroke-opacity:0.1; fill:none\" points=\"224.098,222.194 2352.76,222.194 \"/>\n",
       "<polyline clip-path=\"url(#clip220)\" style=\"stroke:#000000; stroke-linecap:round; stroke-linejoin:round; stroke-width:4; stroke-opacity:1; fill:none\" points=\"224.098,1486.45 224.098,47.2441 \"/>\n",
       "<polyline clip-path=\"url(#clip220)\" style=\"stroke:#000000; stroke-linecap:round; stroke-linejoin:round; stroke-width:4; stroke-opacity:1; fill:none\" points=\"224.098,1295.93 242.996,1295.93 \"/>\n",
       "<polyline clip-path=\"url(#clip220)\" style=\"stroke:#000000; stroke-linecap:round; stroke-linejoin:round; stroke-width:4; stroke-opacity:1; fill:none\" points=\"224.098,1027.5 242.996,1027.5 \"/>\n",
       "<polyline clip-path=\"url(#clip220)\" style=\"stroke:#000000; stroke-linecap:round; stroke-linejoin:round; stroke-width:4; stroke-opacity:1; fill:none\" points=\"224.098,759.063 242.996,759.063 \"/>\n",
       "<polyline clip-path=\"url(#clip220)\" style=\"stroke:#000000; stroke-linecap:round; stroke-linejoin:round; stroke-width:4; stroke-opacity:1; fill:none\" points=\"224.098,490.628 242.996,490.628 \"/>\n",
       "<polyline clip-path=\"url(#clip220)\" style=\"stroke:#000000; stroke-linecap:round; stroke-linejoin:round; stroke-width:4; stroke-opacity:1; fill:none\" points=\"224.098,222.194 242.996,222.194 \"/>\n",
       "<path clip-path=\"url(#clip220)\" d=\"M51.9875 1296.38 L81.6633 1296.38 L81.6633 1300.32 L51.9875 1300.32 L51.9875 1296.38 Z\" fill=\"#000000\" fill-rule=\"nonzero\" fill-opacity=\"1\" /><path clip-path=\"url(#clip220)\" d=\"M101.756 1281.73 Q98.1447 1281.73 96.316 1285.3 Q94.5104 1288.84 94.5104 1295.97 Q94.5104 1303.07 96.316 1306.64 Q98.1447 1310.18 101.756 1310.18 Q105.39 1310.18 107.196 1306.64 Q109.024 1303.07 109.024 1295.97 Q109.024 1288.84 107.196 1285.3 Q105.39 1281.73 101.756 1281.73 M101.756 1278.03 Q107.566 1278.03 110.621 1282.63 Q113.7 1287.22 113.7 1295.97 Q113.7 1304.69 110.621 1309.3 Q107.566 1313.88 101.756 1313.88 Q95.9456 1313.88 92.8669 1309.3 Q89.8114 1304.69 89.8114 1295.97 Q89.8114 1287.22 92.8669 1282.63 Q95.9456 1278.03 101.756 1278.03 Z\" fill=\"#000000\" fill-rule=\"nonzero\" fill-opacity=\"1\" /><path clip-path=\"url(#clip220)\" d=\"M121.918 1307.33 L126.802 1307.33 L126.802 1313.21 L121.918 1313.21 L121.918 1307.33 Z\" fill=\"#000000\" fill-rule=\"nonzero\" fill-opacity=\"1\" /><path clip-path=\"url(#clip220)\" d=\"M151.154 1294.58 Q154.51 1295.3 156.385 1297.56 Q158.283 1299.83 158.283 1303.17 Q158.283 1308.28 154.765 1311.08 Q151.246 1313.88 144.765 1313.88 Q142.589 1313.88 140.274 1313.44 Q137.982 1313.03 135.529 1312.17 L135.529 1307.66 Q137.473 1308.79 139.788 1309.37 Q142.103 1309.95 144.626 1309.95 Q149.024 1309.95 151.316 1308.21 Q153.63 1306.48 153.63 1303.17 Q153.63 1300.11 151.478 1298.4 Q149.348 1296.66 145.529 1296.66 L141.501 1296.66 L141.501 1292.82 L145.714 1292.82 Q149.163 1292.82 150.992 1291.45 Q152.82 1290.06 152.82 1287.47 Q152.82 1284.81 150.922 1283.4 Q149.047 1281.96 145.529 1281.96 Q143.607 1281.96 141.408 1282.38 Q139.209 1282.8 136.57 1283.68 L136.57 1279.51 Q139.232 1278.77 141.547 1278.4 Q143.885 1278.03 145.945 1278.03 Q151.269 1278.03 154.371 1280.46 Q157.473 1282.87 157.473 1286.99 Q157.473 1289.86 155.83 1291.85 Q154.186 1293.81 151.154 1294.58 Z\" fill=\"#000000\" fill-rule=\"nonzero\" fill-opacity=\"1\" /><path clip-path=\"url(#clip220)\" d=\"M167.195 1278.65 L185.552 1278.65 L185.552 1282.59 L171.478 1282.59 L171.478 1291.06 Q172.496 1290.71 173.515 1290.55 Q174.533 1290.37 175.552 1290.37 Q181.339 1290.37 184.718 1293.54 Q188.098 1296.71 188.098 1302.12 Q188.098 1307.7 184.626 1310.81 Q181.153 1313.88 174.834 1313.88 Q172.658 1313.88 170.39 1313.51 Q168.144 1313.14 165.737 1312.4 L165.737 1307.7 Q167.82 1308.84 170.042 1309.39 Q172.265 1309.95 174.741 1309.95 Q178.746 1309.95 181.084 1307.84 Q183.422 1305.74 183.422 1302.12 Q183.422 1298.51 181.084 1296.41 Q178.746 1294.3 174.741 1294.3 Q172.866 1294.3 170.991 1294.72 Q169.14 1295.13 167.195 1296.01 L167.195 1278.65 Z\" fill=\"#000000\" fill-rule=\"nonzero\" fill-opacity=\"1\" /><path clip-path=\"url(#clip220)\" d=\"M50.9921 1027.95 L80.6679 1027.95 L80.6679 1031.88 L50.9921 1031.88 L50.9921 1027.95 Z\" fill=\"#000000\" fill-rule=\"nonzero\" fill-opacity=\"1\" /><path clip-path=\"url(#clip220)\" d=\"M100.76 1013.3 Q97.1493 1013.3 95.3206 1016.86 Q93.515 1020.4 93.515 1027.53 Q93.515 1034.64 95.3206 1038.2 Q97.1493 1041.75 100.76 1041.75 Q104.395 1041.75 106.2 1038.2 Q108.029 1034.64 108.029 1027.53 Q108.029 1020.4 106.2 1016.86 Q104.395 1013.3 100.76 1013.3 M100.76 1009.59 Q106.571 1009.59 109.626 1014.2 Q112.705 1018.78 112.705 1027.53 Q112.705 1036.26 109.626 1040.87 Q106.571 1045.45 100.76 1045.45 Q94.9502 1045.45 91.8715 1040.87 Q88.816 1036.26 88.816 1027.53 Q88.816 1018.78 91.8715 1014.2 Q94.9502 1009.59 100.76 1009.59 Z\" fill=\"#000000\" fill-rule=\"nonzero\" fill-opacity=\"1\" /><path clip-path=\"url(#clip220)\" d=\"M120.922 1038.9 L125.807 1038.9 L125.807 1044.78 L120.922 1044.78 L120.922 1038.9 Z\" fill=\"#000000\" fill-rule=\"nonzero\" fill-opacity=\"1\" /><path clip-path=\"url(#clip220)\" d=\"M150.158 1026.14 Q153.515 1026.86 155.39 1029.13 Q157.288 1031.4 157.288 1034.73 Q157.288 1039.85 153.769 1042.65 Q150.251 1045.45 143.769 1045.45 Q141.593 1045.45 139.279 1045.01 Q136.987 1044.59 134.533 1043.74 L134.533 1039.22 Q136.478 1040.36 138.793 1040.94 Q141.107 1041.51 143.631 1041.51 Q148.029 1041.51 150.32 1039.78 Q152.635 1038.04 152.635 1034.73 Q152.635 1031.68 150.482 1029.96 Q148.353 1028.23 144.533 1028.23 L140.506 1028.23 L140.506 1024.38 L144.718 1024.38 Q148.168 1024.38 149.996 1023.02 Q151.825 1021.63 151.825 1019.04 Q151.825 1016.38 149.927 1014.96 Q148.052 1013.53 144.533 1013.53 Q142.612 1013.53 140.413 1013.94 Q138.214 1014.36 135.575 1015.24 L135.575 1011.07 Q138.237 1010.33 140.552 1009.96 Q142.89 1009.59 144.95 1009.59 Q150.274 1009.59 153.376 1012.02 Q156.478 1014.43 156.478 1018.55 Q156.478 1021.42 154.834 1023.41 Q153.191 1025.38 150.158 1026.14 Z\" fill=\"#000000\" fill-rule=\"nonzero\" fill-opacity=\"1\" /><path clip-path=\"url(#clip220)\" d=\"M176.153 1013.3 Q172.542 1013.3 170.714 1016.86 Q168.908 1020.4 168.908 1027.53 Q168.908 1034.64 170.714 1038.2 Q172.542 1041.75 176.153 1041.75 Q179.788 1041.75 181.593 1038.2 Q183.422 1034.64 183.422 1027.53 Q183.422 1020.4 181.593 1016.86 Q179.788 1013.3 176.153 1013.3 M176.153 1009.59 Q181.964 1009.59 185.019 1014.2 Q188.098 1018.78 188.098 1027.53 Q188.098 1036.26 185.019 1040.87 Q181.964 1045.45 176.153 1045.45 Q170.343 1045.45 167.265 1040.87 Q164.209 1036.26 164.209 1027.53 Q164.209 1018.78 167.265 1014.2 Q170.343 1009.59 176.153 1009.59 Z\" fill=\"#000000\" fill-rule=\"nonzero\" fill-opacity=\"1\" /><path clip-path=\"url(#clip220)\" d=\"M51.9875 759.515 L81.6633 759.515 L81.6633 763.45 L51.9875 763.45 L51.9875 759.515 Z\" fill=\"#000000\" fill-rule=\"nonzero\" fill-opacity=\"1\" /><path clip-path=\"url(#clip220)\" d=\"M101.756 744.862 Q98.1447 744.862 96.316 748.427 Q94.5104 751.968 94.5104 759.098 Q94.5104 766.204 96.316 769.769 Q98.1447 773.311 101.756 773.311 Q105.39 773.311 107.196 769.769 Q109.024 766.204 109.024 759.098 Q109.024 751.968 107.196 748.427 Q105.39 744.862 101.756 744.862 M101.756 741.158 Q107.566 741.158 110.621 745.765 Q113.7 750.348 113.7 759.098 Q113.7 767.825 110.621 772.431 Q107.566 777.015 101.756 777.015 Q95.9456 777.015 92.8669 772.431 Q89.8114 767.825 89.8114 759.098 Q89.8114 750.348 92.8669 745.765 Q95.9456 741.158 101.756 741.158 Z\" fill=\"#000000\" fill-rule=\"nonzero\" fill-opacity=\"1\" /><path clip-path=\"url(#clip220)\" d=\"M121.918 770.464 L126.802 770.464 L126.802 776.343 L121.918 776.343 L121.918 770.464 Z\" fill=\"#000000\" fill-rule=\"nonzero\" fill-opacity=\"1\" /><path clip-path=\"url(#clip220)\" d=\"M141.015 772.408 L157.334 772.408 L157.334 776.343 L135.39 776.343 L135.39 772.408 Q138.052 769.653 142.635 765.024 Q147.242 760.371 148.422 759.029 Q150.668 756.505 151.547 754.769 Q152.45 753.01 152.45 751.32 Q152.45 748.566 150.505 746.83 Q148.584 745.093 145.482 745.093 Q143.283 745.093 140.83 745.857 Q138.399 746.621 135.621 748.172 L135.621 743.45 Q138.445 742.316 140.899 741.737 Q143.353 741.158 145.39 741.158 Q150.76 741.158 153.955 743.843 Q157.149 746.529 157.149 751.019 Q157.149 753.149 156.339 755.07 Q155.552 756.968 153.445 759.561 Q152.867 760.232 149.765 763.45 Q146.663 766.644 141.015 772.408 Z\" fill=\"#000000\" fill-rule=\"nonzero\" fill-opacity=\"1\" /><path clip-path=\"url(#clip220)\" d=\"M167.195 741.783 L185.552 741.783 L185.552 745.718 L171.478 745.718 L171.478 754.191 Q172.496 753.843 173.515 753.681 Q174.533 753.496 175.552 753.496 Q181.339 753.496 184.718 756.667 Q188.098 759.839 188.098 765.255 Q188.098 770.834 184.626 773.936 Q181.153 777.015 174.834 777.015 Q172.658 777.015 170.39 776.644 Q168.144 776.274 165.737 775.533 L165.737 770.834 Q167.82 771.968 170.042 772.524 Q172.265 773.079 174.741 773.079 Q178.746 773.079 181.084 770.973 Q183.422 768.866 183.422 765.255 Q183.422 761.644 181.084 759.538 Q178.746 757.431 174.741 757.431 Q172.866 757.431 170.991 757.848 Q169.14 758.265 167.195 759.144 L167.195 741.783 Z\" fill=\"#000000\" fill-rule=\"nonzero\" fill-opacity=\"1\" /><path clip-path=\"url(#clip220)\" d=\"M50.9921 491.08 L80.6679 491.08 L80.6679 495.015 L50.9921 495.015 L50.9921 491.08 Z\" fill=\"#000000\" fill-rule=\"nonzero\" fill-opacity=\"1\" /><path clip-path=\"url(#clip220)\" d=\"M100.76 476.427 Q97.1493 476.427 95.3206 479.992 Q93.515 483.534 93.515 490.663 Q93.515 497.77 95.3206 501.334 Q97.1493 504.876 100.76 504.876 Q104.395 504.876 106.2 501.334 Q108.029 497.77 108.029 490.663 Q108.029 483.534 106.2 479.992 Q104.395 476.427 100.76 476.427 M100.76 472.723 Q106.571 472.723 109.626 477.33 Q112.705 481.913 112.705 490.663 Q112.705 499.39 109.626 503.996 Q106.571 508.58 100.76 508.58 Q94.9502 508.58 91.8715 503.996 Q88.816 499.39 88.816 490.663 Q88.816 481.913 91.8715 477.33 Q94.9502 472.723 100.76 472.723 Z\" fill=\"#000000\" fill-rule=\"nonzero\" fill-opacity=\"1\" /><path clip-path=\"url(#clip220)\" d=\"M120.922 502.029 L125.807 502.029 L125.807 507.908 L120.922 507.908 L120.922 502.029 Z\" fill=\"#000000\" fill-rule=\"nonzero\" fill-opacity=\"1\" /><path clip-path=\"url(#clip220)\" d=\"M140.019 503.973 L156.339 503.973 L156.339 507.908 L134.394 507.908 L134.394 503.973 Q137.056 501.219 141.64 496.589 Q146.246 491.936 147.427 490.594 Q149.672 488.071 150.552 486.335 Q151.455 484.575 151.455 482.885 Q151.455 480.131 149.51 478.395 Q147.589 476.659 144.487 476.659 Q142.288 476.659 139.834 477.423 Q137.404 478.186 134.626 479.737 L134.626 475.015 Q137.45 473.881 139.904 473.302 Q142.357 472.723 144.394 472.723 Q149.765 472.723 152.959 475.409 Q156.154 478.094 156.154 482.585 Q156.154 484.714 155.343 486.635 Q154.556 488.534 152.45 491.126 Q151.871 491.797 148.769 495.015 Q145.668 498.209 140.019 503.973 Z\" fill=\"#000000\" fill-rule=\"nonzero\" fill-opacity=\"1\" /><path clip-path=\"url(#clip220)\" d=\"M176.153 476.427 Q172.542 476.427 170.714 479.992 Q168.908 483.534 168.908 490.663 Q168.908 497.77 170.714 501.334 Q172.542 504.876 176.153 504.876 Q179.788 504.876 181.593 501.334 Q183.422 497.77 183.422 490.663 Q183.422 483.534 181.593 479.992 Q179.788 476.427 176.153 476.427 M176.153 472.723 Q181.964 472.723 185.019 477.33 Q188.098 481.913 188.098 490.663 Q188.098 499.39 185.019 503.996 Q181.964 508.58 176.153 508.58 Q170.343 508.58 167.265 503.996 Q164.209 499.39 164.209 490.663 Q164.209 481.913 167.265 477.33 Q170.343 472.723 176.153 472.723 Z\" fill=\"#000000\" fill-rule=\"nonzero\" fill-opacity=\"1\" /><path clip-path=\"url(#clip220)\" d=\"M51.9875 222.645 L81.6633 222.645 L81.6633 226.58 L51.9875 226.58 L51.9875 222.645 Z\" fill=\"#000000\" fill-rule=\"nonzero\" fill-opacity=\"1\" /><path clip-path=\"url(#clip220)\" d=\"M101.756 207.992 Q98.1447 207.992 96.316 211.557 Q94.5104 215.099 94.5104 222.228 Q94.5104 229.335 96.316 232.9 Q98.1447 236.441 101.756 236.441 Q105.39 236.441 107.196 232.9 Q109.024 229.335 109.024 222.228 Q109.024 215.099 107.196 211.557 Q105.39 207.992 101.756 207.992 M101.756 204.289 Q107.566 204.289 110.621 208.895 Q113.7 213.478 113.7 222.228 Q113.7 230.955 110.621 235.562 Q107.566 240.145 101.756 240.145 Q95.9456 240.145 92.8669 235.562 Q89.8114 230.955 89.8114 222.228 Q89.8114 213.478 92.8669 208.895 Q95.9456 204.289 101.756 204.289 Z\" fill=\"#000000\" fill-rule=\"nonzero\" fill-opacity=\"1\" /><path clip-path=\"url(#clip220)\" d=\"M121.918 233.594 L126.802 233.594 L126.802 239.474 L121.918 239.474 L121.918 233.594 Z\" fill=\"#000000\" fill-rule=\"nonzero\" fill-opacity=\"1\" /><path clip-path=\"url(#clip220)\" d=\"M137.797 235.539 L145.436 235.539 L145.436 209.173 L137.126 210.84 L137.126 206.58 L145.39 204.914 L150.066 204.914 L150.066 235.539 L157.705 235.539 L157.705 239.474 L137.797 239.474 L137.797 235.539 Z\" fill=\"#000000\" fill-rule=\"nonzero\" fill-opacity=\"1\" /><path clip-path=\"url(#clip220)\" d=\"M167.195 204.914 L185.552 204.914 L185.552 208.849 L171.478 208.849 L171.478 217.321 Q172.496 216.974 173.515 216.812 Q174.533 216.627 175.552 216.627 Q181.339 216.627 184.718 219.798 Q188.098 222.969 188.098 228.386 Q188.098 233.964 184.626 237.066 Q181.153 240.145 174.834 240.145 Q172.658 240.145 170.39 239.775 Q168.144 239.404 165.737 238.663 L165.737 233.964 Q167.82 235.099 170.042 235.654 Q172.265 236.21 174.741 236.21 Q178.746 236.21 181.084 234.103 Q183.422 231.997 183.422 228.386 Q183.422 224.775 181.084 222.668 Q178.746 220.562 174.741 220.562 Q172.866 220.562 170.991 220.978 Q169.14 221.395 167.195 222.275 L167.195 204.914 Z\" fill=\"#000000\" fill-rule=\"nonzero\" fill-opacity=\"1\" /><polyline clip-path=\"url(#clip222)\" style=\"stroke:#009af9; stroke-linecap:round; stroke-linejoin:round; stroke-width:4; stroke-opacity:1; fill:none\" points=\"284.343,87.9763 786.385,797.109 1288.43,1193.65 1790.47,1389.74 2292.51,1445.72 \"/>\n",
       "<path clip-path=\"url(#clip220)\" d=\"M2016.5 198.898 L2281.8 198.898 L2281.8 95.2176 L2016.5 95.2176  Z\" fill=\"#ffffff\" fill-rule=\"evenodd\" fill-opacity=\"1\"/>\n",
       "<polyline clip-path=\"url(#clip220)\" style=\"stroke:#000000; stroke-linecap:round; stroke-linejoin:round; stroke-width:4; stroke-opacity:1; fill:none\" points=\"2016.5,198.898 2281.8,198.898 2281.8,95.2176 2016.5,95.2176 2016.5,198.898 \"/>\n",
       "<polyline clip-path=\"url(#clip220)\" style=\"stroke:#009af9; stroke-linecap:round; stroke-linejoin:round; stroke-width:4; stroke-opacity:1; fill:none\" points=\"2040.16,147.058 2182.07,147.058 \"/>\n",
       "<path clip-path=\"url(#clip220)\" d=\"M2219.56 166.745 Q2217.76 171.375 2216.04 172.787 Q2214.33 174.199 2211.46 174.199 L2208.06 174.199 L2208.06 170.634 L2210.56 170.634 Q2212.32 170.634 2213.29 169.8 Q2214.26 168.967 2215.44 165.865 L2216.2 163.921 L2205.72 138.412 L2210.23 138.412 L2218.33 158.689 L2226.44 138.412 L2230.95 138.412 L2219.56 166.745 Z\" fill=\"#000000\" fill-rule=\"nonzero\" fill-opacity=\"1\" /><path clip-path=\"url(#clip220)\" d=\"M2238.24 160.402 L2245.88 160.402 L2245.88 134.037 L2237.57 135.703 L2237.57 131.444 L2245.83 129.778 L2250.51 129.778 L2250.51 160.402 L2258.15 160.402 L2258.15 164.338 L2238.24 164.338 L2238.24 160.402 Z\" fill=\"#000000\" fill-rule=\"nonzero\" fill-opacity=\"1\" /></svg>\n"
      ]
     },
     "metadata": {},
     "output_type": "display_data"
    }
   ],
   "source": [
    "mesh = genMesh(4)\n",
    "c(x) = x\n",
    "S = genStiffMat(mesh,c)\n",
    "M = genMassMat(mesh)\n",
    "fsource(x) = -1\n",
    "f = genVector(mesh,fsource)\n",
    "\n",
    "println(S)\n",
    "println(M)\n",
    "println(f)\n",
    "\n",
    "A = S + M\n",
    "A[1,1] = 1.\n",
    "A[1,2] = 0.\n",
    "println(A)\n",
    "println(det(A))\n",
    "#println(A[end,end])\n",
    "#println(A[end,end-1])\n",
    "#f[1] = 0.\n",
    "#f[end] = 0.\n",
    "\n",
    "#println(f)\n",
    "\n",
    "#println(S)\n",
    "\n",
    "#println(M)\n",
    "\n",
    "#print(S+M)\n",
    "\n",
    "u = A \\ f\n",
    "\n",
    "\n",
    "#print(u[end])\n",
    "#u = S \\ f\n",
    "print(u[end])\n",
    "\n",
    "#analytical(x) = x - 2 * log(x) - 1\n",
    "#temp = 1:1/1000:2\n",
    "#v = zeros(1001)\n",
    "#for i in 1:1001\n",
    "#    v[i] = analytical(temp[i])\n",
    "#end\n",
    "\n",
    "#v = analytical(temp)\n",
    "plot(u)\n",
    "\n",
    "\n",
    "\n",
    "#print(u[end])"
   ]
  },
  {
   "cell_type": "code",
   "execution_count": null,
   "metadata": {},
   "outputs": [],
   "source": []
  }
 ],
 "metadata": {
  "kernelspec": {
   "display_name": "Julia 1.8.1",
   "language": "julia",
   "name": "julia-1.8"
  },
  "language_info": {
   "file_extension": ".jl",
   "mimetype": "application/julia",
   "name": "julia",
   "version": "1.8.1"
  }
 },
 "nbformat": 4,
 "nbformat_minor": 2
}
