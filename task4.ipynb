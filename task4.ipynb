{
 "cells": [
  {
   "cell_type": "code",
   "execution_count": 116,
   "metadata": {},
   "outputs": [],
   "source": [
    "using LinearAlgebra\n",
    "using SparseArrays \n",
    "using StructArrays\n",
    "using StaticArrays\n",
    "using StaticRanges\n",
    "using FastGaussQuadrature\n",
    "\n",
    "using IterativeSolvers\n",
    "using Preconditioners\n",
    "\n",
    "using BenchmarkTools\n",
    "using Profile\n",
    "using ProfileView\n",
    "\n",
    "using Plots "
   ]
  },
  {
   "cell_type": "code",
   "execution_count": 117,
   "metadata": {},
   "outputs": [],
   "source": [
    "# struct to hold a single mesh element\n",
    "# all the members of the struct should be concrete type \n",
    "struct Element\n",
    "    p1::Float64    # coordinate left-most node\n",
    "    p2::Float64    # coordinate right-most node\n",
    "    e1::Int64      # global index left-most node\n",
    "    e2::Int64      # global index right-most node\n",
    "    area::Float64  # area of the element \n",
    "  end\n",
    "  \n",
    "  # struct to hold entire mesh\n",
    "  struct Mesh\n",
    "    nnodes::Int64\n",
    "    nelements::Int64 \n",
    "    # specify one-dimensional array of elements as an array of structs. \n",
    "    # we worry about using structArray (if as all) later. \n",
    "    Elements::Array{Element,1}\n",
    "    bndNodeIds::Vector{Int64}\n",
    "    dofPerElement::Int64       \n",
    "  end "
   ]
  },
  {
   "cell_type": "code",
   "execution_count": 118,
   "metadata": {},
   "outputs": [
    {
     "data": {
      "text/plain": [
       "genMesh (generic function with 1 method)"
      ]
     },
     "metadata": {},
     "output_type": "display_data"
    }
   ],
   "source": [
    "# function to generate a mesh on the interval 0 <= x <= 1.   \n",
    "# we limit the type of input to be Int64 \n",
    "function genMesh(nelements::Int64)::Mesh\n",
    "    h = 1/nelements \n",
    "    nnodes = nelements+1\n",
    "    dofPerElement = 2 \n",
    "    x = Vector{Float64}(1:h:2)    \n",
    "    # what does the undef do here? \n",
    "    Elements = Array{Element,1}(undef,nelements)\n",
    "    for i in 1:nelements\n",
    "        Elements[i] = Element(x[i],x[i+1],i,i+1,x[i+1]-x[i])\n",
    "    end\n",
    "    mesh = Mesh(nnodes,nelements,Elements,[1,nelements+1],dofPerElement)     \n",
    "    return mesh;\n",
    "end \n",
    "\n",
    "#mesh = genMesh(4)"
   ]
  },
  {
   "cell_type": "markdown",
   "metadata": {},
   "source": []
  },
  {
   "cell_type": "code",
   "execution_count": 119,
   "metadata": {},
   "outputs": [
    {
     "data": {
      "text/plain": [
       "genStiffMat (generic function with 1 method)"
      ]
     },
     "metadata": {},
     "output_type": "display_data"
    }
   ],
   "source": [
    "\n",
    "\n",
    "\n",
    "# generates local stiffness matrix \n",
    "function genLocStiffMat(element::Element, densityFunc)\n",
    "    h     = element.area \n",
    "    e1    = element.e1\n",
    "    e2    = element.e2\n",
    "    Iloc  = SVector(e1, e1, e2, e2) \n",
    "    Jloc  = SVector(e1, e2, e1, e2) \n",
    "    \n",
    "    p1 = element.p1\n",
    "    p2 = element.p2\n",
    "    c_avg = (densityFunc(p1) + densityFunc(p2)) / 2\n",
    "\n",
    "    Aloc  = SVector(c_avg/h, -c_avg/h, -c_avg/h, c_avg/h) \n",
    "    return Iloc, Jloc, Aloc\n",
    "end\n",
    "\n",
    "# generate global stiffness matrix \n",
    "function genStiffMat(mesh::Mesh, densityFunc::C) where C\n",
    "    \n",
    "    #..recover number of elements  \n",
    "    nelements = mesh.nelements\n",
    "    dofperelem = 4; \n",
    "    \n",
    "    #..preallocate the memory for local matrix contributions \n",
    "    Avalues = zeros(Float64,dofperelem*nelements)\n",
    "    I = zeros(Int64,length(Avalues))\n",
    "    J = zeros(Int64,length(Avalues))\n",
    "\n",
    "    for i = 1:nelements #..loop over number of elements..\n",
    "        element = mesh.Elements[i]\n",
    "        Iloc, Jloc, Aloc = genLocStiffMat(element, densityFunc) \n",
    "        irng = mrange(dofperelem*i-dofperelem + 1,dofperelem*i) \n",
    "        I[irng] .= Iloc \n",
    "        J[irng] .= Jloc \n",
    "        Avalues[irng] .= Aloc         \n",
    "    end\n",
    "    \n",
    "    A = sparse(I,J,Avalues)\n",
    "\n",
    "    #Dirichlet BC on left node\n",
    "    #A[mesh.bndNodeIds[1],1] = 1.\n",
    "    #A[mesh.bndNodeIds[1],2] = 0.\n",
    "    #Neumann BC on right node - no need to change the matrix\n",
    "    #print(A)\n",
    "    return A; \n",
    "end\n",
    "     \n",
    "#A = genStiffMat(mesh)\n",
    "#println(A)"
   ]
  },
  {
   "cell_type": "code",
   "execution_count": 120,
   "metadata": {},
   "outputs": [
    {
     "data": {
      "text/plain": [
       "([-0.7745966692414834, 0.0, 0.7745966692414834], [0.5555555555555556, 0.8888888888888888, 0.5555555555555556])"
      ]
     },
     "metadata": {},
     "output_type": "display_data"
    }
   ],
   "source": [
    "function calcShapeFuncCoeff(degree)\n",
    "    numpoints = degree + 1\n",
    "    points = Vector(LinRange(-1,1,numpoints))\n",
    "    points\n",
    "    coeffs = zeros(Float64,numpoints,numpoints)\n",
    "    x,w = gausslegendre(numpoints)\n",
    "end\n",
    "1000\n",
    "calcShapeFuncCoeff(2)"
   ]
  },
  {
   "cell_type": "code",
   "execution_count": 121,
   "metadata": {},
   "outputs": [
    {
     "data": {
      "text/plain": [
       "genVector (generic function with 1 method)"
      ]
     },
     "metadata": {},
     "output_type": "display_data"
    }
   ],
   "source": [
    "function genLocVec(element, sourceFct)\n",
    "    h = element.area \n",
    "    Iloc = SVector(element.e1, element.e2)\n",
    "    floc = (h/2)*SVector(sourceFct(element.p1), sourceFct(element.p2))\n",
    "    return Iloc, floc\n",
    "end\n",
    "\n",
    "function genVector(mesh, sourceFct::F) where F \n",
    "    \n",
    "    #..recover number of elements  \n",
    "    nelements = mesh.nelements \n",
    "    nnodes = mesh.nnodes \n",
    "    \n",
    "    #..initialize global vector  \n",
    "    f = zeros(Float64,nnodes)\n",
    "\n",
    "    for i = 1:nelements #..loop over number of elements..\n",
    "        element = mesh.Elements[i]\n",
    "        Iloc, floc = genLocVec(element,sourceFct) \n",
    "        f[Iloc] .+= floc          \n",
    "    end\n",
    "\n",
    "    #Boundary conditions\n",
    "    #f[mesh.bndNodeIds[1]] = 0.\n",
    "    #f[mesh.bndNodeIds[2]] = 0.\n",
    "   \n",
    "    return f; \n",
    "end\n",
    "\n",
    "#f = genVector(mesh,fsource)\n",
    "#println(f)\n",
    "     "
   ]
  },
  {
   "cell_type": "code",
   "execution_count": 122,
   "metadata": {},
   "outputs": [
    {
     "data": {
      "text/plain": [
       "genMassMat (generic function with 1 method)"
      ]
     },
     "metadata": {},
     "output_type": "display_data"
    }
   ],
   "source": [
    "# generates local mass matrix \n",
    "function genLocMassMat(element::Element)\n",
    "    h     = element.area \n",
    "    e1    = element.e1\n",
    "    e2    = element.e2\n",
    "    Iloc  = SVector(e1, e1, e2, e2) \n",
    "    Jloc  = SVector(e1, e2, e1, e2) \n",
    "    Aloc  = SVector(h/3 , h/6, h/6, h/3) \n",
    "    return Iloc, Jloc, Aloc\n",
    "end\n",
    "\n",
    "# generate global mass matrix \n",
    "function genMassMat(mesh::Mesh)\n",
    "    \n",
    "    #..recover number of elements  \n",
    "    nelements = mesh.nelements\n",
    "    dofperelem = 4\n",
    "    \n",
    "    #..preallocate the memory for local matrix contributions \n",
    "    Avalues = zeros(Float64,dofperelem*nelements)\n",
    "    I = zeros(Int64,length(Avalues))\n",
    "    J = zeros(Int64,length(Avalues))\n",
    "\n",
    "    for i = 1:nelements #..loop over number of elements..\n",
    "        element = mesh.Elements[i]\n",
    "        Iloc, Jloc, Aloc = genLocMassMat(element) \n",
    "        irng = mrange(dofperelem*i - dofperelem + 1,dofperelem*i) \n",
    "        I[irng] .= Iloc \n",
    "        J[irng] .= Jloc \n",
    "        Avalues[irng] .= Aloc         \n",
    "    end\n",
    "    \n",
    "    A = sparse(I,J,Avalues)\n",
    "\n",
    "    #A[mesh.bndNodeIds[1],1] = 0.\n",
    "    #A[mesh.bndNodeIds[1],2] = 0.\n",
    "    #A[mesh.bndNodeIds[2],1] = 1.\n",
    "    #A[mesh.bndNodeIds[2],end] = 0.\n",
    "\n",
    "    #print(A)\n",
    "    return A; \n",
    "end\n",
    "#mesh = genMesh(4)\n",
    "#genMassMat(mesh)"
   ]
  },
  {
   "cell_type": "markdown",
   "metadata": {},
   "source": [
    "<h1>Test Problem Generation</h1>\n",
    "In the following cell we show the generation of a one-dimensional test problem. Change the parameter of the genMesh function to set a custom mesh resolution. For the test problem we use one constraint on the leftmost (lower index) edge of the problem. Note that we only apply a first order boundary condition, there is no constraint applied to the derivative. Our program gives the correct solution to the Poisson equation, but not a physically plausible deformation of a beam under stress.\n",
    "\n",
    "We tested for correctness by comparing the deflection at the rightmost (high index) edge with the analytical solution to the Poisson equation for homogenous mass and density distributions, and compared our results to those of the matlab code of team 3.\n",
    "\n",
    "Performance is very good because the one dimensional problem has a tridiagonal matrix with only $3 * n - 2$ non-zero entries. Even for one million elements, a solution can be found in less than a second. Because a sparse matrix solver is used, the time to find a solution scales linearly with the number of grid points, just like the number of non-zero elements."
   ]
  },
  {
   "cell_type": "code",
   "execution_count": 127,
   "metadata": {},
   "outputs": [
    {
     "data": {
      "text/plain": [
       "0.6339377285561371"
      ]
     },
     "metadata": {},
     "output_type": "display_data"
    }
   ],
   "source": [
    "mesh = genMesh(1000000)\n",
    "c(x) = x\n",
    "S = genStiffMat(mesh,c)\n",
    "M = genMassMat(mesh)\n",
    "fsource(x) = x*(x-1)\n",
    "f = genVector(mesh,fsource)\n",
    "\n",
    "#println(S)\n",
    "#println(M)\n",
    "#println(f)\n",
    "\n",
    "A = S - M\n",
    "A[1,1] = 1.\n",
    "A[1,2] = 0.\n",
    "#println(A)\n",
    "#println(det(A))\n",
    "#println(A[end,end])\n",
    "#println(A[end,end-1])\n",
    "f[1] = 0.\n",
    "#f[end] = 0.\n",
    "\n",
    "#println(f)\n",
    "\n",
    "#println(S)\n",
    "\n",
    "#println(M)\n",
    "\n",
    "#print(S+M)\n",
    "\n",
    "u = A \\ f\n",
    "\n",
    "\n",
    "#print(u[end])\n",
    "#u = S \\ f\n",
    "display(u[end])\n",
    "\n",
    "#analytical(x) = x - 2 * log(x) - 1\n",
    "#temp = 1:1/1000:2\n",
    "#v = zeros(1001)\n",
    "#for i in 1:1001\n",
    "#    v[i] = analytical(temp[i])\n",
    "#end\n",
    "\n",
    "#v = analytical(temp)\n",
    "plot(u)\n",
    "\n",
    "\n",
    "\n",
    "#print(u[end])"
   ]
  },
  {
   "cell_type": "code",
   "execution_count": null,
   "metadata": {},
   "outputs": [],
   "source": []
  }
 ],
 "metadata": {
  "kernelspec": {
   "display_name": "Julia 1.8.1",
   "language": "julia",
   "name": "julia-1.8"
  },
  "language_info": {
   "file_extension": ".jl",
   "mimetype": "application/julia",
   "name": "julia",
   "version": "1.8.1"
  }
 },
 "nbformat": 4,
 "nbformat_minor": 2
}
