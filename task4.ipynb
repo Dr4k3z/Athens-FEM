{
 "cells": [
  {
   "cell_type": "code",
   "execution_count": 18,
   "metadata": {},
   "outputs": [],
   "source": [
    "using LinearAlgebra\n",
    "using SparseArrays \n",
    "using StructArrays\n",
    "using StaticArrays\n",
    "using StaticRanges\n",
    "using FastGaussQuadrature\n",
    "\n",
    "using IterativeSolvers\n",
    "using Preconditioners\n",
    "\n",
    "using BenchmarkTools\n",
    "using Profile\n",
    "using ProfileView\n",
    "\n",
    "using Plots "
   ]
  },
  {
   "cell_type": "code",
   "execution_count": 19,
   "metadata": {},
   "outputs": [],
   "source": [
    "# struct to hold a single mesh element\n",
    "# all the members of the struct should be concrete type \n",
    "struct Element\n",
    "    p1::Float64    # coordinate left-most node\n",
    "    p2::Float64    # coordinate right-most node\n",
    "    e1::Int64      # global index left-most node\n",
    "    e2::Int64      # global index right-most node\n",
    "    area::Float64  # area of the element \n",
    "  end\n",
    "  \n",
    "  # struct to hold entire mesh\n",
    "  struct Mesh\n",
    "    nnodes::Int64\n",
    "    nelements::Int64 \n",
    "    # specify one-dimensional array of elements as an array of structs. \n",
    "    # we worry about using structArray (if as all) later. \n",
    "    Elements::Array{Element,1}\n",
    "    bndNodeIds::Vector{Int64}\n",
    "    dofPerElement::Int64       \n",
    "  end "
   ]
  },
  {
   "cell_type": "code",
   "execution_count": 20,
   "metadata": {},
   "outputs": [
    {
     "data": {
      "text/plain": [
       "genMesh (generic function with 1 method)"
      ]
     },
     "metadata": {},
     "output_type": "display_data"
    }
   ],
   "source": [
    "# function to generate a mesh on the interval 0 <= x <= 1.   \n",
    "# we limit the type of input to be Int64 \n",
    "function genMesh(nelements::Int64)::Mesh\n",
    "    h = 1/nelements \n",
    "    nnodes = nelements+1\n",
    "    dofPerElement = 2 \n",
    "    x = Vector{Float64}(1:h:2)    \n",
    "    # what does the undef do here? \n",
    "    Elements = Array{Element,1}(undef,nelements)\n",
    "    for i in 1:nelements\n",
    "        Elements[i] = Element(x[i],x[i+1],i,i+1,x[i+1]-x[i])\n",
    "    end\n",
    "    mesh = Mesh(nnodes,nelements,Elements,[1,nelements+1],dofPerElement)     \n",
    "    return mesh;\n",
    "end \n",
    "\n",
    "#mesh = genMesh(4)"
   ]
  },
  {
   "cell_type": "code",
   "execution_count": 21,
   "metadata": {},
   "outputs": [
    {
     "data": {
      "text/plain": [
       "genStiffMat (generic function with 1 method)"
      ]
     },
     "metadata": {},
     "output_type": "display_data"
    }
   ],
   "source": [
    "\n",
    "\n",
    "\n",
    "# generates local stiffness matrix \n",
    "function genLocStiffMat(element::Element, densityFunc)\n",
    "    h     = element.area \n",
    "    e1    = element.e1\n",
    "    e2    = element.e2\n",
    "    Iloc  = SVector(e1, e1, e2, e2) \n",
    "    Jloc  = SVector(e1, e2, e1, e2) \n",
    "    \n",
    "    p1 = element.p1\n",
    "    p2 = element.p2\n",
    "    c_avg = (densityFunc(p1) + densityFunc(p2)) / 2\n",
    "\n",
    "    Aloc  = SVector(c_avg/h, -c_avg/h, -c_avg/h, c_avg/h) \n",
    "    return Iloc, Jloc, Aloc\n",
    "end\n",
    "\n",
    "# generate global stiffness matrix \n",
    "function genStiffMat(mesh::Mesh, densityFunc::C) where C\n",
    "    \n",
    "    #..recover number of elements  \n",
    "    nelements = mesh.nelements\n",
    "    dofperelem = 4; \n",
    "    \n",
    "    #..preallocate the memory for local matrix contributions \n",
    "    Avalues = zeros(Float64,dofperelem*nelements)\n",
    "    I = zeros(Int64,length(Avalues))\n",
    "    J = zeros(Int64,length(Avalues))\n",
    "\n",
    "    for i = 1:nelements #..loop over number of elements..\n",
    "        element = mesh.Elements[i]\n",
    "        Iloc, Jloc, Aloc = genLocStiffMat(element, densityFunc) \n",
    "        irng = mrange(dofperelem*i-dofperelem + 1,dofperelem*i) \n",
    "        I[irng] .= Iloc \n",
    "        J[irng] .= Jloc \n",
    "        Avalues[irng] .= Aloc         \n",
    "    end\n",
    "    \n",
    "    A = sparse(I,J,Avalues)\n",
    "\n",
    "    #Dirichlet BC on left node\n",
    "    A[mesh.bndNodeIds[1],1] = 1.\n",
    "    A[mesh.bndNodeIds[1],2] = 0.\n",
    "    #Neumann BC on right node - no need to change the matrix\n",
    "    #print(A)\n",
    "    return A; \n",
    "end\n",
    "     \n",
    "#A = genStiffMat(mesh)\n",
    "#println(A)"
   ]
  },
  {
   "cell_type": "code",
   "execution_count": 22,
   "metadata": {},
   "outputs": [
    {
     "data": {
      "text/plain": [
       "([-0.7745966692414834, 0.0, 0.7745966692414834], [0.5555555555555556, 0.8888888888888888, 0.5555555555555556])"
      ]
     },
     "metadata": {},
     "output_type": "display_data"
    }
   ],
   "source": [
    "function calcShapeFuncCoeff(degree)\n",
    "    numpoints = degree + 1\n",
    "    points = Vector(LinRange(-1,1,numpoints))\n",
    "    points\n",
    "    coeffs = zeros(Float64,numpoints,numpoints)\n",
    "    x,w = gausslegendre(numpoints)\n",
    "end\n",
    "1000\n",
    "calcShapeFuncCoeff(2)"
   ]
  },
  {
   "cell_type": "code",
   "execution_count": 23,
   "metadata": {},
   "outputs": [
    {
     "data": {
      "text/plain": [
       "genVector (generic function with 1 method)"
      ]
     },
     "metadata": {},
     "output_type": "display_data"
    }
   ],
   "source": [
    "function genLocVec(element, sourceFct)\n",
    "    h = element.area \n",
    "    Iloc = SVector(element.e1, element.e2)\n",
    "    floc = (h/2)*SVector(sourceFct(element.p1), sourceFct(element.p2))\n",
    "    return Iloc, floc\n",
    "end\n",
    "\n",
    "function genVector(mesh, sourceFct::F) where F \n",
    "    \n",
    "    #..recover number of elements  \n",
    "    nelements = mesh.nelements \n",
    "    nnodes = mesh.nnodes \n",
    "    \n",
    "    #..initialize global vector  \n",
    "    f = zeros(Float64,nnodes)\n",
    "\n",
    "    for i = 1:nelements #..loop over number of elements..\n",
    "        element = mesh.Elements[i]\n",
    "        Iloc, floc = genLocVec(element,sourceFct) \n",
    "        f[Iloc] .+= floc          \n",
    "    end\n",
    "\n",
    "    #Boundary conditions\n",
    "    f[mesh.bndNodeIds[1]] = 0.\n",
    "    f[mesh.bndNodeIds[2]] = 0.\n",
    "   \n",
    "    return f; \n",
    "end\n",
    "\n",
    "#f = genVector(mesh,fsource)\n",
    "#println(f)\n",
    "     "
   ]
  },
  {
   "cell_type": "code",
   "execution_count": 24,
   "metadata": {},
   "outputs": [
    {
     "data": {
      "text/plain": [
       "genMassMat (generic function with 1 method)"
      ]
     },
     "metadata": {},
     "output_type": "display_data"
    }
   ],
   "source": [
    "# generates local mass matrix \n",
    "function genLocMassMat(element::Element)\n",
    "    h     = element.area \n",
    "    e1    = element.e1\n",
    "    e2    = element.e2\n",
    "    Iloc  = SVector(e1, e2) \n",
    "    Jloc  = SVector(e1, e2) \n",
    "    Aloc  = SVector(h /2 , h/2) \n",
    "    return Iloc, Jloc, Aloc\n",
    "end\n",
    "\n",
    "# generate global mass matrix \n",
    "function genMassMat(mesh::Mesh)\n",
    "    \n",
    "    #..recover number of elements  \n",
    "    nelements = mesh.nelements\n",
    "    dofperelem = 2\n",
    "    \n",
    "    #..preallocate the memory for local matrix contributions \n",
    "    Avalues = zeros(Float64,dofperelem*nelements)\n",
    "    I = zeros(Int64,length(Avalues))\n",
    "    J = zeros(Int64,length(Avalues))\n",
    "\n",
    "    for i = 1:nelements #..loop over number of elements..\n",
    "        element = mesh.Elements[i]\n",
    "        Iloc, Jloc, Aloc = genLocMassMat(element) \n",
    "        irng = mrange(dofperelem*i - dofperelem + 1,dofperelem*i) \n",
    "        I[irng] .= Iloc \n",
    "        J[irng] .= Jloc \n",
    "        Avalues[irng] .= Aloc         \n",
    "    end\n",
    "    \n",
    "    A = sparse(I,J,Avalues)\n",
    "\n",
    "    A[mesh.bndNodeIds[1],1] = 0.\n",
    "    #A[mesh.bndNodeIds[1],2] = 0.\n",
    "    #A[mesh.bndNodeIds[2],1] = 1.\n",
    "    A[mesh.bndNodeIds[2],end] = 0.\n",
    "\n",
    "    #print(A)\n",
    "    return A; \n",
    "end\n",
    "#mesh = genMesh(4)\n",
    "#genMassMat(mesh)"
   ]
  },
  {
   "cell_type": "code",
   "execution_count": 28,
   "metadata": {},
   "outputs": [
    {
     "data": {
      "image/png": "[encoded data removed]",
      "image/svg+xml": [
       "<?xml version=\"1.0\" encoding=\"utf-8\"?>\n",
       "<svg xmlns=\"http://www.w3.org/2000/svg\" xmlns:xlink=\"http://www.w3.org/1999/xlink\" width=\"600\" height=\"400\" viewBox=\"0 0 2400 1600\">\n",
       "<defs>\n",
       "  <clipPath id=\"clip830\">\n",
       "    <rect x=\"0\" y=\"0\" width=\"2400\" height=\"1600\"/>\n",
       "  </clipPath>\n",
       "</defs>\n",
       "<path clip-path=\"url(#clip830)\" d=\"M0 1600 L2400 1600 L2400 0 L0 0  Z\" fill=\"#ffffff\" fill-rule=\"evenodd\" fill-opacity=\"1\"/>\n",
       "<defs>\n",
       "  <clipPath id=\"clip831\">\n",
       "    <rect x=\"480\" y=\"0\" width=\"1681\" height=\"1600\"/>\n",
       "  </clipPath>\n",
       "</defs>\n",
       "<path clip-path=\"url(#clip830)\" d=\"M224.098 1486.45 L2352.76 1486.45 L2352.76 47.2441 L224.098 47.2441  Z\" fill=\"#ffffff\" fill-rule=\"evenodd\" fill-opacity=\"1\"/>\n",
       "<defs>\n",
       "  <clipPath id=\"clip832\">\n",
       "    <rect x=\"224\" y=\"47\" width=\"2130\" height=\"1440\"/>\n",
       "  </clipPath>\n",
       "</defs>\n",
       "<polyline clip-path=\"url(#clip832)\" style=\"stroke:#000000; stroke-linecap:round; stroke-linejoin:round; stroke-width:2; stroke-opacity:0.1; fill:none\" points=\"264.261,1486.45 264.261,47.2441 \"/>\n",
       "<polyline clip-path=\"url(#clip832)\" style=\"stroke:#000000; stroke-linecap:round; stroke-linejoin:round; stroke-width:2; stroke-opacity:0.1; fill:none\" points=\"766.303,1486.45 766.303,47.2441 \"/>\n",
       "<polyline clip-path=\"url(#clip832)\" style=\"stroke:#000000; stroke-linecap:round; stroke-linejoin:round; stroke-width:2; stroke-opacity:0.1; fill:none\" points=\"1268.35,1486.45 1268.35,47.2441 \"/>\n",
       "<polyline clip-path=\"url(#clip832)\" style=\"stroke:#000000; stroke-linecap:round; stroke-linejoin:round; stroke-width:2; stroke-opacity:0.1; fill:none\" points=\"1770.39,1486.45 1770.39,47.2441 \"/>\n",
       "<polyline clip-path=\"url(#clip832)\" style=\"stroke:#000000; stroke-linecap:round; stroke-linejoin:round; stroke-width:2; stroke-opacity:0.1; fill:none\" points=\"2272.43,1486.45 2272.43,47.2441 \"/>\n",
       "<polyline clip-path=\"url(#clip830)\" style=\"stroke:#000000; stroke-linecap:round; stroke-linejoin:round; stroke-width:4; stroke-opacity:1; fill:none\" points=\"224.098,1486.45 2352.76,1486.45 \"/>\n",
       "<polyline clip-path=\"url(#clip830)\" style=\"stroke:#000000; stroke-linecap:round; stroke-linejoin:round; stroke-width:4; stroke-opacity:1; fill:none\" points=\"264.261,1486.45 264.261,1467.55 \"/>\n",
       "<polyline clip-path=\"url(#clip830)\" style=\"stroke:#000000; stroke-linecap:round; stroke-linejoin:round; stroke-width:4; stroke-opacity:1; fill:none\" points=\"766.303,1486.45 766.303,1467.55 \"/>\n",
       "<polyline clip-path=\"url(#clip830)\" style=\"stroke:#000000; stroke-linecap:round; stroke-linejoin:round; stroke-width:4; stroke-opacity:1; fill:none\" points=\"1268.35,1486.45 1268.35,1467.55 \"/>\n",
       "<polyline clip-path=\"url(#clip830)\" style=\"stroke:#000000; stroke-linecap:round; stroke-linejoin:round; stroke-width:4; stroke-opacity:1; fill:none\" points=\"1770.39,1486.45 1770.39,1467.55 \"/>\n",
       "<polyline clip-path=\"url(#clip830)\" style=\"stroke:#000000; stroke-linecap:round; stroke-linejoin:round; stroke-width:4; stroke-opacity:1; fill:none\" points=\"2272.43,1486.45 2272.43,1467.55 \"/>\n",
       "<path clip-path=\"url(#clip830)\" d=\"M264.261 1517.37 Q260.65 1517.37 258.821 1520.93 Q257.016 1524.47 257.016 1531.6 Q257.016 1538.71 258.821 1542.27 Q260.65 1545.82 264.261 1545.82 Q267.895 1545.82 269.701 1542.27 Q271.53 1538.71 271.53 1531.6 Q271.53 1524.47 269.701 1520.93 Q267.895 1517.37 264.261 1517.37 M264.261 1513.66 Q270.071 1513.66 273.127 1518.27 Q276.206 1522.85 276.206 1531.6 Q276.206 1540.33 273.127 1544.94 Q270.071 1549.52 264.261 1549.52 Q258.451 1549.52 255.372 1544.94 Q252.317 1540.33 252.317 1531.6 Q252.317 1522.85 255.372 1518.27 Q258.451 1513.66 264.261 1513.66 Z\" fill=\"#000000\" fill-rule=\"nonzero\" fill-opacity=\"1\" /><path clip-path=\"url(#clip830)\" d=\"M745.574 1544.91 L761.894 1544.91 L761.894 1548.85 L739.949 1548.85 L739.949 1544.91 Q742.611 1542.16 747.195 1537.53 Q751.801 1532.88 752.982 1531.53 Q755.227 1529.01 756.107 1527.27 Q757.009 1525.51 757.009 1523.82 Q757.009 1521.07 755.065 1519.33 Q753.144 1517.6 750.042 1517.6 Q747.843 1517.6 745.389 1518.36 Q742.958 1519.13 740.181 1520.68 L740.181 1515.95 Q743.005 1514.82 745.458 1514.24 Q747.912 1513.66 749.949 1513.66 Q755.319 1513.66 758.514 1516.35 Q761.708 1519.03 761.708 1523.52 Q761.708 1525.65 760.898 1527.57 Q760.111 1529.47 758.005 1532.07 Q757.426 1532.74 754.324 1535.95 Q751.222 1539.15 745.574 1544.91 Z\" fill=\"#000000\" fill-rule=\"nonzero\" fill-opacity=\"1\" /><path clip-path=\"url(#clip830)\" d=\"M771.755 1514.29 L790.111 1514.29 L790.111 1518.22 L776.037 1518.22 L776.037 1526.7 Q777.055 1526.35 778.074 1526.19 Q779.093 1526 780.111 1526 Q785.898 1526 789.278 1529.17 Q792.657 1532.34 792.657 1537.76 Q792.657 1543.34 789.185 1546.44 Q785.713 1549.52 779.393 1549.52 Q777.218 1549.52 774.949 1549.15 Q772.704 1548.78 770.296 1548.04 L770.296 1543.34 Q772.38 1544.47 774.602 1545.03 Q776.824 1545.58 779.301 1545.58 Q783.305 1545.58 785.643 1543.48 Q787.981 1541.37 787.981 1537.76 Q787.981 1534.15 785.643 1532.04 Q783.305 1529.94 779.301 1529.94 Q777.426 1529.94 775.551 1530.35 Q773.699 1530.77 771.755 1531.65 L771.755 1514.29 Z\" fill=\"#000000\" fill-rule=\"nonzero\" fill-opacity=\"1\" /><path clip-path=\"url(#clip830)\" d=\"M1243.04 1514.29 L1261.4 1514.29 L1261.4 1518.22 L1247.33 1518.22 L1247.33 1526.7 Q1248.35 1526.35 1249.36 1526.19 Q1250.38 1526 1251.4 1526 Q1257.19 1526 1260.57 1529.17 Q1263.95 1532.34 1263.95 1537.76 Q1263.95 1543.34 1260.47 1546.44 Q1257 1549.52 1250.68 1549.52 Q1248.51 1549.52 1246.24 1549.15 Q1243.99 1548.78 1241.59 1548.04 L1241.59 1543.34 Q1243.67 1544.47 1245.89 1545.03 Q1248.11 1545.58 1250.59 1545.58 Q1254.6 1545.58 1256.93 1543.48 Q1259.27 1541.37 1259.27 1537.76 Q1259.27 1534.15 1256.93 1532.04 Q1254.6 1529.94 1250.59 1529.94 Q1248.72 1529.94 1246.84 1530.35 Q1244.99 1530.77 1243.04 1531.65 L1243.04 1514.29 Z\" fill=\"#000000\" fill-rule=\"nonzero\" fill-opacity=\"1\" /><path clip-path=\"url(#clip830)\" d=\"M1283.16 1517.37 Q1279.55 1517.37 1277.72 1520.93 Q1275.91 1524.47 1275.91 1531.6 Q1275.91 1538.71 1277.72 1542.27 Q1279.55 1545.82 1283.16 1545.82 Q1286.79 1545.82 1288.6 1542.27 Q1290.43 1538.71 1290.43 1531.6 Q1290.43 1524.47 1288.6 1520.93 Q1286.79 1517.37 1283.16 1517.37 M1283.16 1513.66 Q1288.97 1513.66 1292.03 1518.27 Q1295.1 1522.85 1295.1 1531.6 Q1295.1 1540.33 1292.03 1544.94 Q1288.97 1549.52 1283.16 1549.52 Q1277.35 1549.52 1274.27 1544.94 Q1271.22 1540.33 1271.22 1531.6 Q1271.22 1522.85 1274.27 1518.27 Q1277.35 1513.66 1283.16 1513.66 Z\" fill=\"#000000\" fill-rule=\"nonzero\" fill-opacity=\"1\" /><path clip-path=\"url(#clip830)\" d=\"M1744.24 1514.29 L1766.46 1514.29 L1766.46 1516.28 L1753.92 1548.85 L1749.03 1548.85 L1760.84 1518.22 L1744.24 1518.22 L1744.24 1514.29 Z\" fill=\"#000000\" fill-rule=\"nonzero\" fill-opacity=\"1\" /><path clip-path=\"url(#clip830)\" d=\"M1775.63 1514.29 L1793.99 1514.29 L1793.99 1518.22 L1779.91 1518.22 L1779.91 1526.7 Q1780.93 1526.35 1781.95 1526.19 Q1782.97 1526 1783.99 1526 Q1789.77 1526 1793.15 1529.17 Q1796.53 1532.34 1796.53 1537.76 Q1796.53 1543.34 1793.06 1546.44 Q1789.59 1549.52 1783.27 1549.52 Q1781.09 1549.52 1778.82 1549.15 Q1776.58 1548.78 1774.17 1548.04 L1774.17 1543.34 Q1776.26 1544.47 1778.48 1545.03 Q1780.7 1545.58 1783.18 1545.58 Q1787.18 1545.58 1789.52 1543.48 Q1791.86 1541.37 1791.86 1537.76 Q1791.86 1534.15 1789.52 1532.04 Q1787.18 1529.94 1783.18 1529.94 Q1781.3 1529.94 1779.43 1530.35 Q1777.57 1530.77 1775.63 1531.65 L1775.63 1514.29 Z\" fill=\"#000000\" fill-rule=\"nonzero\" fill-opacity=\"1\" /><path clip-path=\"url(#clip830)\" d=\"M2232.04 1544.91 L2239.67 1544.91 L2239.67 1518.55 L2231.36 1520.21 L2231.36 1515.95 L2239.63 1514.29 L2244.3 1514.29 L2244.3 1544.91 L2251.94 1544.91 L2251.94 1548.85 L2232.04 1548.85 L2232.04 1544.91 Z\" fill=\"#000000\" fill-rule=\"nonzero\" fill-opacity=\"1\" /><path clip-path=\"url(#clip830)\" d=\"M2271.39 1517.37 Q2267.78 1517.37 2265.95 1520.93 Q2264.14 1524.47 2264.14 1531.6 Q2264.14 1538.71 2265.95 1542.27 Q2267.78 1545.82 2271.39 1545.82 Q2275.02 1545.82 2276.83 1542.27 Q2278.66 1538.71 2278.66 1531.6 Q2278.66 1524.47 2276.83 1520.93 Q2275.02 1517.37 2271.39 1517.37 M2271.39 1513.66 Q2277.2 1513.66 2280.25 1518.27 Q2283.33 1522.85 2283.33 1531.6 Q2283.33 1540.33 2280.25 1544.94 Q2277.2 1549.52 2271.39 1549.52 Q2265.58 1549.52 2262.5 1544.94 Q2259.44 1540.33 2259.44 1531.6 Q2259.44 1522.85 2262.5 1518.27 Q2265.58 1513.66 2271.39 1513.66 Z\" fill=\"#000000\" fill-rule=\"nonzero\" fill-opacity=\"1\" /><path clip-path=\"url(#clip830)\" d=\"M2301.55 1517.37 Q2297.94 1517.37 2296.11 1520.93 Q2294.3 1524.47 2294.3 1531.6 Q2294.3 1538.71 2296.11 1542.27 Q2297.94 1545.82 2301.55 1545.82 Q2305.18 1545.82 2306.99 1542.27 Q2308.82 1538.71 2308.82 1531.6 Q2308.82 1524.47 2306.99 1520.93 Q2305.18 1517.37 2301.55 1517.37 M2301.55 1513.66 Q2307.36 1513.66 2310.42 1518.27 Q2313.49 1522.85 2313.49 1531.6 Q2313.49 1540.33 2310.42 1544.94 Q2307.36 1549.52 2301.55 1549.52 Q2295.74 1549.52 2292.66 1544.94 Q2289.61 1540.33 2289.61 1531.6 Q2289.61 1522.85 2292.66 1518.27 Q2295.74 1513.66 2301.55 1513.66 Z\" fill=\"#000000\" fill-rule=\"nonzero\" fill-opacity=\"1\" /><polyline clip-path=\"url(#clip832)\" style=\"stroke:#000000; stroke-linecap:round; stroke-linejoin:round; stroke-width:2; stroke-opacity:0.1; fill:none\" points=\"224.098,1264.44 2352.76,1264.44 \"/>\n",
       "<polyline clip-path=\"url(#clip832)\" style=\"stroke:#000000; stroke-linecap:round; stroke-linejoin:round; stroke-width:2; stroke-opacity:0.1; fill:none\" points=\"224.098,1029.15 2352.76,1029.15 \"/>\n",
       "<polyline clip-path=\"url(#clip832)\" style=\"stroke:#000000; stroke-linecap:round; stroke-linejoin:round; stroke-width:2; stroke-opacity:0.1; fill:none\" points=\"224.098,793.854 2352.76,793.854 \"/>\n",
       "<polyline clip-path=\"url(#clip832)\" style=\"stroke:#000000; stroke-linecap:round; stroke-linejoin:round; stroke-width:2; stroke-opacity:0.1; fill:none\" points=\"224.098,558.561 2352.76,558.561 \"/>\n",
       "<polyline clip-path=\"url(#clip832)\" style=\"stroke:#000000; stroke-linecap:round; stroke-linejoin:round; stroke-width:2; stroke-opacity:0.1; fill:none\" points=\"224.098,323.269 2352.76,323.269 \"/>\n",
       "<polyline clip-path=\"url(#clip832)\" style=\"stroke:#000000; stroke-linecap:round; stroke-linejoin:round; stroke-width:2; stroke-opacity:0.1; fill:none\" points=\"224.098,87.9763 2352.76,87.9763 \"/>\n",
       "<polyline clip-path=\"url(#clip830)\" style=\"stroke:#000000; stroke-linecap:round; stroke-linejoin:round; stroke-width:4; stroke-opacity:1; fill:none\" points=\"224.098,1486.45 224.098,47.2441 \"/>\n",
       "<polyline clip-path=\"url(#clip830)\" style=\"stroke:#000000; stroke-linecap:round; stroke-linejoin:round; stroke-width:4; stroke-opacity:1; fill:none\" points=\"224.098,1264.44 242.996,1264.44 \"/>\n",
       "<polyline clip-path=\"url(#clip830)\" style=\"stroke:#000000; stroke-linecap:round; stroke-linejoin:round; stroke-width:4; stroke-opacity:1; fill:none\" points=\"224.098,1029.15 242.996,1029.15 \"/>\n",
       "<polyline clip-path=\"url(#clip830)\" style=\"stroke:#000000; stroke-linecap:round; stroke-linejoin:round; stroke-width:4; stroke-opacity:1; fill:none\" points=\"224.098,793.854 242.996,793.854 \"/>\n",
       "<polyline clip-path=\"url(#clip830)\" style=\"stroke:#000000; stroke-linecap:round; stroke-linejoin:round; stroke-width:4; stroke-opacity:1; fill:none\" points=\"224.098,558.561 242.996,558.561 \"/>\n",
       "<polyline clip-path=\"url(#clip830)\" style=\"stroke:#000000; stroke-linecap:round; stroke-linejoin:round; stroke-width:4; stroke-opacity:1; fill:none\" points=\"224.098,323.269 242.996,323.269 \"/>\n",
       "<polyline clip-path=\"url(#clip830)\" style=\"stroke:#000000; stroke-linecap:round; stroke-linejoin:round; stroke-width:4; stroke-opacity:1; fill:none\" points=\"224.098,87.9763 242.996,87.9763 \"/>\n",
       "<path clip-path=\"url(#clip830)\" d=\"M51.9875 1264.89 L81.6633 1264.89 L81.6633 1268.83 L51.9875 1268.83 L51.9875 1264.89 Z\" fill=\"#000000\" fill-rule=\"nonzero\" fill-opacity=\"1\" /><path clip-path=\"url(#clip830)\" d=\"M101.756 1250.24 Q98.1447 1250.24 96.316 1253.8 Q94.5104 1257.34 94.5104 1264.47 Q94.5104 1271.58 96.316 1275.14 Q98.1447 1278.69 101.756 1278.69 Q105.39 1278.69 107.196 1275.14 Q109.024 1271.58 109.024 1264.47 Q109.024 1257.34 107.196 1253.8 Q105.39 1250.24 101.756 1250.24 M101.756 1246.53 Q107.566 1246.53 110.621 1251.14 Q113.7 1255.72 113.7 1264.47 Q113.7 1273.2 110.621 1277.81 Q107.566 1282.39 101.756 1282.39 Q95.9456 1282.39 92.8669 1277.81 Q89.8114 1273.2 89.8114 1264.47 Q89.8114 1255.72 92.8669 1251.14 Q95.9456 1246.53 101.756 1246.53 Z\" fill=\"#000000\" fill-rule=\"nonzero\" fill-opacity=\"1\" /><path clip-path=\"url(#clip830)\" d=\"M121.918 1275.84 L126.802 1275.84 L126.802 1281.72 L121.918 1281.72 L121.918 1275.84 Z\" fill=\"#000000\" fill-rule=\"nonzero\" fill-opacity=\"1\" /><path clip-path=\"url(#clip830)\" d=\"M141.015 1277.78 L157.334 1277.78 L157.334 1281.72 L135.39 1281.72 L135.39 1277.78 Q138.052 1275.03 142.635 1270.4 Q147.242 1265.75 148.422 1264.4 Q150.668 1261.88 151.547 1260.14 Q152.45 1258.39 152.45 1256.7 Q152.45 1253.94 150.505 1252.21 Q148.584 1250.47 145.482 1250.47 Q143.283 1250.47 140.83 1251.23 Q138.399 1252 135.621 1253.55 L135.621 1248.83 Q138.445 1247.69 140.899 1247.11 Q143.353 1246.53 145.39 1246.53 Q150.76 1246.53 153.955 1249.22 Q157.149 1251.9 157.149 1256.39 Q157.149 1258.52 156.339 1260.45 Q155.552 1262.34 153.445 1264.94 Q152.867 1265.61 149.765 1268.83 Q146.663 1272.02 141.015 1277.78 Z\" fill=\"#000000\" fill-rule=\"nonzero\" fill-opacity=\"1\" /><path clip-path=\"url(#clip830)\" d=\"M167.195 1247.16 L185.552 1247.16 L185.552 1251.09 L171.478 1251.09 L171.478 1259.57 Q172.496 1259.22 173.515 1259.06 Q174.533 1258.87 175.552 1258.87 Q181.339 1258.87 184.718 1262.04 Q188.098 1265.21 188.098 1270.63 Q188.098 1276.21 184.626 1279.31 Q181.153 1282.39 174.834 1282.39 Q172.658 1282.39 170.39 1282.02 Q168.144 1281.65 165.737 1280.91 L165.737 1276.21 Q167.82 1277.34 170.042 1277.9 Q172.265 1278.46 174.741 1278.46 Q178.746 1278.46 181.084 1276.35 Q183.422 1274.24 183.422 1270.63 Q183.422 1267.02 181.084 1264.91 Q178.746 1262.81 174.741 1262.81 Q172.866 1262.81 170.991 1263.22 Q169.14 1263.64 167.195 1264.52 L167.195 1247.16 Z\" fill=\"#000000\" fill-rule=\"nonzero\" fill-opacity=\"1\" /><path clip-path=\"url(#clip830)\" d=\"M50.9921 1029.6 L80.6679 1029.6 L80.6679 1033.53 L50.9921 1033.53 L50.9921 1029.6 Z\" fill=\"#000000\" fill-rule=\"nonzero\" fill-opacity=\"1\" /><path clip-path=\"url(#clip830)\" d=\"M100.76 1014.95 Q97.1493 1014.95 95.3206 1018.51 Q93.515 1022.05 93.515 1029.18 Q93.515 1036.29 95.3206 1039.85 Q97.1493 1043.39 100.76 1043.39 Q104.395 1043.39 106.2 1039.85 Q108.029 1036.29 108.029 1029.18 Q108.029 1022.05 106.2 1018.51 Q104.395 1014.95 100.76 1014.95 M100.76 1011.24 Q106.571 1011.24 109.626 1015.85 Q112.705 1020.43 112.705 1029.18 Q112.705 1037.91 109.626 1042.51 Q106.571 1047.1 100.76 1047.1 Q94.9502 1047.1 91.8715 1042.51 Q88.816 1037.91 88.816 1029.18 Q88.816 1020.43 91.8715 1015.85 Q94.9502 1011.24 100.76 1011.24 Z\" fill=\"#000000\" fill-rule=\"nonzero\" fill-opacity=\"1\" /><path clip-path=\"url(#clip830)\" d=\"M120.922 1040.55 L125.807 1040.55 L125.807 1046.43 L120.922 1046.43 L120.922 1040.55 Z\" fill=\"#000000\" fill-rule=\"nonzero\" fill-opacity=\"1\" /><path clip-path=\"url(#clip830)\" d=\"M140.019 1042.49 L156.339 1042.49 L156.339 1046.43 L134.394 1046.43 L134.394 1042.49 Q137.056 1039.74 141.64 1035.11 Q146.246 1030.45 147.427 1029.11 Q149.672 1026.59 150.552 1024.85 Q151.455 1023.09 151.455 1021.4 Q151.455 1018.65 149.51 1016.91 Q147.589 1015.18 144.487 1015.18 Q142.288 1015.18 139.834 1015.94 Q137.404 1016.7 134.626 1018.26 L134.626 1013.53 Q137.45 1012.4 139.904 1011.82 Q142.357 1011.24 144.394 1011.24 Q149.765 1011.24 152.959 1013.93 Q156.154 1016.61 156.154 1021.1 Q156.154 1023.23 155.343 1025.15 Q154.556 1027.05 152.45 1029.64 Q151.871 1030.32 148.769 1033.53 Q145.668 1036.73 140.019 1042.49 Z\" fill=\"#000000\" fill-rule=\"nonzero\" fill-opacity=\"1\" /><path clip-path=\"url(#clip830)\" d=\"M176.153 1014.95 Q172.542 1014.95 170.714 1018.51 Q168.908 1022.05 168.908 1029.18 Q168.908 1036.29 170.714 1039.85 Q172.542 1043.39 176.153 1043.39 Q179.788 1043.39 181.593 1039.85 Q183.422 1036.29 183.422 1029.18 Q183.422 1022.05 181.593 1018.51 Q179.788 1014.95 176.153 1014.95 M176.153 1011.24 Q181.964 1011.24 185.019 1015.85 Q188.098 1020.43 188.098 1029.18 Q188.098 1037.91 185.019 1042.51 Q181.964 1047.1 176.153 1047.1 Q170.343 1047.1 167.265 1042.51 Q164.209 1037.91 164.209 1029.18 Q164.209 1020.43 167.265 1015.85 Q170.343 1011.24 176.153 1011.24 Z\" fill=\"#000000\" fill-rule=\"nonzero\" fill-opacity=\"1\" /><path clip-path=\"url(#clip830)\" d=\"M51.9875 794.305 L81.6633 794.305 L81.6633 798.24 L51.9875 798.24 L51.9875 794.305 Z\" fill=\"#000000\" fill-rule=\"nonzero\" fill-opacity=\"1\" /><path clip-path=\"url(#clip830)\" d=\"M101.756 779.653 Q98.1447 779.653 96.316 783.217 Q94.5104 786.759 94.5104 793.889 Q94.5104 800.995 96.316 804.56 Q98.1447 808.101 101.756 808.101 Q105.39 808.101 107.196 804.56 Q109.024 800.995 109.024 793.889 Q109.024 786.759 107.196 783.217 Q105.39 779.653 101.756 779.653 M101.756 775.949 Q107.566 775.949 110.621 780.555 Q113.7 785.139 113.7 793.889 Q113.7 802.615 110.621 807.222 Q107.566 811.805 101.756 811.805 Q95.9456 811.805 92.8669 807.222 Q89.8114 802.615 89.8114 793.889 Q89.8114 785.139 92.8669 780.555 Q95.9456 775.949 101.756 775.949 Z\" fill=\"#000000\" fill-rule=\"nonzero\" fill-opacity=\"1\" /><path clip-path=\"url(#clip830)\" d=\"M121.918 805.254 L126.802 805.254 L126.802 811.134 L121.918 811.134 L121.918 805.254 Z\" fill=\"#000000\" fill-rule=\"nonzero\" fill-opacity=\"1\" /><path clip-path=\"url(#clip830)\" d=\"M137.797 807.199 L145.436 807.199 L145.436 780.833 L137.126 782.5 L137.126 778.241 L145.39 776.574 L150.066 776.574 L150.066 807.199 L157.705 807.199 L157.705 811.134 L137.797 811.134 L137.797 807.199 Z\" fill=\"#000000\" fill-rule=\"nonzero\" fill-opacity=\"1\" /><path clip-path=\"url(#clip830)\" d=\"M167.195 776.574 L185.552 776.574 L185.552 780.509 L171.478 780.509 L171.478 788.981 Q172.496 788.634 173.515 788.472 Q174.533 788.287 175.552 788.287 Q181.339 788.287 184.718 791.458 Q188.098 794.629 188.098 800.046 Q188.098 805.625 184.626 808.726 Q181.153 811.805 174.834 811.805 Q172.658 811.805 170.39 811.435 Q168.144 811.064 165.737 810.324 L165.737 805.625 Q167.82 806.759 170.042 807.314 Q172.265 807.87 174.741 807.87 Q178.746 807.87 181.084 805.764 Q183.422 803.657 183.422 800.046 Q183.422 796.435 181.084 794.328 Q178.746 792.222 174.741 792.222 Q172.866 792.222 170.991 792.639 Q169.14 793.055 167.195 793.935 L167.195 776.574 Z\" fill=\"#000000\" fill-rule=\"nonzero\" fill-opacity=\"1\" /><path clip-path=\"url(#clip830)\" d=\"M50.9921 559.013 L80.6679 559.013 L80.6679 562.948 L50.9921 562.948 L50.9921 559.013 Z\" fill=\"#000000\" fill-rule=\"nonzero\" fill-opacity=\"1\" /><path clip-path=\"url(#clip830)\" d=\"M100.76 544.36 Q97.1493 544.36 95.3206 547.925 Q93.515 551.466 93.515 558.596 Q93.515 565.702 95.3206 569.267 Q97.1493 572.809 100.76 572.809 Q104.395 572.809 106.2 569.267 Q108.029 565.702 108.029 558.596 Q108.029 551.466 106.2 547.925 Q104.395 544.36 100.76 544.36 M100.76 540.656 Q106.571 540.656 109.626 545.263 Q112.705 549.846 112.705 558.596 Q112.705 567.323 109.626 571.929 Q106.571 576.513 100.76 576.513 Q94.9502 576.513 91.8715 571.929 Q88.816 567.323 88.816 558.596 Q88.816 549.846 91.8715 545.263 Q94.9502 540.656 100.76 540.656 Z\" fill=\"#000000\" fill-rule=\"nonzero\" fill-opacity=\"1\" /><path clip-path=\"url(#clip830)\" d=\"M120.922 569.962 L125.807 569.962 L125.807 575.841 L120.922 575.841 L120.922 569.962 Z\" fill=\"#000000\" fill-rule=\"nonzero\" fill-opacity=\"1\" /><path clip-path=\"url(#clip830)\" d=\"M136.802 571.906 L144.441 571.906 L144.441 545.541 L136.131 547.207 L136.131 542.948 L144.394 541.281 L149.07 541.281 L149.07 571.906 L156.709 571.906 L156.709 575.841 L136.802 575.841 L136.802 571.906 Z\" fill=\"#000000\" fill-rule=\"nonzero\" fill-opacity=\"1\" /><path clip-path=\"url(#clip830)\" d=\"M176.153 544.36 Q172.542 544.36 170.714 547.925 Q168.908 551.466 168.908 558.596 Q168.908 565.702 170.714 569.267 Q172.542 572.809 176.153 572.809 Q179.788 572.809 181.593 569.267 Q183.422 565.702 183.422 558.596 Q183.422 551.466 181.593 547.925 Q179.788 544.36 176.153 544.36 M176.153 540.656 Q181.964 540.656 185.019 545.263 Q188.098 549.846 188.098 558.596 Q188.098 567.323 185.019 571.929 Q181.964 576.513 176.153 576.513 Q170.343 576.513 167.265 571.929 Q164.209 567.323 164.209 558.596 Q164.209 549.846 167.265 545.263 Q170.343 540.656 176.153 540.656 Z\" fill=\"#000000\" fill-rule=\"nonzero\" fill-opacity=\"1\" /><path clip-path=\"url(#clip830)\" d=\"M51.9875 323.72 L81.6633 323.72 L81.6633 327.655 L51.9875 327.655 L51.9875 323.72 Z\" fill=\"#000000\" fill-rule=\"nonzero\" fill-opacity=\"1\" /><path clip-path=\"url(#clip830)\" d=\"M101.756 309.067 Q98.1447 309.067 96.316 312.632 Q94.5104 316.174 94.5104 323.304 Q94.5104 330.41 96.316 333.975 Q98.1447 337.516 101.756 337.516 Q105.39 337.516 107.196 333.975 Q109.024 330.41 109.024 323.304 Q109.024 316.174 107.196 312.632 Q105.39 309.067 101.756 309.067 M101.756 305.364 Q107.566 305.364 110.621 309.97 Q113.7 314.554 113.7 323.304 Q113.7 332.03 110.621 336.637 Q107.566 341.22 101.756 341.22 Q95.9456 341.22 92.8669 336.637 Q89.8114 332.03 89.8114 323.304 Q89.8114 314.554 92.8669 309.97 Q95.9456 305.364 101.756 305.364 Z\" fill=\"#000000\" fill-rule=\"nonzero\" fill-opacity=\"1\" /><path clip-path=\"url(#clip830)\" d=\"M121.918 334.669 L126.802 334.669 L126.802 340.549 L121.918 340.549 L121.918 334.669 Z\" fill=\"#000000\" fill-rule=\"nonzero\" fill-opacity=\"1\" /><path clip-path=\"url(#clip830)\" d=\"M146.987 309.067 Q143.376 309.067 141.547 312.632 Q139.742 316.174 139.742 323.304 Q139.742 330.41 141.547 333.975 Q143.376 337.516 146.987 337.516 Q150.621 337.516 152.427 333.975 Q154.255 330.41 154.255 323.304 Q154.255 316.174 152.427 312.632 Q150.621 309.067 146.987 309.067 M146.987 305.364 Q152.797 305.364 155.853 309.97 Q158.931 314.554 158.931 323.304 Q158.931 332.03 155.853 336.637 Q152.797 341.22 146.987 341.22 Q141.177 341.22 138.098 336.637 Q135.043 332.03 135.043 323.304 Q135.043 314.554 138.098 309.97 Q141.177 305.364 146.987 305.364 Z\" fill=\"#000000\" fill-rule=\"nonzero\" fill-opacity=\"1\" /><path clip-path=\"url(#clip830)\" d=\"M167.195 305.989 L185.552 305.989 L185.552 309.924 L171.478 309.924 L171.478 318.396 Q172.496 318.049 173.515 317.887 Q174.533 317.702 175.552 317.702 Q181.339 317.702 184.718 320.873 Q188.098 324.044 188.098 329.461 Q188.098 335.04 184.626 338.141 Q181.153 341.22 174.834 341.22 Q172.658 341.22 170.39 340.85 Q168.144 340.479 165.737 339.739 L165.737 335.04 Q167.82 336.174 170.042 336.729 Q172.265 337.285 174.741 337.285 Q178.746 337.285 181.084 335.178 Q183.422 333.072 183.422 329.461 Q183.422 325.85 181.084 323.743 Q178.746 321.637 174.741 321.637 Q172.866 321.637 170.991 322.054 Q169.14 322.47 167.195 323.35 L167.195 305.989 Z\" fill=\"#000000\" fill-rule=\"nonzero\" fill-opacity=\"1\" /><path clip-path=\"url(#clip830)\" d=\"M100.76 73.775 Q97.1493 73.775 95.3206 77.3398 Q93.515 80.8814 93.515 88.011 Q93.515 95.1174 95.3206 98.6822 Q97.1493 102.224 100.76 102.224 Q104.395 102.224 106.2 98.6822 Q108.029 95.1174 108.029 88.011 Q108.029 80.8814 106.2 77.3398 Q104.395 73.775 100.76 73.775 M100.76 70.0713 Q106.571 70.0713 109.626 74.6777 Q112.705 79.261 112.705 88.011 Q112.705 96.7378 109.626 101.344 Q106.571 105.928 100.76 105.928 Q94.9502 105.928 91.8715 101.344 Q88.816 96.7378 88.816 88.011 Q88.816 79.261 91.8715 74.6777 Q94.9502 70.0713 100.76 70.0713 Z\" fill=\"#000000\" fill-rule=\"nonzero\" fill-opacity=\"1\" /><path clip-path=\"url(#clip830)\" d=\"M120.922 99.3767 L125.807 99.3767 L125.807 105.256 L120.922 105.256 L120.922 99.3767 Z\" fill=\"#000000\" fill-rule=\"nonzero\" fill-opacity=\"1\" /><path clip-path=\"url(#clip830)\" d=\"M145.992 73.775 Q142.381 73.775 140.552 77.3398 Q138.746 80.8814 138.746 88.011 Q138.746 95.1174 140.552 98.6822 Q142.381 102.224 145.992 102.224 Q149.626 102.224 151.431 98.6822 Q153.26 95.1174 153.26 88.011 Q153.26 80.8814 151.431 77.3398 Q149.626 73.775 145.992 73.775 M145.992 70.0713 Q151.802 70.0713 154.857 74.6777 Q157.936 79.261 157.936 88.011 Q157.936 96.7378 154.857 101.344 Q151.802 105.928 145.992 105.928 Q140.181 105.928 137.103 101.344 Q134.047 96.7378 134.047 88.011 Q134.047 79.261 137.103 74.6777 Q140.181 70.0713 145.992 70.0713 Z\" fill=\"#000000\" fill-rule=\"nonzero\" fill-opacity=\"1\" /><path clip-path=\"url(#clip830)\" d=\"M176.153 73.775 Q172.542 73.775 170.714 77.3398 Q168.908 80.8814 168.908 88.011 Q168.908 95.1174 170.714 98.6822 Q172.542 102.224 176.153 102.224 Q179.788 102.224 181.593 98.6822 Q183.422 95.1174 183.422 88.011 Q183.422 80.8814 181.593 77.3398 Q179.788 73.775 176.153 73.775 M176.153 70.0713 Q181.964 70.0713 185.019 74.6777 Q188.098 79.261 188.098 88.011 Q188.098 96.7378 185.019 101.344 Q181.964 105.928 176.153 105.928 Q170.343 105.928 167.265 101.344 Q164.209 96.7378 164.209 88.011 Q164.209 79.261 167.265 74.6777 Q170.343 70.0713 176.153 70.0713 Z\" fill=\"#000000\" fill-rule=\"nonzero\" fill-opacity=\"1\" /><polyline clip-path=\"url(#clip832)\" style=\"stroke:#009af9; stroke-linecap:round; stroke-linejoin:round; stroke-width:4; stroke-opacity:1; fill:none\" points=\"284.343,87.9763 304.425,124.756 324.506,160.714 344.588,195.868 364.67,230.239 384.751,263.844 404.833,296.701 424.915,328.828 444.996,360.24 465.078,390.954 485.16,420.986 505.241,450.35 525.323,479.061 545.405,507.133 565.486,534.581 585.568,561.416 605.65,587.653 625.731,613.304 645.813,638.38 665.895,662.895 685.977,686.858 706.058,710.282 726.14,733.177 746.222,755.553 766.303,777.421 786.385,798.791 806.467,819.673 826.548,840.075 846.63,860.007 866.712,879.478 886.793,898.496 906.875,917.07 926.957,935.208 947.038,952.918 967.12,970.207 987.202,987.084 1007.28,1003.56 1027.37,1019.63 1047.45,1035.31 1067.53,1050.61 1087.61,1065.52 1107.69,1080.07 1127.77,1094.25 1147.86,1108.08 1167.94,1121.55 1188.02,1134.67 1208.1,1147.45 1228.18,1159.89 1248.26,1172.01 1268.35,1183.8 1288.43,1195.26 1308.51,1206.42 1328.59,1217.26 1348.67,1227.8 1368.75,1238.03 1388.84,1247.97 1408.92,1257.62 1429,1266.98 1449.08,1276.05 1469.16,1284.85 1489.24,1293.37 1509.33,1301.62 1529.41,1309.61 1549.49,1317.33 1569.57,1324.79 1589.65,1331.99 1609.73,1338.94 1629.82,1345.65 1649.9,1352.1 1669.98,1358.32 1690.06,1364.29 1710.14,1370.03 1730.22,1375.53 1750.31,1380.81 1770.39,1385.85 1790.47,1390.68 1810.55,1395.28 1830.63,1399.66 1850.71,1403.83 1870.8,1407.79 1890.88,1411.53 1910.96,1415.06 1931.04,1418.39 1951.12,1421.52 1971.2,1424.45 1991.29,1427.17 2011.37,1429.71 2031.45,1432.04 2051.53,1434.19 2071.61,1436.14 2091.69,1437.91 2111.78,1439.49 2131.86,1440.89 2151.94,1442.11 2172.02,1443.15 2192.1,1444.01 2212.18,1444.7 2232.27,1445.21 2252.35,1445.55 2272.43,1445.72 2292.51,1445.72 \"/>\n",
       "<path clip-path=\"url(#clip830)\" d=\"M2016.5 198.898 L2281.8 198.898 L2281.8 95.2176 L2016.5 95.2176  Z\" fill=\"#ffffff\" fill-rule=\"evenodd\" fill-opacity=\"1\"/>\n",
       "<polyline clip-path=\"url(#clip830)\" style=\"stroke:#000000; stroke-linecap:round; stroke-linejoin:round; stroke-width:4; stroke-opacity:1; fill:none\" points=\"2016.5,198.898 2281.8,198.898 2281.8,95.2176 2016.5,95.2176 2016.5,198.898 \"/>\n",
       "<polyline clip-path=\"url(#clip830)\" style=\"stroke:#009af9; stroke-linecap:round; stroke-linejoin:round; stroke-width:4; stroke-opacity:1; fill:none\" points=\"2040.16,147.058 2182.07,147.058 \"/>\n",
       "<path clip-path=\"url(#clip830)\" d=\"M2219.56 166.745 Q2217.76 171.375 2216.04 172.787 Q2214.33 174.199 2211.46 174.199 L2208.06 174.199 L2208.06 170.634 L2210.56 170.634 Q2212.32 170.634 2213.29 169.8 Q2214.26 168.967 2215.44 165.865 L2216.2 163.921 L2205.72 138.412 L2210.23 138.412 L2218.33 158.689 L2226.44 138.412 L2230.95 138.412 L2219.56 166.745 Z\" fill=\"#000000\" fill-rule=\"nonzero\" fill-opacity=\"1\" /><path clip-path=\"url(#clip830)\" d=\"M2238.24 160.402 L2245.88 160.402 L2245.88 134.037 L2237.57 135.703 L2237.57 131.444 L2245.83 129.778 L2250.51 129.778 L2250.51 160.402 L2258.15 160.402 L2258.15 164.338 L2238.24 164.338 L2238.24 160.402 Z\" fill=\"#000000\" fill-rule=\"nonzero\" fill-opacity=\"1\" /></svg>\n"
      ],
      "text/html": [
       "<?xml version=\"1.0\" encoding=\"utf-8\"?>\n",
       "<svg xmlns=\"http://www.w3.org/2000/svg\" xmlns:xlink=\"http://www.w3.org/1999/xlink\" width=\"600\" height=\"400\" viewBox=\"0 0 2400 1600\">\n",
       "<defs>\n",
       "  <clipPath id=\"clip880\">\n",
       "    <rect x=\"0\" y=\"0\" width=\"2400\" height=\"1600\"/>\n",
       "  </clipPath>\n",
       "</defs>\n",
       "<path clip-path=\"url(#clip880)\" d=\"M0 1600 L2400 1600 L2400 0 L0 0  Z\" fill=\"#ffffff\" fill-rule=\"evenodd\" fill-opacity=\"1\"/>\n",
       "<defs>\n",
       "  <clipPath id=\"clip881\">\n",
       "    <rect x=\"480\" y=\"0\" width=\"1681\" height=\"1600\"/>\n",
       "  </clipPath>\n",
       "</defs>\n",
       "<path clip-path=\"url(#clip880)\" d=\"M224.098 1486.45 L2352.76 1486.45 L2352.76 47.2441 L224.098 47.2441  Z\" fill=\"#ffffff\" fill-rule=\"evenodd\" fill-opacity=\"1\"/>\n",
       "<defs>\n",
       "  <clipPath id=\"clip882\">\n",
       "    <rect x=\"224\" y=\"47\" width=\"2130\" height=\"1440\"/>\n",
       "  </clipPath>\n",
       "</defs>\n",
       "<polyline clip-path=\"url(#clip882)\" style=\"stroke:#000000; stroke-linecap:round; stroke-linejoin:round; stroke-width:2; stroke-opacity:0.1; fill:none\" points=\"264.261,1486.45 264.261,47.2441 \"/>\n",
       "<polyline clip-path=\"url(#clip882)\" style=\"stroke:#000000; stroke-linecap:round; stroke-linejoin:round; stroke-width:2; stroke-opacity:0.1; fill:none\" points=\"766.303,1486.45 766.303,47.2441 \"/>\n",
       "<polyline clip-path=\"url(#clip882)\" style=\"stroke:#000000; stroke-linecap:round; stroke-linejoin:round; stroke-width:2; stroke-opacity:0.1; fill:none\" points=\"1268.35,1486.45 1268.35,47.2441 \"/>\n",
       "<polyline clip-path=\"url(#clip882)\" style=\"stroke:#000000; stroke-linecap:round; stroke-linejoin:round; stroke-width:2; stroke-opacity:0.1; fill:none\" points=\"1770.39,1486.45 1770.39,47.2441 \"/>\n",
       "<polyline clip-path=\"url(#clip882)\" style=\"stroke:#000000; stroke-linecap:round; stroke-linejoin:round; stroke-width:2; stroke-opacity:0.1; fill:none\" points=\"2272.43,1486.45 2272.43,47.2441 \"/>\n",
       "<polyline clip-path=\"url(#clip880)\" style=\"stroke:#000000; stroke-linecap:round; stroke-linejoin:round; stroke-width:4; stroke-opacity:1; fill:none\" points=\"224.098,1486.45 2352.76,1486.45 \"/>\n",
       "<polyline clip-path=\"url(#clip880)\" style=\"stroke:#000000; stroke-linecap:round; stroke-linejoin:round; stroke-width:4; stroke-opacity:1; fill:none\" points=\"264.261,1486.45 264.261,1467.55 \"/>\n",
       "<polyline clip-path=\"url(#clip880)\" style=\"stroke:#000000; stroke-linecap:round; stroke-linejoin:round; stroke-width:4; stroke-opacity:1; fill:none\" points=\"766.303,1486.45 766.303,1467.55 \"/>\n",
       "<polyline clip-path=\"url(#clip880)\" style=\"stroke:#000000; stroke-linecap:round; stroke-linejoin:round; stroke-width:4; stroke-opacity:1; fill:none\" points=\"1268.35,1486.45 1268.35,1467.55 \"/>\n",
       "<polyline clip-path=\"url(#clip880)\" style=\"stroke:#000000; stroke-linecap:round; stroke-linejoin:round; stroke-width:4; stroke-opacity:1; fill:none\" points=\"1770.39,1486.45 1770.39,1467.55 \"/>\n",
       "<polyline clip-path=\"url(#clip880)\" style=\"stroke:#000000; stroke-linecap:round; stroke-linejoin:round; stroke-width:4; stroke-opacity:1; fill:none\" points=\"2272.43,1486.45 2272.43,1467.55 \"/>\n",
       "<path clip-path=\"url(#clip880)\" d=\"M264.261 1517.37 Q260.65 1517.37 258.821 1520.93 Q257.016 1524.47 257.016 1531.6 Q257.016 1538.71 258.821 1542.27 Q260.65 1545.82 264.261 1545.82 Q267.895 1545.82 269.701 1542.27 Q271.53 1538.71 271.53 1531.6 Q271.53 1524.47 269.701 1520.93 Q267.895 1517.37 264.261 1517.37 M264.261 1513.66 Q270.071 1513.66 273.127 1518.27 Q276.206 1522.85 276.206 1531.6 Q276.206 1540.33 273.127 1544.94 Q270.071 1549.52 264.261 1549.52 Q258.451 1549.52 255.372 1544.94 Q252.317 1540.33 252.317 1531.6 Q252.317 1522.85 255.372 1518.27 Q258.451 1513.66 264.261 1513.66 Z\" fill=\"#000000\" fill-rule=\"nonzero\" fill-opacity=\"1\" /><path clip-path=\"url(#clip880)\" d=\"M745.574 1544.91 L761.894 1544.91 L761.894 1548.85 L739.949 1548.85 L739.949 1544.91 Q742.611 1542.16 747.195 1537.53 Q751.801 1532.88 752.982 1531.53 Q755.227 1529.01 756.107 1527.27 Q757.009 1525.51 757.009 1523.82 Q757.009 1521.07 755.065 1519.33 Q753.144 1517.6 750.042 1517.6 Q747.843 1517.6 745.389 1518.36 Q742.958 1519.13 740.181 1520.68 L740.181 1515.95 Q743.005 1514.82 745.458 1514.24 Q747.912 1513.66 749.949 1513.66 Q755.319 1513.66 758.514 1516.35 Q761.708 1519.03 761.708 1523.52 Q761.708 1525.65 760.898 1527.57 Q760.111 1529.47 758.005 1532.07 Q757.426 1532.74 754.324 1535.95 Q751.222 1539.15 745.574 1544.91 Z\" fill=\"#000000\" fill-rule=\"nonzero\" fill-opacity=\"1\" /><path clip-path=\"url(#clip880)\" d=\"M771.755 1514.29 L790.111 1514.29 L790.111 1518.22 L776.037 1518.22 L776.037 1526.7 Q777.055 1526.35 778.074 1526.19 Q779.093 1526 780.111 1526 Q785.898 1526 789.278 1529.17 Q792.657 1532.34 792.657 1537.76 Q792.657 1543.34 789.185 1546.44 Q785.713 1549.52 779.393 1549.52 Q777.218 1549.52 774.949 1549.15 Q772.704 1548.78 770.296 1548.04 L770.296 1543.34 Q772.38 1544.47 774.602 1545.03 Q776.824 1545.58 779.301 1545.58 Q783.305 1545.58 785.643 1543.48 Q787.981 1541.37 787.981 1537.76 Q787.981 1534.15 785.643 1532.04 Q783.305 1529.94 779.301 1529.94 Q777.426 1529.94 775.551 1530.35 Q773.699 1530.77 771.755 1531.65 L771.755 1514.29 Z\" fill=\"#000000\" fill-rule=\"nonzero\" fill-opacity=\"1\" /><path clip-path=\"url(#clip880)\" d=\"M1243.04 1514.29 L1261.4 1514.29 L1261.4 1518.22 L1247.33 1518.22 L1247.33 1526.7 Q1248.35 1526.35 1249.36 1526.19 Q1250.38 1526 1251.4 1526 Q1257.19 1526 1260.57 1529.17 Q1263.95 1532.34 1263.95 1537.76 Q1263.95 1543.34 1260.47 1546.44 Q1257 1549.52 1250.68 1549.52 Q1248.51 1549.52 1246.24 1549.15 Q1243.99 1548.78 1241.59 1548.04 L1241.59 1543.34 Q1243.67 1544.47 1245.89 1545.03 Q1248.11 1545.58 1250.59 1545.58 Q1254.6 1545.58 1256.93 1543.48 Q1259.27 1541.37 1259.27 1537.76 Q1259.27 1534.15 1256.93 1532.04 Q1254.6 1529.94 1250.59 1529.94 Q1248.72 1529.94 1246.84 1530.35 Q1244.99 1530.77 1243.04 1531.65 L1243.04 1514.29 Z\" fill=\"#000000\" fill-rule=\"nonzero\" fill-opacity=\"1\" /><path clip-path=\"url(#clip880)\" d=\"M1283.16 1517.37 Q1279.55 1517.37 1277.72 1520.93 Q1275.91 1524.47 1275.91 1531.6 Q1275.91 1538.71 1277.72 1542.27 Q1279.55 1545.82 1283.16 1545.82 Q1286.79 1545.82 1288.6 1542.27 Q1290.43 1538.71 1290.43 1531.6 Q1290.43 1524.47 1288.6 1520.93 Q1286.79 1517.37 1283.16 1517.37 M1283.16 1513.66 Q1288.97 1513.66 1292.03 1518.27 Q1295.1 1522.85 1295.1 1531.6 Q1295.1 1540.33 1292.03 1544.94 Q1288.97 1549.52 1283.16 1549.52 Q1277.35 1549.52 1274.27 1544.94 Q1271.22 1540.33 1271.22 1531.6 Q1271.22 1522.85 1274.27 1518.27 Q1277.35 1513.66 1283.16 1513.66 Z\" fill=\"#000000\" fill-rule=\"nonzero\" fill-opacity=\"1\" /><path clip-path=\"url(#clip880)\" d=\"M1744.24 1514.29 L1766.46 1514.29 L1766.46 1516.28 L1753.92 1548.85 L1749.03 1548.85 L1760.84 1518.22 L1744.24 1518.22 L1744.24 1514.29 Z\" fill=\"#000000\" fill-rule=\"nonzero\" fill-opacity=\"1\" /><path clip-path=\"url(#clip880)\" d=\"M1775.63 1514.29 L1793.99 1514.29 L1793.99 1518.22 L1779.91 1518.22 L1779.91 1526.7 Q1780.93 1526.35 1781.95 1526.19 Q1782.97 1526 1783.99 1526 Q1789.77 1526 1793.15 1529.17 Q1796.53 1532.34 1796.53 1537.76 Q1796.53 1543.34 1793.06 1546.44 Q1789.59 1549.52 1783.27 1549.52 Q1781.09 1549.52 1778.82 1549.15 Q1776.58 1548.78 1774.17 1548.04 L1774.17 1543.34 Q1776.26 1544.47 1778.48 1545.03 Q1780.7 1545.58 1783.18 1545.58 Q1787.18 1545.58 1789.52 1543.48 Q1791.86 1541.37 1791.86 1537.76 Q1791.86 1534.15 1789.52 1532.04 Q1787.18 1529.94 1783.18 1529.94 Q1781.3 1529.94 1779.43 1530.35 Q1777.57 1530.77 1775.63 1531.65 L1775.63 1514.29 Z\" fill=\"#000000\" fill-rule=\"nonzero\" fill-opacity=\"1\" /><path clip-path=\"url(#clip880)\" d=\"M2232.04 1544.91 L2239.67 1544.91 L2239.67 1518.55 L2231.36 1520.21 L2231.36 1515.95 L2239.63 1514.29 L2244.3 1514.29 L2244.3 1544.91 L2251.94 1544.91 L2251.94 1548.85 L2232.04 1548.85 L2232.04 1544.91 Z\" fill=\"#000000\" fill-rule=\"nonzero\" fill-opacity=\"1\" /><path clip-path=\"url(#clip880)\" d=\"M2271.39 1517.37 Q2267.78 1517.37 2265.95 1520.93 Q2264.14 1524.47 2264.14 1531.6 Q2264.14 1538.71 2265.95 1542.27 Q2267.78 1545.82 2271.39 1545.82 Q2275.02 1545.82 2276.83 1542.27 Q2278.66 1538.71 2278.66 1531.6 Q2278.66 1524.47 2276.83 1520.93 Q2275.02 1517.37 2271.39 1517.37 M2271.39 1513.66 Q2277.2 1513.66 2280.25 1518.27 Q2283.33 1522.85 2283.33 1531.6 Q2283.33 1540.33 2280.25 1544.94 Q2277.2 1549.52 2271.39 1549.52 Q2265.58 1549.52 2262.5 1544.94 Q2259.44 1540.33 2259.44 1531.6 Q2259.44 1522.85 2262.5 1518.27 Q2265.58 1513.66 2271.39 1513.66 Z\" fill=\"#000000\" fill-rule=\"nonzero\" fill-opacity=\"1\" /><path clip-path=\"url(#clip880)\" d=\"M2301.55 1517.37 Q2297.94 1517.37 2296.11 1520.93 Q2294.3 1524.47 2294.3 1531.6 Q2294.3 1538.71 2296.11 1542.27 Q2297.94 1545.82 2301.55 1545.82 Q2305.18 1545.82 2306.99 1542.27 Q2308.82 1538.71 2308.82 1531.6 Q2308.82 1524.47 2306.99 1520.93 Q2305.18 1517.37 2301.55 1517.37 M2301.55 1513.66 Q2307.36 1513.66 2310.42 1518.27 Q2313.49 1522.85 2313.49 1531.6 Q2313.49 1540.33 2310.42 1544.94 Q2307.36 1549.52 2301.55 1549.52 Q2295.74 1549.52 2292.66 1544.94 Q2289.61 1540.33 2289.61 1531.6 Q2289.61 1522.85 2292.66 1518.27 Q2295.74 1513.66 2301.55 1513.66 Z\" fill=\"#000000\" fill-rule=\"nonzero\" fill-opacity=\"1\" /><polyline clip-path=\"url(#clip882)\" style=\"stroke:#000000; stroke-linecap:round; stroke-linejoin:round; stroke-width:2; stroke-opacity:0.1; fill:none\" points=\"224.098,1264.44 2352.76,1264.44 \"/>\n",
       "<polyline clip-path=\"url(#clip882)\" style=\"stroke:#000000; stroke-linecap:round; stroke-linejoin:round; stroke-width:2; stroke-opacity:0.1; fill:none\" points=\"224.098,1029.15 2352.76,1029.15 \"/>\n",
       "<polyline clip-path=\"url(#clip882)\" style=\"stroke:#000000; stroke-linecap:round; stroke-linejoin:round; stroke-width:2; stroke-opacity:0.1; fill:none\" points=\"224.098,793.854 2352.76,793.854 \"/>\n",
       "<polyline clip-path=\"url(#clip882)\" style=\"stroke:#000000; stroke-linecap:round; stroke-linejoin:round; stroke-width:2; stroke-opacity:0.1; fill:none\" points=\"224.098,558.561 2352.76,558.561 \"/>\n",
       "<polyline clip-path=\"url(#clip882)\" style=\"stroke:#000000; stroke-linecap:round; stroke-linejoin:round; stroke-width:2; stroke-opacity:0.1; fill:none\" points=\"224.098,323.269 2352.76,323.269 \"/>\n",
       "<polyline clip-path=\"url(#clip882)\" style=\"stroke:#000000; stroke-linecap:round; stroke-linejoin:round; stroke-width:2; stroke-opacity:0.1; fill:none\" points=\"224.098,87.9763 2352.76,87.9763 \"/>\n",
       "<polyline clip-path=\"url(#clip880)\" style=\"stroke:#000000; stroke-linecap:round; stroke-linejoin:round; stroke-width:4; stroke-opacity:1; fill:none\" points=\"224.098,1486.45 224.098,47.2441 \"/>\n",
       "<polyline clip-path=\"url(#clip880)\" style=\"stroke:#000000; stroke-linecap:round; stroke-linejoin:round; stroke-width:4; stroke-opacity:1; fill:none\" points=\"224.098,1264.44 242.996,1264.44 \"/>\n",
       "<polyline clip-path=\"url(#clip880)\" style=\"stroke:#000000; stroke-linecap:round; stroke-linejoin:round; stroke-width:4; stroke-opacity:1; fill:none\" points=\"224.098,1029.15 242.996,1029.15 \"/>\n",
       "<polyline clip-path=\"url(#clip880)\" style=\"stroke:#000000; stroke-linecap:round; stroke-linejoin:round; stroke-width:4; stroke-opacity:1; fill:none\" points=\"224.098,793.854 242.996,793.854 \"/>\n",
       "<polyline clip-path=\"url(#clip880)\" style=\"stroke:#000000; stroke-linecap:round; stroke-linejoin:round; stroke-width:4; stroke-opacity:1; fill:none\" points=\"224.098,558.561 242.996,558.561 \"/>\n",
       "<polyline clip-path=\"url(#clip880)\" style=\"stroke:#000000; stroke-linecap:round; stroke-linejoin:round; stroke-width:4; stroke-opacity:1; fill:none\" points=\"224.098,323.269 242.996,323.269 \"/>\n",
       "<polyline clip-path=\"url(#clip880)\" style=\"stroke:#000000; stroke-linecap:round; stroke-linejoin:round; stroke-width:4; stroke-opacity:1; fill:none\" points=\"224.098,87.9763 242.996,87.9763 \"/>\n",
       "<path clip-path=\"url(#clip880)\" d=\"M51.9875 1264.89 L81.6633 1264.89 L81.6633 1268.83 L51.9875 1268.83 L51.9875 1264.89 Z\" fill=\"#000000\" fill-rule=\"nonzero\" fill-opacity=\"1\" /><path clip-path=\"url(#clip880)\" d=\"M101.756 1250.24 Q98.1447 1250.24 96.316 1253.8 Q94.5104 1257.34 94.5104 1264.47 Q94.5104 1271.58 96.316 1275.14 Q98.1447 1278.69 101.756 1278.69 Q105.39 1278.69 107.196 1275.14 Q109.024 1271.58 109.024 1264.47 Q109.024 1257.34 107.196 1253.8 Q105.39 1250.24 101.756 1250.24 M101.756 1246.53 Q107.566 1246.53 110.621 1251.14 Q113.7 1255.72 113.7 1264.47 Q113.7 1273.2 110.621 1277.81 Q107.566 1282.39 101.756 1282.39 Q95.9456 1282.39 92.8669 1277.81 Q89.8114 1273.2 89.8114 1264.47 Q89.8114 1255.72 92.8669 1251.14 Q95.9456 1246.53 101.756 1246.53 Z\" fill=\"#000000\" fill-rule=\"nonzero\" fill-opacity=\"1\" /><path clip-path=\"url(#clip880)\" d=\"M121.918 1275.84 L126.802 1275.84 L126.802 1281.72 L121.918 1281.72 L121.918 1275.84 Z\" fill=\"#000000\" fill-rule=\"nonzero\" fill-opacity=\"1\" /><path clip-path=\"url(#clip880)\" d=\"M141.015 1277.78 L157.334 1277.78 L157.334 1281.72 L135.39 1281.72 L135.39 1277.78 Q138.052 1275.03 142.635 1270.4 Q147.242 1265.75 148.422 1264.4 Q150.668 1261.88 151.547 1260.14 Q152.45 1258.39 152.45 1256.7 Q152.45 1253.94 150.505 1252.21 Q148.584 1250.47 145.482 1250.47 Q143.283 1250.47 140.83 1251.23 Q138.399 1252 135.621 1253.55 L135.621 1248.83 Q138.445 1247.69 140.899 1247.11 Q143.353 1246.53 145.39 1246.53 Q150.76 1246.53 153.955 1249.22 Q157.149 1251.9 157.149 1256.39 Q157.149 1258.52 156.339 1260.45 Q155.552 1262.34 153.445 1264.94 Q152.867 1265.61 149.765 1268.83 Q146.663 1272.02 141.015 1277.78 Z\" fill=\"#000000\" fill-rule=\"nonzero\" fill-opacity=\"1\" /><path clip-path=\"url(#clip880)\" d=\"M167.195 1247.16 L185.552 1247.16 L185.552 1251.09 L171.478 1251.09 L171.478 1259.57 Q172.496 1259.22 173.515 1259.06 Q174.533 1258.87 175.552 1258.87 Q181.339 1258.87 184.718 1262.04 Q188.098 1265.21 188.098 1270.63 Q188.098 1276.21 184.626 1279.31 Q181.153 1282.39 174.834 1282.39 Q172.658 1282.39 170.39 1282.02 Q168.144 1281.65 165.737 1280.91 L165.737 1276.21 Q167.82 1277.34 170.042 1277.9 Q172.265 1278.46 174.741 1278.46 Q178.746 1278.46 181.084 1276.35 Q183.422 1274.24 183.422 1270.63 Q183.422 1267.02 181.084 1264.91 Q178.746 1262.81 174.741 1262.81 Q172.866 1262.81 170.991 1263.22 Q169.14 1263.64 167.195 1264.52 L167.195 1247.16 Z\" fill=\"#000000\" fill-rule=\"nonzero\" fill-opacity=\"1\" /><path clip-path=\"url(#clip880)\" d=\"M50.9921 1029.6 L80.6679 1029.6 L80.6679 1033.53 L50.9921 1033.53 L50.9921 1029.6 Z\" fill=\"#000000\" fill-rule=\"nonzero\" fill-opacity=\"1\" /><path clip-path=\"url(#clip880)\" d=\"M100.76 1014.95 Q97.1493 1014.95 95.3206 1018.51 Q93.515 1022.05 93.515 1029.18 Q93.515 1036.29 95.3206 1039.85 Q97.1493 1043.39 100.76 1043.39 Q104.395 1043.39 106.2 1039.85 Q108.029 1036.29 108.029 1029.18 Q108.029 1022.05 106.2 1018.51 Q104.395 1014.95 100.76 1014.95 M100.76 1011.24 Q106.571 1011.24 109.626 1015.85 Q112.705 1020.43 112.705 1029.18 Q112.705 1037.91 109.626 1042.51 Q106.571 1047.1 100.76 1047.1 Q94.9502 1047.1 91.8715 1042.51 Q88.816 1037.91 88.816 1029.18 Q88.816 1020.43 91.8715 1015.85 Q94.9502 1011.24 100.76 1011.24 Z\" fill=\"#000000\" fill-rule=\"nonzero\" fill-opacity=\"1\" /><path clip-path=\"url(#clip880)\" d=\"M120.922 1040.55 L125.807 1040.55 L125.807 1046.43 L120.922 1046.43 L120.922 1040.55 Z\" fill=\"#000000\" fill-rule=\"nonzero\" fill-opacity=\"1\" /><path clip-path=\"url(#clip880)\" d=\"M140.019 1042.49 L156.339 1042.49 L156.339 1046.43 L134.394 1046.43 L134.394 1042.49 Q137.056 1039.74 141.64 1035.11 Q146.246 1030.45 147.427 1029.11 Q149.672 1026.59 150.552 1024.85 Q151.455 1023.09 151.455 1021.4 Q151.455 1018.65 149.51 1016.91 Q147.589 1015.18 144.487 1015.18 Q142.288 1015.18 139.834 1015.94 Q137.404 1016.7 134.626 1018.26 L134.626 1013.53 Q137.45 1012.4 139.904 1011.82 Q142.357 1011.24 144.394 1011.24 Q149.765 1011.24 152.959 1013.93 Q156.154 1016.61 156.154 1021.1 Q156.154 1023.23 155.343 1025.15 Q154.556 1027.05 152.45 1029.64 Q151.871 1030.32 148.769 1033.53 Q145.668 1036.73 140.019 1042.49 Z\" fill=\"#000000\" fill-rule=\"nonzero\" fill-opacity=\"1\" /><path clip-path=\"url(#clip880)\" d=\"M176.153 1014.95 Q172.542 1014.95 170.714 1018.51 Q168.908 1022.05 168.908 1029.18 Q168.908 1036.29 170.714 1039.85 Q172.542 1043.39 176.153 1043.39 Q179.788 1043.39 181.593 1039.85 Q183.422 1036.29 183.422 1029.18 Q183.422 1022.05 181.593 1018.51 Q179.788 1014.95 176.153 1014.95 M176.153 1011.24 Q181.964 1011.24 185.019 1015.85 Q188.098 1020.43 188.098 1029.18 Q188.098 1037.91 185.019 1042.51 Q181.964 1047.1 176.153 1047.1 Q170.343 1047.1 167.265 1042.51 Q164.209 1037.91 164.209 1029.18 Q164.209 1020.43 167.265 1015.85 Q170.343 1011.24 176.153 1011.24 Z\" fill=\"#000000\" fill-rule=\"nonzero\" fill-opacity=\"1\" /><path clip-path=\"url(#clip880)\" d=\"M51.9875 794.305 L81.6633 794.305 L81.6633 798.24 L51.9875 798.24 L51.9875 794.305 Z\" fill=\"#000000\" fill-rule=\"nonzero\" fill-opacity=\"1\" /><path clip-path=\"url(#clip880)\" d=\"M101.756 779.653 Q98.1447 779.653 96.316 783.217 Q94.5104 786.759 94.5104 793.889 Q94.5104 800.995 96.316 804.56 Q98.1447 808.101 101.756 808.101 Q105.39 808.101 107.196 804.56 Q109.024 800.995 109.024 793.889 Q109.024 786.759 107.196 783.217 Q105.39 779.653 101.756 779.653 M101.756 775.949 Q107.566 775.949 110.621 780.555 Q113.7 785.139 113.7 793.889 Q113.7 802.615 110.621 807.222 Q107.566 811.805 101.756 811.805 Q95.9456 811.805 92.8669 807.222 Q89.8114 802.615 89.8114 793.889 Q89.8114 785.139 92.8669 780.555 Q95.9456 775.949 101.756 775.949 Z\" fill=\"#000000\" fill-rule=\"nonzero\" fill-opacity=\"1\" /><path clip-path=\"url(#clip880)\" d=\"M121.918 805.254 L126.802 805.254 L126.802 811.134 L121.918 811.134 L121.918 805.254 Z\" fill=\"#000000\" fill-rule=\"nonzero\" fill-opacity=\"1\" /><path clip-path=\"url(#clip880)\" d=\"M137.797 807.199 L145.436 807.199 L145.436 780.833 L137.126 782.5 L137.126 778.241 L145.39 776.574 L150.066 776.574 L150.066 807.199 L157.705 807.199 L157.705 811.134 L137.797 811.134 L137.797 807.199 Z\" fill=\"#000000\" fill-rule=\"nonzero\" fill-opacity=\"1\" /><path clip-path=\"url(#clip880)\" d=\"M167.195 776.574 L185.552 776.574 L185.552 780.509 L171.478 780.509 L171.478 788.981 Q172.496 788.634 173.515 788.472 Q174.533 788.287 175.552 788.287 Q181.339 788.287 184.718 791.458 Q188.098 794.629 188.098 800.046 Q188.098 805.625 184.626 808.726 Q181.153 811.805 174.834 811.805 Q172.658 811.805 170.39 811.435 Q168.144 811.064 165.737 810.324 L165.737 805.625 Q167.82 806.759 170.042 807.314 Q172.265 807.87 174.741 807.87 Q178.746 807.87 181.084 805.764 Q183.422 803.657 183.422 800.046 Q183.422 796.435 181.084 794.328 Q178.746 792.222 174.741 792.222 Q172.866 792.222 170.991 792.639 Q169.14 793.055 167.195 793.935 L167.195 776.574 Z\" fill=\"#000000\" fill-rule=\"nonzero\" fill-opacity=\"1\" /><path clip-path=\"url(#clip880)\" d=\"M50.9921 559.013 L80.6679 559.013 L80.6679 562.948 L50.9921 562.948 L50.9921 559.013 Z\" fill=\"#000000\" fill-rule=\"nonzero\" fill-opacity=\"1\" /><path clip-path=\"url(#clip880)\" d=\"M100.76 544.36 Q97.1493 544.36 95.3206 547.925 Q93.515 551.466 93.515 558.596 Q93.515 565.702 95.3206 569.267 Q97.1493 572.809 100.76 572.809 Q104.395 572.809 106.2 569.267 Q108.029 565.702 108.029 558.596 Q108.029 551.466 106.2 547.925 Q104.395 544.36 100.76 544.36 M100.76 540.656 Q106.571 540.656 109.626 545.263 Q112.705 549.846 112.705 558.596 Q112.705 567.323 109.626 571.929 Q106.571 576.513 100.76 576.513 Q94.9502 576.513 91.8715 571.929 Q88.816 567.323 88.816 558.596 Q88.816 549.846 91.8715 545.263 Q94.9502 540.656 100.76 540.656 Z\" fill=\"#000000\" fill-rule=\"nonzero\" fill-opacity=\"1\" /><path clip-path=\"url(#clip880)\" d=\"M120.922 569.962 L125.807 569.962 L125.807 575.841 L120.922 575.841 L120.922 569.962 Z\" fill=\"#000000\" fill-rule=\"nonzero\" fill-opacity=\"1\" /><path clip-path=\"url(#clip880)\" d=\"M136.802 571.906 L144.441 571.906 L144.441 545.541 L136.131 547.207 L136.131 542.948 L144.394 541.281 L149.07 541.281 L149.07 571.906 L156.709 571.906 L156.709 575.841 L136.802 575.841 L136.802 571.906 Z\" fill=\"#000000\" fill-rule=\"nonzero\" fill-opacity=\"1\" /><path clip-path=\"url(#clip880)\" d=\"M176.153 544.36 Q172.542 544.36 170.714 547.925 Q168.908 551.466 168.908 558.596 Q168.908 565.702 170.714 569.267 Q172.542 572.809 176.153 572.809 Q179.788 572.809 181.593 569.267 Q183.422 565.702 183.422 558.596 Q183.422 551.466 181.593 547.925 Q179.788 544.36 176.153 544.36 M176.153 540.656 Q181.964 540.656 185.019 545.263 Q188.098 549.846 188.098 558.596 Q188.098 567.323 185.019 571.929 Q181.964 576.513 176.153 576.513 Q170.343 576.513 167.265 571.929 Q164.209 567.323 164.209 558.596 Q164.209 549.846 167.265 545.263 Q170.343 540.656 176.153 540.656 Z\" fill=\"#000000\" fill-rule=\"nonzero\" fill-opacity=\"1\" /><path clip-path=\"url(#clip880)\" d=\"M51.9875 323.72 L81.6633 323.72 L81.6633 327.655 L51.9875 327.655 L51.9875 323.72 Z\" fill=\"#000000\" fill-rule=\"nonzero\" fill-opacity=\"1\" /><path clip-path=\"url(#clip880)\" d=\"M101.756 309.067 Q98.1447 309.067 96.316 312.632 Q94.5104 316.174 94.5104 323.304 Q94.5104 330.41 96.316 333.975 Q98.1447 337.516 101.756 337.516 Q105.39 337.516 107.196 333.975 Q109.024 330.41 109.024 323.304 Q109.024 316.174 107.196 312.632 Q105.39 309.067 101.756 309.067 M101.756 305.364 Q107.566 305.364 110.621 309.97 Q113.7 314.554 113.7 323.304 Q113.7 332.03 110.621 336.637 Q107.566 341.22 101.756 341.22 Q95.9456 341.22 92.8669 336.637 Q89.8114 332.03 89.8114 323.304 Q89.8114 314.554 92.8669 309.97 Q95.9456 305.364 101.756 305.364 Z\" fill=\"#000000\" fill-rule=\"nonzero\" fill-opacity=\"1\" /><path clip-path=\"url(#clip880)\" d=\"M121.918 334.669 L126.802 334.669 L126.802 340.549 L121.918 340.549 L121.918 334.669 Z\" fill=\"#000000\" fill-rule=\"nonzero\" fill-opacity=\"1\" /><path clip-path=\"url(#clip880)\" d=\"M146.987 309.067 Q143.376 309.067 141.547 312.632 Q139.742 316.174 139.742 323.304 Q139.742 330.41 141.547 333.975 Q143.376 337.516 146.987 337.516 Q150.621 337.516 152.427 333.975 Q154.255 330.41 154.255 323.304 Q154.255 316.174 152.427 312.632 Q150.621 309.067 146.987 309.067 M146.987 305.364 Q152.797 305.364 155.853 309.97 Q158.931 314.554 158.931 323.304 Q158.931 332.03 155.853 336.637 Q152.797 341.22 146.987 341.22 Q141.177 341.22 138.098 336.637 Q135.043 332.03 135.043 323.304 Q135.043 314.554 138.098 309.97 Q141.177 305.364 146.987 305.364 Z\" fill=\"#000000\" fill-rule=\"nonzero\" fill-opacity=\"1\" /><path clip-path=\"url(#clip880)\" d=\"M167.195 305.989 L185.552 305.989 L185.552 309.924 L171.478 309.924 L171.478 318.396 Q172.496 318.049 173.515 317.887 Q174.533 317.702 175.552 317.702 Q181.339 317.702 184.718 320.873 Q188.098 324.044 188.098 329.461 Q188.098 335.04 184.626 338.141 Q181.153 341.22 174.834 341.22 Q172.658 341.22 170.39 340.85 Q168.144 340.479 165.737 339.739 L165.737 335.04 Q167.82 336.174 170.042 336.729 Q172.265 337.285 174.741 337.285 Q178.746 337.285 181.084 335.178 Q183.422 333.072 183.422 329.461 Q183.422 325.85 181.084 323.743 Q178.746 321.637 174.741 321.637 Q172.866 321.637 170.991 322.054 Q169.14 322.47 167.195 323.35 L167.195 305.989 Z\" fill=\"#000000\" fill-rule=\"nonzero\" fill-opacity=\"1\" /><path clip-path=\"url(#clip880)\" d=\"M100.76 73.775 Q97.1493 73.775 95.3206 77.3398 Q93.515 80.8814 93.515 88.011 Q93.515 95.1174 95.3206 98.6822 Q97.1493 102.224 100.76 102.224 Q104.395 102.224 106.2 98.6822 Q108.029 95.1174 108.029 88.011 Q108.029 80.8814 106.2 77.3398 Q104.395 73.775 100.76 73.775 M100.76 70.0713 Q106.571 70.0713 109.626 74.6777 Q112.705 79.261 112.705 88.011 Q112.705 96.7378 109.626 101.344 Q106.571 105.928 100.76 105.928 Q94.9502 105.928 91.8715 101.344 Q88.816 96.7378 88.816 88.011 Q88.816 79.261 91.8715 74.6777 Q94.9502 70.0713 100.76 70.0713 Z\" fill=\"#000000\" fill-rule=\"nonzero\" fill-opacity=\"1\" /><path clip-path=\"url(#clip880)\" d=\"M120.922 99.3767 L125.807 99.3767 L125.807 105.256 L120.922 105.256 L120.922 99.3767 Z\" fill=\"#000000\" fill-rule=\"nonzero\" fill-opacity=\"1\" /><path clip-path=\"url(#clip880)\" d=\"M145.992 73.775 Q142.381 73.775 140.552 77.3398 Q138.746 80.8814 138.746 88.011 Q138.746 95.1174 140.552 98.6822 Q142.381 102.224 145.992 102.224 Q149.626 102.224 151.431 98.6822 Q153.26 95.1174 153.26 88.011 Q153.26 80.8814 151.431 77.3398 Q149.626 73.775 145.992 73.775 M145.992 70.0713 Q151.802 70.0713 154.857 74.6777 Q157.936 79.261 157.936 88.011 Q157.936 96.7378 154.857 101.344 Q151.802 105.928 145.992 105.928 Q140.181 105.928 137.103 101.344 Q134.047 96.7378 134.047 88.011 Q134.047 79.261 137.103 74.6777 Q140.181 70.0713 145.992 70.0713 Z\" fill=\"#000000\" fill-rule=\"nonzero\" fill-opacity=\"1\" /><path clip-path=\"url(#clip880)\" d=\"M176.153 73.775 Q172.542 73.775 170.714 77.3398 Q168.908 80.8814 168.908 88.011 Q168.908 95.1174 170.714 98.6822 Q172.542 102.224 176.153 102.224 Q179.788 102.224 181.593 98.6822 Q183.422 95.1174 183.422 88.011 Q183.422 80.8814 181.593 77.3398 Q179.788 73.775 176.153 73.775 M176.153 70.0713 Q181.964 70.0713 185.019 74.6777 Q188.098 79.261 188.098 88.011 Q188.098 96.7378 185.019 101.344 Q181.964 105.928 176.153 105.928 Q170.343 105.928 167.265 101.344 Q164.209 96.7378 164.209 88.011 Q164.209 79.261 167.265 74.6777 Q170.343 70.0713 176.153 70.0713 Z\" fill=\"#000000\" fill-rule=\"nonzero\" fill-opacity=\"1\" /><polyline clip-path=\"url(#clip882)\" style=\"stroke:#009af9; stroke-linecap:round; stroke-linejoin:round; stroke-width:4; stroke-opacity:1; fill:none\" points=\"284.343,87.9763 304.425,124.756 324.506,160.714 344.588,195.868 364.67,230.239 384.751,263.844 404.833,296.701 424.915,328.828 444.996,360.24 465.078,390.954 485.16,420.986 505.241,450.35 525.323,479.061 545.405,507.133 565.486,534.581 585.568,561.416 605.65,587.653 625.731,613.304 645.813,638.38 665.895,662.895 685.977,686.858 706.058,710.282 726.14,733.177 746.222,755.553 766.303,777.421 786.385,798.791 806.467,819.673 826.548,840.075 846.63,860.007 866.712,879.478 886.793,898.496 906.875,917.07 926.957,935.208 947.038,952.918 967.12,970.207 987.202,987.084 1007.28,1003.56 1027.37,1019.63 1047.45,1035.31 1067.53,1050.61 1087.61,1065.52 1107.69,1080.07 1127.77,1094.25 1147.86,1108.08 1167.94,1121.55 1188.02,1134.67 1208.1,1147.45 1228.18,1159.89 1248.26,1172.01 1268.35,1183.8 1288.43,1195.26 1308.51,1206.42 1328.59,1217.26 1348.67,1227.8 1368.75,1238.03 1388.84,1247.97 1408.92,1257.62 1429,1266.98 1449.08,1276.05 1469.16,1284.85 1489.24,1293.37 1509.33,1301.62 1529.41,1309.61 1549.49,1317.33 1569.57,1324.79 1589.65,1331.99 1609.73,1338.94 1629.82,1345.65 1649.9,1352.1 1669.98,1358.32 1690.06,1364.29 1710.14,1370.03 1730.22,1375.53 1750.31,1380.81 1770.39,1385.85 1790.47,1390.68 1810.55,1395.28 1830.63,1399.66 1850.71,1403.83 1870.8,1407.79 1890.88,1411.53 1910.96,1415.06 1931.04,1418.39 1951.12,1421.52 1971.2,1424.45 1991.29,1427.17 2011.37,1429.71 2031.45,1432.04 2051.53,1434.19 2071.61,1436.14 2091.69,1437.91 2111.78,1439.49 2131.86,1440.89 2151.94,1442.11 2172.02,1443.15 2192.1,1444.01 2212.18,1444.7 2232.27,1445.21 2252.35,1445.55 2272.43,1445.72 2292.51,1445.72 \"/>\n",
       "<path clip-path=\"url(#clip880)\" d=\"M2016.5 198.898 L2281.8 198.898 L2281.8 95.2176 L2016.5 95.2176  Z\" fill=\"#ffffff\" fill-rule=\"evenodd\" fill-opacity=\"1\"/>\n",
       "<polyline clip-path=\"url(#clip880)\" style=\"stroke:#000000; stroke-linecap:round; stroke-linejoin:round; stroke-width:4; stroke-opacity:1; fill:none\" points=\"2016.5,198.898 2281.8,198.898 2281.8,95.2176 2016.5,95.2176 2016.5,198.898 \"/>\n",
       "<polyline clip-path=\"url(#clip880)\" style=\"stroke:#009af9; stroke-linecap:round; stroke-linejoin:round; stroke-width:4; stroke-opacity:1; fill:none\" points=\"2040.16,147.058 2182.07,147.058 \"/>\n",
       "<path clip-path=\"url(#clip880)\" d=\"M2219.56 166.745 Q2217.76 171.375 2216.04 172.787 Q2214.33 174.199 2211.46 174.199 L2208.06 174.199 L2208.06 170.634 L2210.56 170.634 Q2212.32 170.634 2213.29 169.8 Q2214.26 168.967 2215.44 165.865 L2216.2 163.921 L2205.72 138.412 L2210.23 138.412 L2218.33 158.689 L2226.44 138.412 L2230.95 138.412 L2219.56 166.745 Z\" fill=\"#000000\" fill-rule=\"nonzero\" fill-opacity=\"1\" /><path clip-path=\"url(#clip880)\" d=\"M2238.24 160.402 L2245.88 160.402 L2245.88 134.037 L2237.57 135.703 L2237.57 131.444 L2245.83 129.778 L2250.51 129.778 L2250.51 160.402 L2258.15 160.402 L2258.15 164.338 L2238.24 164.338 L2238.24 160.402 Z\" fill=\"#000000\" fill-rule=\"nonzero\" fill-opacity=\"1\" /></svg>\n"
      ]
     },
     "metadata": {},
     "output_type": "display_data"
    }
   ],
   "source": [
    "mesh = genMesh(100)\n",
    "c(x) = x\n",
    "S = genStiffMat(mesh,c)\n",
    "M = genMassMat(mesh)\n",
    "fsource(x) = -1\n",
    "f = genVector(mesh,fsource)\n",
    "\n",
    "\n",
    "#print(S+M)\n",
    "\n",
    "u = (S + M) \\ f\n",
    "#print(u[end])\n",
    "#u = S \\ f\n",
    "\n",
    "#analytical(x) = x - 2 * log(x) - 1\n",
    "#temp = 1:1/1000:2\n",
    "#v = zeros(1001)\n",
    "#for i in 1:1001\n",
    "#    v[i] = analytical(temp[i])\n",
    "#end\n",
    "\n",
    "#v = analytical(temp)\n",
    "plot(u)\n",
    "\n",
    "\n",
    "\n",
    "#print(u[end])"
   ]
  },
  {
   "cell_type": "code",
   "execution_count": null,
   "metadata": {},
   "outputs": [],
   "source": []
  }
 ],
 "metadata": {
  "kernelspec": {
   "display_name": "Julia 1.8.1",
   "language": "julia",
   "name": "julia-1.8"
  },
  "language_info": {
   "file_extension": ".jl",
   "mimetype": "application/julia",
   "name": "julia",
   "version": "1.8.1"
  }
 },
 "nbformat": 4,
 "nbformat_minor": 2
}
