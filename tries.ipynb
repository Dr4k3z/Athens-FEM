{
 "cells": [
  {
   "cell_type": "code",
   "execution_count": 1,
   "metadata": {},
   "outputs": [
    {
     "name": "stderr",
     "output_type": "stream",
     "text": [
      "/snap/core20/current/lib/x86_64-linux-gnu/libstdc++.so.6: version `GLIBCXX_3.4.29' not found (required by /lib/x86_64-linux-gnu/libproxy.so.1)\n",
      "Failed to load module: /home/reus3111/snap/code/common/.cache/gio-modules/libgiolibproxy.so\n"
     ]
    },
    {
     "name": "stderr",
     "output_type": "stream",
     "text": [
      "/snap/core20/current/lib/x86_64-linux-gnu/libstdc++.so.6: version `GLIBCXX_3.4.29' not found (required by /lib/x86_64-linux-gnu/libproxy.so.1)\n",
      "Failed to load module: /home/reus3111/snap/code/common/.cache/gio-modules/libgiolibproxy.so\n"
     ]
    }
   ],
   "source": [
    "using LinearAlgebra\n",
    "using SparseArrays \n",
    "using StructArrays\n",
    "using StaticArrays\n",
    "using StaticRanges\n",
    "using FastGaussQuadrature\n",
    "using IterativeSolvers\n",
    "using Preconditioners\n",
    "using LinearSolve\n",
    "using BenchmarkTools\n",
    "using Profile\n",
    "using ProfileView\n",
    "using IncompleteLU\n",
    "using Plots "
   ]
  },
  {
   "cell_type": "code",
   "execution_count": 2,
   "metadata": {},
   "outputs": [],
   "source": [
    "# struct to hold a single mesh element\n",
    "# all the members of the struct should be concrete type \n",
    "struct Element\n",
    "    p1::Float64    # coordinate left-most node\n",
    "    p2::Float64    # coordinate right-most node\n",
    "    e1::Int64      # global index left-most node\n",
    "    e2::Int64      # global index right-most node\n",
    "    area::Float64  # area of the element \n",
    "  end\n",
    "  \n",
    "  # struct to hold entire mesh\n",
    "  struct Mesh\n",
    "    nnodes::Int64\n",
    "    nelements::Int64 \n",
    "    # specify one-dimensional array of elements as an array of structs. \n",
    "    # we worry about using structArray (if as all) later. \n",
    "    Elements::Array{Element,1}\n",
    "    bndNodeIds::Vector{Int64}\n",
    "    dofPerElement::Int64       \n",
    "  end "
   ]
  },
  {
   "cell_type": "code",
   "execution_count": 3,
   "metadata": {},
   "outputs": [
    {
     "data": {
      "text/plain": [
       "genMesh (generic function with 1 method)"
      ]
     },
     "metadata": {},
     "output_type": "display_data"
    }
   ],
   "source": [
    "# function to generate a mesh on the interval 0 <= x <= 1.   \n",
    "# we limit the type of input to be Int64 \n",
    "function genMesh(nelements::Int64)::Mesh\n",
    "    h = 1/nelements \n",
    "    nnodes = nelements+1\n",
    "    dofPerElement = 2 \n",
    "    x = Vector{Float64}(0:h:1)    \n",
    "    # what does the undef do here? \n",
    "    Elements = Array{Element,1}(undef,nelements)\n",
    "    for i in 1:nelements\n",
    "        Elements[i] = Element(x[i],x[i+1],i,i+1,x[i+1]-x[i])\n",
    "    end\n",
    "    mesh = Mesh(nnodes,nelements,Elements,[1,nelements+1],dofPerElement)     \n",
    "    return mesh;\n",
    "end \n",
    "\n",
    "#mesh = genMesh(4)"
   ]
  },
  {
   "cell_type": "code",
   "execution_count": 4,
   "metadata": {},
   "outputs": [
    {
     "data": {
      "text/plain": [
       "genStiffMat (generic function with 1 method)"
      ]
     },
     "metadata": {},
     "output_type": "display_data"
    }
   ],
   "source": [
    "# generates local stiffness matrix \n",
    "function genLocStiffMat(element::Element, densityFunc)\n",
    "    h     = element.area \n",
    "    e1    = element.e1\n",
    "    e2    = element.e2\n",
    "    Iloc  = SVector(e1, e1, e2, e2) \n",
    "    Jloc  = SVector(e1, e2, e1, e2) \n",
    "    \n",
    "    p1 = element.p1\n",
    "    p2 = element.p2\n",
    "    c_avg = (densityFunc(p1) + densityFunc(p2)) / 2\n",
    "\n",
    "    Aloc  = SVector(c_avg/h, -c_avg/h, -c_avg/h, c_avg/h) \n",
    "    return Iloc, Jloc, Aloc\n",
    "end\n",
    "\n",
    "# generate global stiffness matrix \n",
    "function genStiffMat(mesh::Mesh, densityFunc::C) where C\n",
    "    \n",
    "    #..recover number of elements  \n",
    "    nelements = mesh.nelements\n",
    "    dofperelem = 4; \n",
    "    \n",
    "    #..preallocate the memory for local matrix contributions \n",
    "    Avalues = zeros(Float64,dofperelem*nelements)\n",
    "    I = zeros(Int64,length(Avalues))\n",
    "    J = zeros(Int64,length(Avalues))\n",
    "\n",
    "    for i = 1:nelements #..loop over number of elements..\n",
    "        element = mesh.Elements[i]\n",
    "        Iloc, Jloc, Aloc = genLocStiffMat(element, densityFunc) \n",
    "        irng = mrange(dofperelem*i-dofperelem + 1,dofperelem*i) \n",
    "        I[irng] .= Iloc \n",
    "        J[irng] .= Jloc \n",
    "        Avalues[irng] .= Aloc         \n",
    "    end\n",
    "    \n",
    "    A = sparse(I,J,Avalues)\n",
    "\n",
    "    #Dirichlet BC on left node\n",
    "    A[mesh.bndNodeIds[1],1] = 1.\n",
    "    A[mesh.bndNodeIds[1],2] = 0.\n",
    "    #Neumann BC on right node - no need to change the matrix\n",
    "\n",
    "    return A; \n",
    "end\n",
    "     \n",
    "#A = genStiffMat(mesh)\n",
    "#println(A)"
   ]
  },
  {
   "cell_type": "code",
   "execution_count": 5,
   "metadata": {},
   "outputs": [
    {
     "data": {
      "text/plain": [
       "([-0.7745966692414834, 0.0, 0.7745966692414834], [0.5555555555555556, 0.8888888888888888, 0.5555555555555556])"
      ]
     },
     "metadata": {},
     "output_type": "display_data"
    }
   ],
   "source": [
    "function calcShapeFuncCoeff(degree)\n",
    "    numpoints = degree + 1\n",
    "    points = Vector(LinRange(-1,1,numpoints))\n",
    "    points\n",
    "    coeffs = zeros(Float64,numpoints,numpoints)\n",
    "    x,w = gausslegendre(numpoints)\n",
    "end\n",
    "\n",
    "calcShapeFuncCoeff(2)"
   ]
  },
  {
   "cell_type": "code",
   "execution_count": 6,
   "metadata": {},
   "outputs": [
    {
     "data": {
      "text/plain": [
       "genVector (generic function with 1 method)"
      ]
     },
     "metadata": {},
     "output_type": "display_data"
    }
   ],
   "source": [
    "function genLocVec(element, sourceFct)\n",
    "    h = element.area \n",
    "    Iloc = SVector(element.e1, element.e2)\n",
    "    floc = (h/2)*SVector(sourceFct(element.p1), sourceFct(element.p2))\n",
    "    return Iloc, floc\n",
    "end\n",
    "\n",
    "function genVector(mesh, sourceFct::F) where F \n",
    "    \n",
    "    #..recover number of elements  \n",
    "    nelements = mesh.nelements \n",
    "    nnodes = mesh.nnodes \n",
    "    \n",
    "    #..initialize global vector  \n",
    "    f = zeros(Float64,nnodes)\n",
    "\n",
    "    for i = 1:nelements #..loop over number of elements..\n",
    "        element = mesh.Elements[i]\n",
    "        Iloc, floc = genLocVec(element,sourceFct) \n",
    "        f[Iloc] .+= floc          \n",
    "    end\n",
    "\n",
    "    #Boundary conditions\n",
    "    f[mesh.bndNodeIds[1]] = 0.\n",
    "    f[mesh.bndNodeIds[2]] = 0.\n",
    "   \n",
    "    return f; \n",
    "end\n",
    "\n",
    "#f = genVector(mesh,fsource)\n",
    "#println(f)"
   ]
  },
  {
   "cell_type": "code",
   "execution_count": 7,
   "metadata": {},
   "outputs": [
    {
     "data": {
      "text/plain": [
       "5×5 SparseMatrixCSC{Float64, Int64} with 5 stored entries:\n",
       " 0.125   ⋅     ⋅     ⋅     ⋅ \n",
       "  ⋅     0.25   ⋅     ⋅     ⋅ \n",
       "  ⋅      ⋅    0.25   ⋅     ⋅ \n",
       "  ⋅      ⋅     ⋅    0.25   ⋅ \n",
       "  ⋅      ⋅     ⋅     ⋅    0.125"
      ]
     },
     "metadata": {},
     "output_type": "display_data"
    }
   ],
   "source": [
    "# generates local mass matrix \n",
    "function genLocMassMat(element::Element)\n",
    "    h     = element.area \n",
    "    e1    = element.e1\n",
    "    e2    = element.e2\n",
    "    Iloc  = SVector(e1, e2) \n",
    "    Jloc  = SVector(e1, e2) \n",
    "    Aloc  = SVector(h /2 , h/2) \n",
    "    return Iloc, Jloc, Aloc\n",
    "end\n",
    "\n",
    "# generate global mass matrix \n",
    "function genMassMat(mesh::Mesh)\n",
    "    \n",
    "    #..recover number of elements  \n",
    "    nelements = mesh.nelements\n",
    "    dofperelem = 2\n",
    "    \n",
    "    #..preallocate the memory for local matrix contributions \n",
    "    Avalues = zeros(Float64,dofperelem*nelements)\n",
    "    I = zeros(Int64,length(Avalues))\n",
    "    J = zeros(Int64,length(Avalues))\n",
    "\n",
    "    for i = 1:nelements #..loop over number of elements..\n",
    "        element = mesh.Elements[i]\n",
    "        Iloc, Jloc, Aloc = genLocMassMat(element) \n",
    "        irng = mrange(dofperelem*i - dofperelem + 1,dofperelem*i) \n",
    "        I[irng] .= Iloc \n",
    "        J[irng] .= Jloc \n",
    "        Avalues[irng] .= Aloc         \n",
    "    end\n",
    "    \n",
    "    A = sparse(I,J,Avalues)\n",
    "   \n",
    "    return A; \n",
    "end\n",
    "mesh = genMesh(4)\n",
    "genMassMat(mesh)"
   ]
  },
  {
   "cell_type": "code",
   "execution_count": 8,
   "metadata": {},
   "outputs": [
    {
     "name": "stdout",
     "output_type": "stream",
     "text": [
      "sparse("
     ]
    },
    {
     "name": "stdout",
     "output_type": "stream",
     "text": [
      "[1, 2, 1, 2, 3, 2, 3, 4, 3, 4, 5, 4, 5, 6, 5, 6, 7, 6, 7, 8, 7, 8, 9, 8, 9, 10, 9, 10, 11, 10, 11, 12, 11, 12, 13, 12, 13, 14, 13, 14, 15, 14, 15, 16, 15, 16, 17, 16, 17, 18, 17, 18, 19, 18, 19, 20, 19, 20, 21, 20, 21, 22, 21, 22, 23, 22, 23, 24, 23, 24, 25, 24, 25, 26, 25, 26, 27, 26, 27, 28, 27, 28, 29, 28, 29, 30, 29, 30, 31, 30, 31, 32, 31, 32, 33, 32, 33, 34, 33, 34, 35, 34, 35, 36, 35, 36, 37, 36, 37, 38, 37, 38, 39, 38, 39, 40, 39, 40, 41, 40, 41, 42, 41, 42, 43, 42, 43, 44, 43, 44, 45, 44, 45, 46, 45, 46, 47, 46, 47, 48, 47, 48, 49, 48, 49, 50, 49, 50, 51, 50, 51, 52, 51, 52, 53, 52, 53, 54, 53, 54, 55, 54, 55, 56, 55, 56, 57, 56, 57, 58, 57, 58, 59, 58, 59, 60, 59, 60, 61, 60, 61, 62, 61, 62, 63, 62, 63, 64, 63, 64, 65, 64, 65, 66, 65, 66, 67, 66, 67, 68, 67, 68, 69, 68, 69, 70, 69, 70, 71, 70, 71, 72, 71, 72, 73, 72, 73, 74, 73, 74, 75, 74, 75, 76, 75, 76, 77, 76, 77, 78, 77, 78, 79, 78, 79, 80, 79, 80, 81, 80, 81, 82, 81, 82, 83, 82, 83, 84, 83, 84, 85, 84, 85, 86, 85, 86, 87, 86, 87, 88, 87, 88, 89, 88, 89, 90, 89, 90, 91, 90, 91, 92, 91, 92, 93, 92, 93, 94, 93, 94, 95, 94, 95, 96, 95, 96, 97, 96, 97, 98, 97, 98, 99, 98, 99, 100, 99, 100, 101, 100, 101], [1, 1, 2, 2, 2, 3, 3, 3, 4, 4, 4, 5, 5, 5, 6, 6, 6, 7, 7, 7, 8, 8, 8, 9, 9, 9, 10, 10, 10, 11, 11, 11, 12, 12, 12, 13, 13, 13, 14, 14, 14, 15, 15, 15, 16, 16, 16, 17, 17, 17, 18, 18, 18, 19, 19, 19, 20, 20, 20, 21, 21, 21, 22, 22, 22, 23, 23, 23, 24, 24, 24, 25, 25, 25, 26, 26, 26, 27, 27, 27, 28, 28, 28, 29, 29, 29, 30, 30, 30, 31, 31, 31, 32, 32, 32, 33, 33, 33, 34, 34, 34, 35, 35, 35, 36, 36, 36, 37, 37, 37, 38, 38, 38, 39, 39, 39, 40, 40, 40, 41, 41, 41, 42, 42, 42, 43, 43, 43, 44, 44, 44, 45, 45, 45, 46, 46, 46, 47, 47, 47, 48, 48, 48, 49, 49, 49, 50, 50, 50, 51, 51, 51, 52, 52, 52, 53, 53, 53, 54, 54, 54, 55, 55, 55, 56, 56, 56, 57, 57, 57, 58, 58, 58, 59, 59, 59, 60, 60, 60, 61, 61, 61, 62, 62, 62, 63, 63, 63, 64, 64, 64, 65, 65, 65, 66, 66, 66, 67, 67, 67, 68, 68, 68, 69, 69, 69, 70, 70, 70, 71, 71, 71, 72, 72, 72, 73, 73, 73, 74, 74, 74, 75, 75, 75, 76, 76, 76, 77, 77, 77, 78, 78, 78, 79, 79, 79, 80, 80, 80, 81, 81, 81, 82, 82, 82, 83, 83, 83, 84, 84, 84, 85, 85, 85, 86, 86, 86, 87, 87, 87, 88, 88, 88, 89, 89, 89, 90, 90, 90, 91, 91, 91, 92, 92, 92, 93, 93, 93, 94, 94, 94, 95, 95, 95, 96, 96, 96, 97, 97, 97, 98, 98, 98, 99, 99, 99, 100, 100, 100, 101, 101], "
     ]
    },
    {
     "name": "stdout",
     "output_type": "stream",
     "text": [
      "[1.0, -100.0, 0.0, 200.0, -100.0, -100.0, 200.0, -100.00000000000001, -100.00000000000001, 200.0, -99.99999999999999, -99.99999999999999, 199.99999999999997, -99.99999999999999, -99.99999999999999, 200.00000000000006, -100.00000000000006, -100.00000000000006, 199.99999999999997, -99.99999999999991, -99.99999999999991, 199.99999999999997, -100.00000000000006, -100.00000000000006, 200.0000000000001, -100.00000000000006, -100.00000000000006, 199.99999999999997, -99.99999999999991, -99.99999999999991, 199.99999999999997, -100.00000000000006, -100.00000000000006, 200.0000000000001, -100.00000000000006, -100.00000000000006, 199.99999999999997, -99.99999999999991, -99.99999999999991, 199.99999999999983, -99.99999999999991, -99.99999999999991, 200.0000000000001, -100.00000000000018, -100.00000000000018, 200.0000000000001, -99.99999999999991, -99.99999999999991, 199.99999999999983, -99.99999999999991, -99.99999999999991, 200.0000000000001, -100.00000000000018, -100.00000000000018, 200.0000000000001, -99.99999999999991, -99.99999999999991, 199.99999999999983, -99.99999999999991, -99.99999999999991, 200.0000000000001, -100.00000000000018, -100.00000000000018, 200.0000000000001, -99.99999999999991, -99.99999999999991, 199.99999999999983, -99.99999999999991, -99.99999999999991, 200.0000000000001, -100.00000000000018, -100.00000000000018, 200.0000000000001, -99.99999999999991, -99.99999999999991, 199.99999999999983, -99.99999999999991, -99.99999999999991, 199.99999999999983, -99.99999999999991, -99.99999999999991, 199.99999999999983, -99.99999999999991, -99.99999999999991, 200.0000000000004, -100.00000000000047, -100.00000000000047, 200.0000000000004, -99.99999999999991, -99.99999999999991, 199.99999999999983, -99.99999999999991, -99.99999999999991, 199.99999999999983, -99.99999999999991, -99.99999999999991, 199.99999999999983, -99.99999999999991, -99.99999999999991, 199.99999999999983, -99.99999999999991, -99.99999999999991, 200.0000000000004, -100.00000000000047, -100.00000000000047, 200.0000000000004, -99.99999999999991, -99.99999999999991, 199.99999999999983, -99.99999999999991, -99.99999999999991, 199.99999999999983, -99.99999999999991, -99.99999999999991, 199.99999999999983, -99.99999999999991, -99.99999999999991, 199.99999999999983, -99.99999999999991, -99.99999999999991, 200.0000000000004, -100.00000000000047, -100.00000000000047, 200.0000000000004, -99.99999999999991, -99.99999999999991, 199.99999999999983, -99.99999999999991, -99.99999999999991, 199.99999999999983, -99.99999999999991, -99.99999999999991, 199.99999999999983, -99.99999999999991, -99.99999999999991, 199.99999999999983, -99.99999999999991, -99.99999999999991, 200.0000000000004, -100.00000000000047, -100.00000000000047, 200.0000000000004, -99.99999999999991, -99.99999999999991, 199.99999999999983, -99.99999999999991, -99.99999999999991, 199.99999999999983, -99.99999999999991, -99.99999999999991, 199.99999999999983, -99.99999999999991, -99.99999999999991, 199.99999999999983, -99.99999999999991, -99.99999999999991, 199.99999999999983, -99.99999999999991, -99.99999999999991, 199.99999999999983, -99.99999999999991, -99.99999999999991, 199.99999999999983, -99.99999999999991, -99.99999999999991, 199.99999999999983, -99.99999999999991, -99.99999999999991, 200.00000000000094, -100.00000000000102, -100.00000000000102, 200.00000000000094, -99.99999999999991, -99.99999999999991, 199.99999999999983, -99.99999999999991, -99.99999999999991, 199.99999999999983, -99.99999999999991, -99.99999999999991, 199.99999999999983, -99.99999999999991, -99.99999999999991, 199.99999999999983, -99.99999999999991, -99.99999999999991, 199.99999999999983, -99.99999999999991, -99.99999999999991, 199.99999999999983, -99.99999999999991, -99.99999999999991, 199.99999999999983, -99.99999999999991, -99.99999999999991, 199.99999999999983, -99.99999999999991, -99.99999999999991, 199.99999999999983, -99.99999999999991, -99.99999999999991, 199.99999999999983, -99.99999999999991, -99.99999999999991, 200.00000000000094, -100.00000000000102, -100.00000000000102, 200.00000000000094, -99.99999999999991, -99.99999999999991, 199.99999999999983, -99.99999999999991, -99.99999999999991, 199.99999999999983, -99.99999999999991, -99.99999999999991, 199.99999999999983, -99.99999999999991, -99.99999999999991, 199.99999999999983, -99.99999999999991, -99.99999999999991, 199.99999999999983, -99.99999999999991, -99.99999999999991, 199.99999999999983, -99.99999999999991, -99.99999999999991, 199.99999999999983, -99.99999999999991, -99.99999999999991, 199.99999999999983, -99.99999999999991, -99.99999999999991, 199.99999999999983, -99.99999999999991, -99.99999999999991, 199.99999999999983, -99.99999999999991, -99.99999999999991, 199.99999999999983, -99.99999999999991, -99.99999999999991, 200.00000000000094, -100.00000000000102, -100.00000000000102, 200.00000000000094, -99.99999999999991, -99.99999999999991, 199.99999999999983, -99.99999999999991, -99.99999999999991, 199.99999999999983, -99.99999999999991, -99.99999999999991, 199.99999999999983, -99.99999999999991, -99.99999999999991, 199.99999999999983, -99.99999999999991, -99.99999999999991, 199.99999999999983, -99.99999999999991, -99.99999999999991, 199.99999999999983, -99.99999999999991, -99.99999999999991, 199.99999999999983, -99.99999999999991, -99.99999999999991, 199.99999999999983, -99.99999999999991, -99.99999999999991, 199.99999999999983, -99.99999999999991, -99.99999999999991, 199.99999999999983, -99.99999999999991, -99.99999999999991, 200.00000000000094, -100.00000000000102, -100.00000000000102, 200.00000000000094, -99.99999999999991, -99.99999999999991, 199.99999999999983, -99.99999999999991, -99.99999999999991, 199.99999999999983, -99.99999999999991, -99.99999999999991, 199.99999999999983, -99.99999999999991, -99.99999999999991, 199.99999999999983, -99.99999999999991, -99.99999999999991, 199.99999999999983, -99.99999999999991, -99.99999999999991, 99.99999999999991], 101, 101)"
     ]
    },
    {
     "data": {
      "image/png": "[encoded data removed]",
      "image/svg+xml": [
       "<?xml version=\"1.0\" encoding=\"utf-8\"?>\n",
       "<svg xmlns=\"http://www.w3.org/2000/svg\" xmlns:xlink=\"http://www.w3.org/1999/xlink\" width=\"600\" height=\"400\" viewBox=\"0 0 2400 1600\">\n",
       "<defs>\n",
       "  <clipPath id=\"clip520\">\n",
       "    <rect x=\"0\" y=\"0\" width=\"2400\" height=\"1600\"/>\n",
       "  </clipPath>\n",
       "</defs>\n",
       "<path clip-path=\"url(#clip520)\" d=\"M0 1600 L2400 1600 L2400 0 L0 0  Z\" fill=\"#ffffff\" fill-rule=\"evenodd\" fill-opacity=\"1\"/>\n",
       "<defs>\n",
       "  <clipPath id=\"clip521\">\n",
       "    <rect x=\"480\" y=\"0\" width=\"1681\" height=\"1600\"/>\n",
       "  </clipPath>\n",
       "</defs>\n",
       "<path clip-path=\"url(#clip520)\" d=\"M156.598 1486.45 L2352.76 1486.45 L2352.76 47.2441 L156.598 47.2441  Z\" fill=\"#ffffff\" fill-rule=\"evenodd\" fill-opacity=\"1\"/>\n",
       "<defs>\n",
       "  <clipPath id=\"clip522\">\n",
       "    <rect x=\"156\" y=\"47\" width=\"2197\" height=\"1440\"/>\n",
       "  </clipPath>\n",
       "</defs>\n",
       "<polyline clip-path=\"url(#clip522)\" style=\"stroke:#000000; stroke-linecap:round; stroke-linejoin:round; stroke-width:2; stroke-opacity:0.1; fill:none\" points=\"198.035,1486.45 198.035,47.2441 \"/>\n",
       "<polyline clip-path=\"url(#clip522)\" style=\"stroke:#000000; stroke-linecap:round; stroke-linejoin:round; stroke-width:2; stroke-opacity:0.1; fill:none\" points=\"715.997,1486.45 715.997,47.2441 \"/>\n",
       "<polyline clip-path=\"url(#clip522)\" style=\"stroke:#000000; stroke-linecap:round; stroke-linejoin:round; stroke-width:2; stroke-opacity:0.1; fill:none\" points=\"1233.96,1486.45 1233.96,47.2441 \"/>\n",
       "<polyline clip-path=\"url(#clip522)\" style=\"stroke:#000000; stroke-linecap:round; stroke-linejoin:round; stroke-width:2; stroke-opacity:0.1; fill:none\" points=\"1751.92,1486.45 1751.92,47.2441 \"/>\n",
       "<polyline clip-path=\"url(#clip522)\" style=\"stroke:#000000; stroke-linecap:round; stroke-linejoin:round; stroke-width:2; stroke-opacity:0.1; fill:none\" points=\"2269.88,1486.45 2269.88,47.2441 \"/>\n",
       "<polyline clip-path=\"url(#clip520)\" style=\"stroke:#000000; stroke-linecap:round; stroke-linejoin:round; stroke-width:4; stroke-opacity:1; fill:none\" points=\"156.598,1486.45 2352.76,1486.45 \"/>\n",
       "<polyline clip-path=\"url(#clip520)\" style=\"stroke:#000000; stroke-linecap:round; stroke-linejoin:round; stroke-width:4; stroke-opacity:1; fill:none\" points=\"198.035,1486.45 198.035,1467.55 \"/>\n",
       "<polyline clip-path=\"url(#clip520)\" style=\"stroke:#000000; stroke-linecap:round; stroke-linejoin:round; stroke-width:4; stroke-opacity:1; fill:none\" points=\"715.997,1486.45 715.997,1467.55 \"/>\n",
       "<polyline clip-path=\"url(#clip520)\" style=\"stroke:#000000; stroke-linecap:round; stroke-linejoin:round; stroke-width:4; stroke-opacity:1; fill:none\" points=\"1233.96,1486.45 1233.96,1467.55 \"/>\n",
       "<polyline clip-path=\"url(#clip520)\" style=\"stroke:#000000; stroke-linecap:round; stroke-linejoin:round; stroke-width:4; stroke-opacity:1; fill:none\" points=\"1751.92,1486.45 1751.92,1467.55 \"/>\n",
       "<polyline clip-path=\"url(#clip520)\" style=\"stroke:#000000; stroke-linecap:round; stroke-linejoin:round; stroke-width:4; stroke-opacity:1; fill:none\" points=\"2269.88,1486.45 2269.88,1467.55 \"/>\n",
       "<path clip-path=\"url(#clip520)\" d=\"M198.035 1517.37 Q194.424 1517.37 192.595 1520.93 Q190.79 1524.47 190.79 1531.6 Q190.79 1538.71 192.595 1542.27 Q194.424 1545.82 198.035 1545.82 Q201.669 1545.82 203.475 1542.27 Q205.304 1538.71 205.304 1531.6 Q205.304 1524.47 203.475 1520.93 Q201.669 1517.37 198.035 1517.37 M198.035 1513.66 Q203.845 1513.66 206.901 1518.27 Q209.98 1522.85 209.98 1531.6 Q209.98 1540.33 206.901 1544.94 Q203.845 1549.52 198.035 1549.52 Q192.225 1549.52 189.146 1544.94 Q186.091 1540.33 186.091 1531.6 Q186.091 1522.85 189.146 1518.27 Q192.225 1513.66 198.035 1513.66 Z\" fill=\"#000000\" fill-rule=\"nonzero\" fill-opacity=\"1\" /><path clip-path=\"url(#clip520)\" d=\"M695.268 1544.91 L711.587 1544.91 L711.587 1548.85 L689.643 1548.85 L689.643 1544.91 Q692.305 1542.16 696.888 1537.53 Q701.495 1532.88 702.675 1531.53 Q704.921 1529.01 705.8 1527.27 Q706.703 1525.51 706.703 1523.82 Q706.703 1521.07 704.759 1519.33 Q702.837 1517.6 699.735 1517.6 Q697.536 1517.6 695.083 1518.36 Q692.652 1519.13 689.874 1520.68 L689.874 1515.95 Q692.698 1514.82 695.152 1514.24 Q697.606 1513.66 699.643 1513.66 Q705.013 1513.66 708.208 1516.35 Q711.402 1519.03 711.402 1523.52 Q711.402 1525.65 710.592 1527.57 Q709.805 1529.47 707.698 1532.07 Q707.12 1532.74 704.018 1535.95 Q700.916 1539.15 695.268 1544.91 Z\" fill=\"#000000\" fill-rule=\"nonzero\" fill-opacity=\"1\" /><path clip-path=\"url(#clip520)\" d=\"M721.448 1514.29 L739.805 1514.29 L739.805 1518.22 L725.731 1518.22 L725.731 1526.7 Q726.749 1526.35 727.768 1526.19 Q728.786 1526 729.805 1526 Q735.592 1526 738.971 1529.17 Q742.351 1532.34 742.351 1537.76 Q742.351 1543.34 738.879 1546.44 Q735.407 1549.52 729.087 1549.52 Q726.911 1549.52 724.643 1549.15 Q722.397 1548.78 719.99 1548.04 L719.99 1543.34 Q722.073 1544.47 724.295 1545.03 Q726.518 1545.58 728.995 1545.58 Q732.999 1545.58 735.337 1543.48 Q737.675 1541.37 737.675 1537.76 Q737.675 1534.15 735.337 1532.04 Q732.999 1529.94 728.995 1529.94 Q727.12 1529.94 725.245 1530.35 Q723.393 1530.77 721.448 1531.65 L721.448 1514.29 Z\" fill=\"#000000\" fill-rule=\"nonzero\" fill-opacity=\"1\" /><path clip-path=\"url(#clip520)\" d=\"M1208.66 1514.29 L1227.01 1514.29 L1227.01 1518.22 L1212.94 1518.22 L1212.94 1526.7 Q1213.96 1526.35 1214.98 1526.19 Q1216 1526 1217.01 1526 Q1222.8 1526 1226.18 1529.17 Q1229.56 1532.34 1229.56 1537.76 Q1229.56 1543.34 1226.09 1546.44 Q1222.62 1549.52 1216.3 1549.52 Q1214.12 1549.52 1211.85 1549.15 Q1209.61 1548.78 1207.2 1548.04 L1207.2 1543.34 Q1209.28 1544.47 1211.51 1545.03 Q1213.73 1545.58 1216.2 1545.58 Q1220.21 1545.58 1222.55 1543.48 Q1224.88 1541.37 1224.88 1537.76 Q1224.88 1534.15 1222.55 1532.04 Q1220.21 1529.94 1216.2 1529.94 Q1214.33 1529.94 1212.45 1530.35 Q1210.6 1530.77 1208.66 1531.65 L1208.66 1514.29 Z\" fill=\"#000000\" fill-rule=\"nonzero\" fill-opacity=\"1\" /><path clip-path=\"url(#clip520)\" d=\"M1248.77 1517.37 Q1245.16 1517.37 1243.33 1520.93 Q1241.53 1524.47 1241.53 1531.6 Q1241.53 1538.71 1243.33 1542.27 Q1245.16 1545.82 1248.77 1545.82 Q1252.41 1545.82 1254.21 1542.27 Q1256.04 1538.71 1256.04 1531.6 Q1256.04 1524.47 1254.21 1520.93 Q1252.41 1517.37 1248.77 1517.37 M1248.77 1513.66 Q1254.58 1513.66 1257.64 1518.27 Q1260.72 1522.85 1260.72 1531.6 Q1260.72 1540.33 1257.64 1544.94 Q1254.58 1549.52 1248.77 1549.52 Q1242.96 1549.52 1239.88 1544.94 Q1236.83 1540.33 1236.83 1531.6 Q1236.83 1522.85 1239.88 1518.27 Q1242.96 1513.66 1248.77 1513.66 Z\" fill=\"#000000\" fill-rule=\"nonzero\" fill-opacity=\"1\" /><path clip-path=\"url(#clip520)\" d=\"M1725.77 1514.29 L1748 1514.29 L1748 1516.28 L1735.45 1548.85 L1730.57 1548.85 L1742.37 1518.22 L1725.77 1518.22 L1725.77 1514.29 Z\" fill=\"#000000\" fill-rule=\"nonzero\" fill-opacity=\"1\" /><path clip-path=\"url(#clip520)\" d=\"M1757.16 1514.29 L1775.52 1514.29 L1775.52 1518.22 L1761.45 1518.22 L1761.45 1526.7 Q1762.46 1526.35 1763.48 1526.19 Q1764.5 1526 1765.52 1526 Q1771.31 1526 1774.69 1529.17 Q1778.07 1532.34 1778.07 1537.76 Q1778.07 1543.34 1774.59 1546.44 Q1771.12 1549.52 1764.8 1549.52 Q1762.63 1549.52 1760.36 1549.15 Q1758.11 1548.78 1755.71 1548.04 L1755.71 1543.34 Q1757.79 1544.47 1760.01 1545.03 Q1762.23 1545.58 1764.71 1545.58 Q1768.71 1545.58 1771.05 1543.48 Q1773.39 1541.37 1773.39 1537.76 Q1773.39 1534.15 1771.05 1532.04 Q1768.71 1529.94 1764.71 1529.94 Q1762.83 1529.94 1760.96 1530.35 Q1759.11 1530.77 1757.16 1531.65 L1757.16 1514.29 Z\" fill=\"#000000\" fill-rule=\"nonzero\" fill-opacity=\"1\" /><path clip-path=\"url(#clip520)\" d=\"M2229.49 1544.91 L2237.13 1544.91 L2237.13 1518.55 L2228.82 1520.21 L2228.82 1515.95 L2237.08 1514.29 L2241.76 1514.29 L2241.76 1544.91 L2249.4 1544.91 L2249.4 1548.85 L2229.49 1548.85 L2229.49 1544.91 Z\" fill=\"#000000\" fill-rule=\"nonzero\" fill-opacity=\"1\" /><path clip-path=\"url(#clip520)\" d=\"M2268.84 1517.37 Q2265.23 1517.37 2263.4 1520.93 Q2261.6 1524.47 2261.6 1531.6 Q2261.6 1538.71 2263.4 1542.27 Q2265.23 1545.82 2268.84 1545.82 Q2272.47 1545.82 2274.28 1542.27 Q2276.11 1538.71 2276.11 1531.6 Q2276.11 1524.47 2274.28 1520.93 Q2272.47 1517.37 2268.84 1517.37 M2268.84 1513.66 Q2274.65 1513.66 2277.71 1518.27 Q2280.78 1522.85 2280.78 1531.6 Q2280.78 1540.33 2277.71 1544.94 Q2274.65 1549.52 2268.84 1549.52 Q2263.03 1549.52 2259.95 1544.94 Q2256.9 1540.33 2256.9 1531.6 Q2256.9 1522.85 2259.95 1518.27 Q2263.03 1513.66 2268.84 1513.66 Z\" fill=\"#000000\" fill-rule=\"nonzero\" fill-opacity=\"1\" /><path clip-path=\"url(#clip520)\" d=\"M2299 1517.37 Q2295.39 1517.37 2293.56 1520.93 Q2291.76 1524.47 2291.76 1531.6 Q2291.76 1538.71 2293.56 1542.27 Q2295.39 1545.82 2299 1545.82 Q2302.64 1545.82 2304.44 1542.27 Q2306.27 1538.71 2306.27 1531.6 Q2306.27 1524.47 2304.44 1520.93 Q2302.64 1517.37 2299 1517.37 M2299 1513.66 Q2304.81 1513.66 2307.87 1518.27 Q2310.95 1522.85 2310.95 1531.6 Q2310.95 1540.33 2307.87 1544.94 Q2304.81 1549.52 2299 1549.52 Q2293.19 1549.52 2290.11 1544.94 Q2287.06 1540.33 2287.06 1531.6 Q2287.06 1522.85 2290.11 1518.27 Q2293.19 1513.66 2299 1513.66 Z\" fill=\"#000000\" fill-rule=\"nonzero\" fill-opacity=\"1\" /><polyline clip-path=\"url(#clip522)\" style=\"stroke:#000000; stroke-linecap:round; stroke-linejoin:round; stroke-width:2; stroke-opacity:0.1; fill:none\" points=\"156.598,1445.72 2352.76,1445.72 \"/>\n",
       "<polyline clip-path=\"url(#clip522)\" style=\"stroke:#000000; stroke-linecap:round; stroke-linejoin:round; stroke-width:2; stroke-opacity:0.1; fill:none\" points=\"156.598,1171.42 2352.76,1171.42 \"/>\n",
       "<polyline clip-path=\"url(#clip522)\" style=\"stroke:#000000; stroke-linecap:round; stroke-linejoin:round; stroke-width:2; stroke-opacity:0.1; fill:none\" points=\"156.598,897.134 2352.76,897.134 \"/>\n",
       "<polyline clip-path=\"url(#clip522)\" style=\"stroke:#000000; stroke-linecap:round; stroke-linejoin:round; stroke-width:2; stroke-opacity:0.1; fill:none\" points=\"156.598,622.843 2352.76,622.843 \"/>\n",
       "<polyline clip-path=\"url(#clip522)\" style=\"stroke:#000000; stroke-linecap:round; stroke-linejoin:round; stroke-width:2; stroke-opacity:0.1; fill:none\" points=\"156.598,348.553 2352.76,348.553 \"/>\n",
       "<polyline clip-path=\"url(#clip522)\" style=\"stroke:#000000; stroke-linecap:round; stroke-linejoin:round; stroke-width:2; stroke-opacity:0.1; fill:none\" points=\"156.598,74.2617 2352.76,74.2617 \"/>\n",
       "<polyline clip-path=\"url(#clip520)\" style=\"stroke:#000000; stroke-linecap:round; stroke-linejoin:round; stroke-width:4; stroke-opacity:1; fill:none\" points=\"156.598,1486.45 156.598,47.2441 \"/>\n",
       "<polyline clip-path=\"url(#clip520)\" style=\"stroke:#000000; stroke-linecap:round; stroke-linejoin:round; stroke-width:4; stroke-opacity:1; fill:none\" points=\"156.598,1445.72 175.496,1445.72 \"/>\n",
       "<polyline clip-path=\"url(#clip520)\" style=\"stroke:#000000; stroke-linecap:round; stroke-linejoin:round; stroke-width:4; stroke-opacity:1; fill:none\" points=\"156.598,1171.42 175.496,1171.42 \"/>\n",
       "<polyline clip-path=\"url(#clip520)\" style=\"stroke:#000000; stroke-linecap:round; stroke-linejoin:round; stroke-width:4; stroke-opacity:1; fill:none\" points=\"156.598,897.134 175.496,897.134 \"/>\n",
       "<polyline clip-path=\"url(#clip520)\" style=\"stroke:#000000; stroke-linecap:round; stroke-linejoin:round; stroke-width:4; stroke-opacity:1; fill:none\" points=\"156.598,622.843 175.496,622.843 \"/>\n",
       "<polyline clip-path=\"url(#clip520)\" style=\"stroke:#000000; stroke-linecap:round; stroke-linejoin:round; stroke-width:4; stroke-opacity:1; fill:none\" points=\"156.598,348.553 175.496,348.553 \"/>\n",
       "<polyline clip-path=\"url(#clip520)\" style=\"stroke:#000000; stroke-linecap:round; stroke-linejoin:round; stroke-width:4; stroke-opacity:1; fill:none\" points=\"156.598,74.2617 175.496,74.2617 \"/>\n",
       "<path clip-path=\"url(#clip520)\" d=\"M63.4226 1431.51 Q59.8115 1431.51 57.9828 1435.08 Q56.1773 1438.62 56.1773 1445.75 Q56.1773 1452.86 57.9828 1456.42 Q59.8115 1459.96 63.4226 1459.96 Q67.0569 1459.96 68.8624 1456.42 Q70.6911 1452.86 70.6911 1445.75 Q70.6911 1438.62 68.8624 1435.08 Q67.0569 1431.51 63.4226 1431.51 M63.4226 1427.81 Q69.2328 1427.81 72.2883 1432.42 Q75.367 1437 75.367 1445.75 Q75.367 1454.48 72.2883 1459.08 Q69.2328 1463.67 63.4226 1463.67 Q57.6125 1463.67 54.5338 1459.08 Q51.4782 1454.48 51.4782 1445.75 Q51.4782 1437 54.5338 1432.42 Q57.6125 1427.81 63.4226 1427.81 Z\" fill=\"#000000\" fill-rule=\"nonzero\" fill-opacity=\"1\" /><path clip-path=\"url(#clip520)\" d=\"M83.5845 1457.12 L88.4688 1457.12 L88.4688 1463 L83.5845 1463 L83.5845 1457.12 Z\" fill=\"#000000\" fill-rule=\"nonzero\" fill-opacity=\"1\" /><path clip-path=\"url(#clip520)\" d=\"M108.654 1431.51 Q105.043 1431.51 103.214 1435.08 Q101.409 1438.62 101.409 1445.75 Q101.409 1452.86 103.214 1456.42 Q105.043 1459.96 108.654 1459.96 Q112.288 1459.96 114.094 1456.42 Q115.922 1452.86 115.922 1445.75 Q115.922 1438.62 114.094 1435.08 Q112.288 1431.51 108.654 1431.51 M108.654 1427.81 Q114.464 1427.81 117.52 1432.42 Q120.598 1437 120.598 1445.75 Q120.598 1454.48 117.52 1459.08 Q114.464 1463.67 108.654 1463.67 Q102.844 1463.67 99.765 1459.08 Q96.7095 1454.48 96.7095 1445.75 Q96.7095 1437 99.765 1432.42 Q102.844 1427.81 108.654 1427.81 Z\" fill=\"#000000\" fill-rule=\"nonzero\" fill-opacity=\"1\" /><path clip-path=\"url(#clip520)\" d=\"M64.6495 1157.22 Q61.0384 1157.22 59.2097 1160.79 Q57.4041 1164.33 57.4041 1171.46 Q57.4041 1178.57 59.2097 1182.13 Q61.0384 1185.67 64.6495 1185.67 Q68.2837 1185.67 70.0892 1182.13 Q71.9179 1178.57 71.9179 1171.46 Q71.9179 1164.33 70.0892 1160.79 Q68.2837 1157.22 64.6495 1157.22 M64.6495 1153.52 Q70.4596 1153.52 73.5152 1158.13 Q76.5938 1162.71 76.5938 1171.46 Q76.5938 1180.19 73.5152 1184.79 Q70.4596 1189.38 64.6495 1189.38 Q58.8393 1189.38 55.7606 1184.79 Q52.7051 1180.19 52.7051 1171.46 Q52.7051 1162.71 55.7606 1158.13 Q58.8393 1153.52 64.6495 1153.52 Z\" fill=\"#000000\" fill-rule=\"nonzero\" fill-opacity=\"1\" /><path clip-path=\"url(#clip520)\" d=\"M84.8114 1182.83 L89.6956 1182.83 L89.6956 1188.7 L84.8114 1188.7 L84.8114 1182.83 Z\" fill=\"#000000\" fill-rule=\"nonzero\" fill-opacity=\"1\" /><path clip-path=\"url(#clip520)\" d=\"M100.691 1184.77 L108.33 1184.77 L108.33 1158.4 L100.02 1160.07 L100.02 1155.81 L108.283 1154.14 L112.959 1154.14 L112.959 1184.77 L120.598 1184.77 L120.598 1188.7 L100.691 1188.7 L100.691 1184.77 Z\" fill=\"#000000\" fill-rule=\"nonzero\" fill-opacity=\"1\" /><path clip-path=\"url(#clip520)\" d=\"M65.0198 882.933 Q61.4087 882.933 59.58 886.498 Q57.7745 890.039 57.7745 897.169 Q57.7745 904.275 59.58 907.84 Q61.4087 911.382 65.0198 911.382 Q68.6541 911.382 70.4596 907.84 Q72.2883 904.275 72.2883 897.169 Q72.2883 890.039 70.4596 886.498 Q68.6541 882.933 65.0198 882.933 M65.0198 879.229 Q70.83 879.229 73.8855 883.836 Q76.9642 888.419 76.9642 897.169 Q76.9642 905.896 73.8855 910.502 Q70.83 915.085 65.0198 915.085 Q59.2097 915.085 56.131 910.502 Q53.0754 905.896 53.0754 897.169 Q53.0754 888.419 56.131 883.836 Q59.2097 879.229 65.0198 879.229 Z\" fill=\"#000000\" fill-rule=\"nonzero\" fill-opacity=\"1\" /><path clip-path=\"url(#clip520)\" d=\"M85.1818 908.535 L90.066 908.535 L90.066 914.414 L85.1818 914.414 L85.1818 908.535 Z\" fill=\"#000000\" fill-rule=\"nonzero\" fill-opacity=\"1\" /><path clip-path=\"url(#clip520)\" d=\"M104.279 910.479 L120.598 910.479 L120.598 914.414 L98.6539 914.414 L98.6539 910.479 Q101.316 907.724 105.899 903.095 Q110.506 898.442 111.686 897.099 Q113.932 894.576 114.811 892.84 Q115.714 891.081 115.714 889.391 Q115.714 886.636 113.77 884.9 Q111.848 883.164 108.746 883.164 Q106.547 883.164 104.094 883.928 Q101.663 884.692 98.8854 886.243 L98.8854 881.521 Q101.709 880.387 104.163 879.808 Q106.617 879.229 108.654 879.229 Q114.024 879.229 117.219 881.914 Q120.413 884.599 120.413 889.09 Q120.413 891.22 119.603 893.141 Q118.816 895.039 116.709 897.632 Q116.131 898.303 113.029 901.521 Q109.927 904.715 104.279 910.479 Z\" fill=\"#000000\" fill-rule=\"nonzero\" fill-opacity=\"1\" /><path clip-path=\"url(#clip520)\" d=\"M64.0708 608.642 Q60.4597 608.642 58.631 612.207 Q56.8254 615.748 56.8254 622.878 Q56.8254 629.984 58.631 633.549 Q60.4597 637.091 64.0708 637.091 Q67.705 637.091 69.5105 633.549 Q71.3392 629.984 71.3392 622.878 Q71.3392 615.748 69.5105 612.207 Q67.705 608.642 64.0708 608.642 M64.0708 604.938 Q69.8809 604.938 72.9365 609.545 Q76.0151 614.128 76.0151 622.878 Q76.0151 631.605 72.9365 636.211 Q69.8809 640.795 64.0708 640.795 Q58.2606 640.795 55.1819 636.211 Q52.1264 631.605 52.1264 622.878 Q52.1264 614.128 55.1819 609.545 Q58.2606 604.938 64.0708 604.938 Z\" fill=\"#000000\" fill-rule=\"nonzero\" fill-opacity=\"1\" /><path clip-path=\"url(#clip520)\" d=\"M84.2327 634.244 L89.1169 634.244 L89.1169 640.123 L84.2327 640.123 L84.2327 634.244 Z\" fill=\"#000000\" fill-rule=\"nonzero\" fill-opacity=\"1\" /><path clip-path=\"url(#clip520)\" d=\"M113.469 621.489 Q116.825 622.207 118.7 624.475 Q120.598 626.744 120.598 630.077 Q120.598 635.193 117.08 637.994 Q113.561 640.795 107.08 640.795 Q104.904 640.795 102.589 640.355 Q100.297 639.938 97.8437 639.082 L97.8437 634.568 Q99.7882 635.702 102.103 636.281 Q104.418 636.859 106.941 636.859 Q111.339 636.859 113.631 635.123 Q115.945 633.387 115.945 630.077 Q115.945 627.022 113.793 625.309 Q111.663 623.572 107.844 623.572 L103.816 623.572 L103.816 619.73 L108.029 619.73 Q111.478 619.73 113.307 618.364 Q115.135 616.975 115.135 614.383 Q115.135 611.721 113.237 610.309 Q111.362 608.873 107.844 608.873 Q105.922 608.873 103.723 609.29 Q101.524 609.707 98.8854 610.586 L98.8854 606.42 Q101.547 605.679 103.862 605.309 Q106.2 604.938 108.26 604.938 Q113.584 604.938 116.686 607.369 Q119.788 609.776 119.788 613.897 Q119.788 616.767 118.145 618.758 Q116.501 620.725 113.469 621.489 Z\" fill=\"#000000\" fill-rule=\"nonzero\" fill-opacity=\"1\" /><path clip-path=\"url(#clip520)\" d=\"M62.9365 334.351 Q59.3254 334.351 57.4967 337.916 Q55.6912 341.458 55.6912 348.587 Q55.6912 355.694 57.4967 359.258 Q59.3254 362.8 62.9365 362.8 Q66.5707 362.8 68.3763 359.258 Q70.205 355.694 70.205 348.587 Q70.205 341.458 68.3763 337.916 Q66.5707 334.351 62.9365 334.351 M62.9365 330.648 Q68.7467 330.648 71.8022 335.254 Q74.8809 339.837 74.8809 348.587 Q74.8809 357.314 71.8022 361.921 Q68.7467 366.504 62.9365 366.504 Q57.1264 366.504 54.0477 361.921 Q50.9921 357.314 50.9921 348.587 Q50.9921 339.837 54.0477 335.254 Q57.1264 330.648 62.9365 330.648 Z\" fill=\"#000000\" fill-rule=\"nonzero\" fill-opacity=\"1\" /><path clip-path=\"url(#clip520)\" d=\"M83.0984 359.953 L87.9827 359.953 L87.9827 365.833 L83.0984 365.833 L83.0984 359.953 Z\" fill=\"#000000\" fill-rule=\"nonzero\" fill-opacity=\"1\" /><path clip-path=\"url(#clip520)\" d=\"M111.015 335.347 L99.2095 353.796 L111.015 353.796 L111.015 335.347 M109.788 331.273 L115.668 331.273 L115.668 353.796 L120.598 353.796 L120.598 357.684 L115.668 357.684 L115.668 365.833 L111.015 365.833 L111.015 357.684 L95.4132 357.684 L95.4132 353.171 L109.788 331.273 Z\" fill=\"#000000\" fill-rule=\"nonzero\" fill-opacity=\"1\" /><path clip-path=\"url(#clip520)\" d=\"M64.418 60.0604 Q60.8069 60.0604 58.9782 63.6252 Q57.1726 67.1669 57.1726 74.2965 Q57.1726 81.4029 58.9782 84.9677 Q60.8069 88.5093 64.418 88.5093 Q68.0522 88.5093 69.8578 84.9677 Q71.6865 81.4029 71.6865 74.2965 Q71.6865 67.1669 69.8578 63.6252 Q68.0522 60.0604 64.418 60.0604 M64.418 56.3567 Q70.2281 56.3567 73.2837 60.9632 Q76.3624 65.5465 76.3624 74.2965 Q76.3624 83.0233 73.2837 87.6297 Q70.2281 92.213 64.418 92.213 Q58.6078 92.213 55.5291 87.6297 Q52.4736 83.0233 52.4736 74.2965 Q52.4736 65.5465 55.5291 60.9632 Q58.6078 56.3567 64.418 56.3567 Z\" fill=\"#000000\" fill-rule=\"nonzero\" fill-opacity=\"1\" /><path clip-path=\"url(#clip520)\" d=\"M84.5799 85.6621 L89.4641 85.6621 L89.4641 91.5417 L84.5799 91.5417 L84.5799 85.6621 Z\" fill=\"#000000\" fill-rule=\"nonzero\" fill-opacity=\"1\" /><path clip-path=\"url(#clip520)\" d=\"M99.6956 56.9817 L118.052 56.9817 L118.052 60.9169 L103.978 60.9169 L103.978 69.3891 Q104.996 69.0419 106.015 68.8798 Q107.033 68.6946 108.052 68.6946 Q113.839 68.6946 117.219 71.8659 Q120.598 75.0372 120.598 80.4538 Q120.598 86.0325 117.126 89.1343 Q113.654 92.213 107.334 92.213 Q105.159 92.213 102.89 91.8427 Q100.645 91.4723 98.2372 90.7316 L98.2372 86.0325 Q100.321 87.1668 102.543 87.7223 Q104.765 88.2779 107.242 88.2779 Q111.246 88.2779 113.584 86.1714 Q115.922 84.0649 115.922 80.4538 Q115.922 76.8427 113.584 74.7363 Q111.246 72.6298 107.242 72.6298 Q105.367 72.6298 103.492 73.0465 Q101.64 73.4631 99.6956 74.3428 L99.6956 56.9817 Z\" fill=\"#000000\" fill-rule=\"nonzero\" fill-opacity=\"1\" /><polyline clip-path=\"url(#clip522)\" style=\"stroke:#009af9; stroke-linecap:round; stroke-linejoin:round; stroke-width:4; stroke-opacity:1; fill:none\" points=\"218.754,1445.72 239.472,1418.56 260.191,1391.68 280.909,1365.07 301.628,1338.74 322.346,1312.68 343.064,1286.9 363.783,1261.39 384.501,1236.16 405.22,1211.2 425.938,1186.51 446.657,1162.1 467.375,1137.96 488.094,1114.1 508.812,1090.51 529.531,1067.19 550.249,1044.15 570.968,1021.39 591.686,998.896 612.405,976.678 633.123,954.735 653.841,933.066 674.56,911.672 695.278,890.551 715.997,869.705 736.715,849.133 757.434,828.836 778.152,808.812 798.871,789.064 819.589,769.589 840.308,750.389 861.026,731.462 881.745,712.811 902.463,694.433 923.182,676.33 943.9,658.501 964.619,640.947 985.337,623.666 1006.06,606.66 1026.77,589.928 1047.49,573.471 1068.21,557.288 1088.93,541.379 1109.65,525.744 1130.37,510.384 1151.08,495.298 1171.8,480.486 1192.52,465.949 1213.24,451.686 1233.96,437.697 1254.68,423.982 1275.4,410.542 1296.11,397.376 1316.83,384.485 1337.55,371.867 1358.27,359.524 1378.99,347.455 1399.71,335.661 1420.42,324.141 1441.14,312.895 1461.86,301.923 1482.58,291.226 1503.3,280.803 1524.02,270.654 1544.74,260.779 1565.45,251.179 1586.17,241.853 1606.89,232.802 1627.61,224.025 1648.33,215.521 1669.05,207.293 1689.76,199.338 1710.48,191.658 1731.2,184.252 1751.92,177.121 1772.64,170.264 1793.36,163.681 1814.08,157.372 1834.79,151.337 1855.51,145.577 1876.23,140.092 1896.95,134.88 1917.67,129.943 1938.39,125.28 1959.11,120.891 1979.82,116.777 2000.54,112.937 2021.26,109.371 2041.98,106.079 2062.7,103.062 2083.42,100.319 2104.13,97.8507 2124.85,95.6564 2145.57,93.7364 2166.29,92.0906 2187.01,90.7192 2207.73,89.622 2228.45,88.7991 2249.16,88.2506 2269.88,87.9763 2290.6,87.9763 \"/>\n",
       "<path clip-path=\"url(#clip520)\" d=\"M229.803 198.898 L501.85 198.898 L501.85 95.2176 L229.803 95.2176  Z\" fill=\"#ffffff\" fill-rule=\"evenodd\" fill-opacity=\"1\"/>\n",
       "<polyline clip-path=\"url(#clip520)\" style=\"stroke:#000000; stroke-linecap:round; stroke-linejoin:round; stroke-width:4; stroke-opacity:1; fill:none\" points=\"229.803,198.898 501.85,198.898 501.85,95.2176 229.803,95.2176 229.803,198.898 \"/>\n",
       "<polyline clip-path=\"url(#clip520)\" style=\"stroke:#009af9; stroke-linecap:round; stroke-linejoin:round; stroke-width:4; stroke-opacity:1; fill:none\" points=\"254.205,147.058 400.616,147.058 \"/>\n",
       "<path clip-path=\"url(#clip520)\" d=\"M438.86 166.745 Q437.054 171.375 435.342 172.787 Q433.629 174.199 430.758 174.199 L427.355 174.199 L427.355 170.634 L429.855 170.634 Q431.615 170.634 432.587 169.8 Q433.559 168.967 434.74 165.865 L435.504 163.921 L425.018 138.412 L429.531 138.412 L437.633 158.689 L445.735 138.412 L450.249 138.412 L438.86 166.745 Z\" fill=\"#000000\" fill-rule=\"nonzero\" fill-opacity=\"1\" /><path clip-path=\"url(#clip520)\" d=\"M457.54 160.402 L465.179 160.402 L465.179 134.037 L456.869 135.703 L456.869 131.444 L465.133 129.778 L469.809 129.778 L469.809 160.402 L477.448 160.402 L477.448 164.338 L457.54 164.338 L457.54 160.402 Z\" fill=\"#000000\" fill-rule=\"nonzero\" fill-opacity=\"1\" /></svg>\n"
      ],
      "text/html": [
       "<?xml version=\"1.0\" encoding=\"utf-8\"?>\n",
       "<svg xmlns=\"http://www.w3.org/2000/svg\" xmlns:xlink=\"http://www.w3.org/1999/xlink\" width=\"600\" height=\"400\" viewBox=\"0 0 2400 1600\">\n",
       "<defs>\n",
       "  <clipPath id=\"clip570\">\n",
       "    <rect x=\"0\" y=\"0\" width=\"2400\" height=\"1600\"/>\n",
       "  </clipPath>\n",
       "</defs>\n",
       "<path clip-path=\"url(#clip570)\" d=\"M0 1600 L2400 1600 L2400 0 L0 0  Z\" fill=\"#ffffff\" fill-rule=\"evenodd\" fill-opacity=\"1\"/>\n",
       "<defs>\n",
       "  <clipPath id=\"clip571\">\n",
       "    <rect x=\"480\" y=\"0\" width=\"1681\" height=\"1600\"/>\n",
       "  </clipPath>\n",
       "</defs>\n",
       "<path clip-path=\"url(#clip570)\" d=\"M156.598 1486.45 L2352.76 1486.45 L2352.76 47.2441 L156.598 47.2441  Z\" fill=\"#ffffff\" fill-rule=\"evenodd\" fill-opacity=\"1\"/>\n",
       "<defs>\n",
       "  <clipPath id=\"clip572\">\n",
       "    <rect x=\"156\" y=\"47\" width=\"2197\" height=\"1440\"/>\n",
       "  </clipPath>\n",
       "</defs>\n",
       "<polyline clip-path=\"url(#clip572)\" style=\"stroke:#000000; stroke-linecap:round; stroke-linejoin:round; stroke-width:2; stroke-opacity:0.1; fill:none\" points=\"198.035,1486.45 198.035,47.2441 \"/>\n",
       "<polyline clip-path=\"url(#clip572)\" style=\"stroke:#000000; stroke-linecap:round; stroke-linejoin:round; stroke-width:2; stroke-opacity:0.1; fill:none\" points=\"715.997,1486.45 715.997,47.2441 \"/>\n",
       "<polyline clip-path=\"url(#clip572)\" style=\"stroke:#000000; stroke-linecap:round; stroke-linejoin:round; stroke-width:2; stroke-opacity:0.1; fill:none\" points=\"1233.96,1486.45 1233.96,47.2441 \"/>\n",
       "<polyline clip-path=\"url(#clip572)\" style=\"stroke:#000000; stroke-linecap:round; stroke-linejoin:round; stroke-width:2; stroke-opacity:0.1; fill:none\" points=\"1751.92,1486.45 1751.92,47.2441 \"/>\n",
       "<polyline clip-path=\"url(#clip572)\" style=\"stroke:#000000; stroke-linecap:round; stroke-linejoin:round; stroke-width:2; stroke-opacity:0.1; fill:none\" points=\"2269.88,1486.45 2269.88,47.2441 \"/>\n",
       "<polyline clip-path=\"url(#clip570)\" style=\"stroke:#000000; stroke-linecap:round; stroke-linejoin:round; stroke-width:4; stroke-opacity:1; fill:none\" points=\"156.598,1486.45 2352.76,1486.45 \"/>\n",
       "<polyline clip-path=\"url(#clip570)\" style=\"stroke:#000000; stroke-linecap:round; stroke-linejoin:round; stroke-width:4; stroke-opacity:1; fill:none\" points=\"198.035,1486.45 198.035,1467.55 \"/>\n",
       "<polyline clip-path=\"url(#clip570)\" style=\"stroke:#000000; stroke-linecap:round; stroke-linejoin:round; stroke-width:4; stroke-opacity:1; fill:none\" points=\"715.997,1486.45 715.997,1467.55 \"/>\n",
       "<polyline clip-path=\"url(#clip570)\" style=\"stroke:#000000; stroke-linecap:round; stroke-linejoin:round; stroke-width:4; stroke-opacity:1; fill:none\" points=\"1233.96,1486.45 1233.96,1467.55 \"/>\n",
       "<polyline clip-path=\"url(#clip570)\" style=\"stroke:#000000; stroke-linecap:round; stroke-linejoin:round; stroke-width:4; stroke-opacity:1; fill:none\" points=\"1751.92,1486.45 1751.92,1467.55 \"/>\n",
       "<polyline clip-path=\"url(#clip570)\" style=\"stroke:#000000; stroke-linecap:round; stroke-linejoin:round; stroke-width:4; stroke-opacity:1; fill:none\" points=\"2269.88,1486.45 2269.88,1467.55 \"/>\n",
       "<path clip-path=\"url(#clip570)\" d=\"M198.035 1517.37 Q194.424 1517.37 192.595 1520.93 Q190.79 1524.47 190.79 1531.6 Q190.79 1538.71 192.595 1542.27 Q194.424 1545.82 198.035 1545.82 Q201.669 1545.82 203.475 1542.27 Q205.304 1538.71 205.304 1531.6 Q205.304 1524.47 203.475 1520.93 Q201.669 1517.37 198.035 1517.37 M198.035 1513.66 Q203.845 1513.66 206.901 1518.27 Q209.98 1522.85 209.98 1531.6 Q209.98 1540.33 206.901 1544.94 Q203.845 1549.52 198.035 1549.52 Q192.225 1549.52 189.146 1544.94 Q186.091 1540.33 186.091 1531.6 Q186.091 1522.85 189.146 1518.27 Q192.225 1513.66 198.035 1513.66 Z\" fill=\"#000000\" fill-rule=\"nonzero\" fill-opacity=\"1\" /><path clip-path=\"url(#clip570)\" d=\"M695.268 1544.91 L711.587 1544.91 L711.587 1548.85 L689.643 1548.85 L689.643 1544.91 Q692.305 1542.16 696.888 1537.53 Q701.495 1532.88 702.675 1531.53 Q704.921 1529.01 705.8 1527.27 Q706.703 1525.51 706.703 1523.82 Q706.703 1521.07 704.759 1519.33 Q702.837 1517.6 699.735 1517.6 Q697.536 1517.6 695.083 1518.36 Q692.652 1519.13 689.874 1520.68 L689.874 1515.95 Q692.698 1514.82 695.152 1514.24 Q697.606 1513.66 699.643 1513.66 Q705.013 1513.66 708.208 1516.35 Q711.402 1519.03 711.402 1523.52 Q711.402 1525.65 710.592 1527.57 Q709.805 1529.47 707.698 1532.07 Q707.12 1532.74 704.018 1535.95 Q700.916 1539.15 695.268 1544.91 Z\" fill=\"#000000\" fill-rule=\"nonzero\" fill-opacity=\"1\" /><path clip-path=\"url(#clip570)\" d=\"M721.448 1514.29 L739.805 1514.29 L739.805 1518.22 L725.731 1518.22 L725.731 1526.7 Q726.749 1526.35 727.768 1526.19 Q728.786 1526 729.805 1526 Q735.592 1526 738.971 1529.17 Q742.351 1532.34 742.351 1537.76 Q742.351 1543.34 738.879 1546.44 Q735.407 1549.52 729.087 1549.52 Q726.911 1549.52 724.643 1549.15 Q722.397 1548.78 719.99 1548.04 L719.99 1543.34 Q722.073 1544.47 724.295 1545.03 Q726.518 1545.58 728.995 1545.58 Q732.999 1545.58 735.337 1543.48 Q737.675 1541.37 737.675 1537.76 Q737.675 1534.15 735.337 1532.04 Q732.999 1529.94 728.995 1529.94 Q727.12 1529.94 725.245 1530.35 Q723.393 1530.77 721.448 1531.65 L721.448 1514.29 Z\" fill=\"#000000\" fill-rule=\"nonzero\" fill-opacity=\"1\" /><path clip-path=\"url(#clip570)\" d=\"M1208.66 1514.29 L1227.01 1514.29 L1227.01 1518.22 L1212.94 1518.22 L1212.94 1526.7 Q1213.96 1526.35 1214.98 1526.19 Q1216 1526 1217.01 1526 Q1222.8 1526 1226.18 1529.17 Q1229.56 1532.34 1229.56 1537.76 Q1229.56 1543.34 1226.09 1546.44 Q1222.62 1549.52 1216.3 1549.52 Q1214.12 1549.52 1211.85 1549.15 Q1209.61 1548.78 1207.2 1548.04 L1207.2 1543.34 Q1209.28 1544.47 1211.51 1545.03 Q1213.73 1545.58 1216.2 1545.58 Q1220.21 1545.58 1222.55 1543.48 Q1224.88 1541.37 1224.88 1537.76 Q1224.88 1534.15 1222.55 1532.04 Q1220.21 1529.94 1216.2 1529.94 Q1214.33 1529.94 1212.45 1530.35 Q1210.6 1530.77 1208.66 1531.65 L1208.66 1514.29 Z\" fill=\"#000000\" fill-rule=\"nonzero\" fill-opacity=\"1\" /><path clip-path=\"url(#clip570)\" d=\"M1248.77 1517.37 Q1245.16 1517.37 1243.33 1520.93 Q1241.53 1524.47 1241.53 1531.6 Q1241.53 1538.71 1243.33 1542.27 Q1245.16 1545.82 1248.77 1545.82 Q1252.41 1545.82 1254.21 1542.27 Q1256.04 1538.71 1256.04 1531.6 Q1256.04 1524.47 1254.21 1520.93 Q1252.41 1517.37 1248.77 1517.37 M1248.77 1513.66 Q1254.58 1513.66 1257.64 1518.27 Q1260.72 1522.85 1260.72 1531.6 Q1260.72 1540.33 1257.64 1544.94 Q1254.58 1549.52 1248.77 1549.52 Q1242.96 1549.52 1239.88 1544.94 Q1236.83 1540.33 1236.83 1531.6 Q1236.83 1522.85 1239.88 1518.27 Q1242.96 1513.66 1248.77 1513.66 Z\" fill=\"#000000\" fill-rule=\"nonzero\" fill-opacity=\"1\" /><path clip-path=\"url(#clip570)\" d=\"M1725.77 1514.29 L1748 1514.29 L1748 1516.28 L1735.45 1548.85 L1730.57 1548.85 L1742.37 1518.22 L1725.77 1518.22 L1725.77 1514.29 Z\" fill=\"#000000\" fill-rule=\"nonzero\" fill-opacity=\"1\" /><path clip-path=\"url(#clip570)\" d=\"M1757.16 1514.29 L1775.52 1514.29 L1775.52 1518.22 L1761.45 1518.22 L1761.45 1526.7 Q1762.46 1526.35 1763.48 1526.19 Q1764.5 1526 1765.52 1526 Q1771.31 1526 1774.69 1529.17 Q1778.07 1532.34 1778.07 1537.76 Q1778.07 1543.34 1774.59 1546.44 Q1771.12 1549.52 1764.8 1549.52 Q1762.63 1549.52 1760.36 1549.15 Q1758.11 1548.78 1755.71 1548.04 L1755.71 1543.34 Q1757.79 1544.47 1760.01 1545.03 Q1762.23 1545.58 1764.71 1545.58 Q1768.71 1545.58 1771.05 1543.48 Q1773.39 1541.37 1773.39 1537.76 Q1773.39 1534.15 1771.05 1532.04 Q1768.71 1529.94 1764.71 1529.94 Q1762.83 1529.94 1760.96 1530.35 Q1759.11 1530.77 1757.16 1531.65 L1757.16 1514.29 Z\" fill=\"#000000\" fill-rule=\"nonzero\" fill-opacity=\"1\" /><path clip-path=\"url(#clip570)\" d=\"M2229.49 1544.91 L2237.13 1544.91 L2237.13 1518.55 L2228.82 1520.21 L2228.82 1515.95 L2237.08 1514.29 L2241.76 1514.29 L2241.76 1544.91 L2249.4 1544.91 L2249.4 1548.85 L2229.49 1548.85 L2229.49 1544.91 Z\" fill=\"#000000\" fill-rule=\"nonzero\" fill-opacity=\"1\" /><path clip-path=\"url(#clip570)\" d=\"M2268.84 1517.37 Q2265.23 1517.37 2263.4 1520.93 Q2261.6 1524.47 2261.6 1531.6 Q2261.6 1538.71 2263.4 1542.27 Q2265.23 1545.82 2268.84 1545.82 Q2272.47 1545.82 2274.28 1542.27 Q2276.11 1538.71 2276.11 1531.6 Q2276.11 1524.47 2274.28 1520.93 Q2272.47 1517.37 2268.84 1517.37 M2268.84 1513.66 Q2274.65 1513.66 2277.71 1518.27 Q2280.78 1522.85 2280.78 1531.6 Q2280.78 1540.33 2277.71 1544.94 Q2274.65 1549.52 2268.84 1549.52 Q2263.03 1549.52 2259.95 1544.94 Q2256.9 1540.33 2256.9 1531.6 Q2256.9 1522.85 2259.95 1518.27 Q2263.03 1513.66 2268.84 1513.66 Z\" fill=\"#000000\" fill-rule=\"nonzero\" fill-opacity=\"1\" /><path clip-path=\"url(#clip570)\" d=\"M2299 1517.37 Q2295.39 1517.37 2293.56 1520.93 Q2291.76 1524.47 2291.76 1531.6 Q2291.76 1538.71 2293.56 1542.27 Q2295.39 1545.82 2299 1545.82 Q2302.64 1545.82 2304.44 1542.27 Q2306.27 1538.71 2306.27 1531.6 Q2306.27 1524.47 2304.44 1520.93 Q2302.64 1517.37 2299 1517.37 M2299 1513.66 Q2304.81 1513.66 2307.87 1518.27 Q2310.95 1522.85 2310.95 1531.6 Q2310.95 1540.33 2307.87 1544.94 Q2304.81 1549.52 2299 1549.52 Q2293.19 1549.52 2290.11 1544.94 Q2287.06 1540.33 2287.06 1531.6 Q2287.06 1522.85 2290.11 1518.27 Q2293.19 1513.66 2299 1513.66 Z\" fill=\"#000000\" fill-rule=\"nonzero\" fill-opacity=\"1\" /><polyline clip-path=\"url(#clip572)\" style=\"stroke:#000000; stroke-linecap:round; stroke-linejoin:round; stroke-width:2; stroke-opacity:0.1; fill:none\" points=\"156.598,1445.72 2352.76,1445.72 \"/>\n",
       "<polyline clip-path=\"url(#clip572)\" style=\"stroke:#000000; stroke-linecap:round; stroke-linejoin:round; stroke-width:2; stroke-opacity:0.1; fill:none\" points=\"156.598,1171.42 2352.76,1171.42 \"/>\n",
       "<polyline clip-path=\"url(#clip572)\" style=\"stroke:#000000; stroke-linecap:round; stroke-linejoin:round; stroke-width:2; stroke-opacity:0.1; fill:none\" points=\"156.598,897.134 2352.76,897.134 \"/>\n",
       "<polyline clip-path=\"url(#clip572)\" style=\"stroke:#000000; stroke-linecap:round; stroke-linejoin:round; stroke-width:2; stroke-opacity:0.1; fill:none\" points=\"156.598,622.843 2352.76,622.843 \"/>\n",
       "<polyline clip-path=\"url(#clip572)\" style=\"stroke:#000000; stroke-linecap:round; stroke-linejoin:round; stroke-width:2; stroke-opacity:0.1; fill:none\" points=\"156.598,348.553 2352.76,348.553 \"/>\n",
       "<polyline clip-path=\"url(#clip572)\" style=\"stroke:#000000; stroke-linecap:round; stroke-linejoin:round; stroke-width:2; stroke-opacity:0.1; fill:none\" points=\"156.598,74.2617 2352.76,74.2617 \"/>\n",
       "<polyline clip-path=\"url(#clip570)\" style=\"stroke:#000000; stroke-linecap:round; stroke-linejoin:round; stroke-width:4; stroke-opacity:1; fill:none\" points=\"156.598,1486.45 156.598,47.2441 \"/>\n",
       "<polyline clip-path=\"url(#clip570)\" style=\"stroke:#000000; stroke-linecap:round; stroke-linejoin:round; stroke-width:4; stroke-opacity:1; fill:none\" points=\"156.598,1445.72 175.496,1445.72 \"/>\n",
       "<polyline clip-path=\"url(#clip570)\" style=\"stroke:#000000; stroke-linecap:round; stroke-linejoin:round; stroke-width:4; stroke-opacity:1; fill:none\" points=\"156.598,1171.42 175.496,1171.42 \"/>\n",
       "<polyline clip-path=\"url(#clip570)\" style=\"stroke:#000000; stroke-linecap:round; stroke-linejoin:round; stroke-width:4; stroke-opacity:1; fill:none\" points=\"156.598,897.134 175.496,897.134 \"/>\n",
       "<polyline clip-path=\"url(#clip570)\" style=\"stroke:#000000; stroke-linecap:round; stroke-linejoin:round; stroke-width:4; stroke-opacity:1; fill:none\" points=\"156.598,622.843 175.496,622.843 \"/>\n",
       "<polyline clip-path=\"url(#clip570)\" style=\"stroke:#000000; stroke-linecap:round; stroke-linejoin:round; stroke-width:4; stroke-opacity:1; fill:none\" points=\"156.598,348.553 175.496,348.553 \"/>\n",
       "<polyline clip-path=\"url(#clip570)\" style=\"stroke:#000000; stroke-linecap:round; stroke-linejoin:round; stroke-width:4; stroke-opacity:1; fill:none\" points=\"156.598,74.2617 175.496,74.2617 \"/>\n",
       "<path clip-path=\"url(#clip570)\" d=\"M63.4226 1431.51 Q59.8115 1431.51 57.9828 1435.08 Q56.1773 1438.62 56.1773 1445.75 Q56.1773 1452.86 57.9828 1456.42 Q59.8115 1459.96 63.4226 1459.96 Q67.0569 1459.96 68.8624 1456.42 Q70.6911 1452.86 70.6911 1445.75 Q70.6911 1438.62 68.8624 1435.08 Q67.0569 1431.51 63.4226 1431.51 M63.4226 1427.81 Q69.2328 1427.81 72.2883 1432.42 Q75.367 1437 75.367 1445.75 Q75.367 1454.48 72.2883 1459.08 Q69.2328 1463.67 63.4226 1463.67 Q57.6125 1463.67 54.5338 1459.08 Q51.4782 1454.48 51.4782 1445.75 Q51.4782 1437 54.5338 1432.42 Q57.6125 1427.81 63.4226 1427.81 Z\" fill=\"#000000\" fill-rule=\"nonzero\" fill-opacity=\"1\" /><path clip-path=\"url(#clip570)\" d=\"M83.5845 1457.12 L88.4688 1457.12 L88.4688 1463 L83.5845 1463 L83.5845 1457.12 Z\" fill=\"#000000\" fill-rule=\"nonzero\" fill-opacity=\"1\" /><path clip-path=\"url(#clip570)\" d=\"M108.654 1431.51 Q105.043 1431.51 103.214 1435.08 Q101.409 1438.62 101.409 1445.75 Q101.409 1452.86 103.214 1456.42 Q105.043 1459.96 108.654 1459.96 Q112.288 1459.96 114.094 1456.42 Q115.922 1452.86 115.922 1445.75 Q115.922 1438.62 114.094 1435.08 Q112.288 1431.51 108.654 1431.51 M108.654 1427.81 Q114.464 1427.81 117.52 1432.42 Q120.598 1437 120.598 1445.75 Q120.598 1454.48 117.52 1459.08 Q114.464 1463.67 108.654 1463.67 Q102.844 1463.67 99.765 1459.08 Q96.7095 1454.48 96.7095 1445.75 Q96.7095 1437 99.765 1432.42 Q102.844 1427.81 108.654 1427.81 Z\" fill=\"#000000\" fill-rule=\"nonzero\" fill-opacity=\"1\" /><path clip-path=\"url(#clip570)\" d=\"M64.6495 1157.22 Q61.0384 1157.22 59.2097 1160.79 Q57.4041 1164.33 57.4041 1171.46 Q57.4041 1178.57 59.2097 1182.13 Q61.0384 1185.67 64.6495 1185.67 Q68.2837 1185.67 70.0892 1182.13 Q71.9179 1178.57 71.9179 1171.46 Q71.9179 1164.33 70.0892 1160.79 Q68.2837 1157.22 64.6495 1157.22 M64.6495 1153.52 Q70.4596 1153.52 73.5152 1158.13 Q76.5938 1162.71 76.5938 1171.46 Q76.5938 1180.19 73.5152 1184.79 Q70.4596 1189.38 64.6495 1189.38 Q58.8393 1189.38 55.7606 1184.79 Q52.7051 1180.19 52.7051 1171.46 Q52.7051 1162.71 55.7606 1158.13 Q58.8393 1153.52 64.6495 1153.52 Z\" fill=\"#000000\" fill-rule=\"nonzero\" fill-opacity=\"1\" /><path clip-path=\"url(#clip570)\" d=\"M84.8114 1182.83 L89.6956 1182.83 L89.6956 1188.7 L84.8114 1188.7 L84.8114 1182.83 Z\" fill=\"#000000\" fill-rule=\"nonzero\" fill-opacity=\"1\" /><path clip-path=\"url(#clip570)\" d=\"M100.691 1184.77 L108.33 1184.77 L108.33 1158.4 L100.02 1160.07 L100.02 1155.81 L108.283 1154.14 L112.959 1154.14 L112.959 1184.77 L120.598 1184.77 L120.598 1188.7 L100.691 1188.7 L100.691 1184.77 Z\" fill=\"#000000\" fill-rule=\"nonzero\" fill-opacity=\"1\" /><path clip-path=\"url(#clip570)\" d=\"M65.0198 882.933 Q61.4087 882.933 59.58 886.498 Q57.7745 890.039 57.7745 897.169 Q57.7745 904.275 59.58 907.84 Q61.4087 911.382 65.0198 911.382 Q68.6541 911.382 70.4596 907.84 Q72.2883 904.275 72.2883 897.169 Q72.2883 890.039 70.4596 886.498 Q68.6541 882.933 65.0198 882.933 M65.0198 879.229 Q70.83 879.229 73.8855 883.836 Q76.9642 888.419 76.9642 897.169 Q76.9642 905.896 73.8855 910.502 Q70.83 915.085 65.0198 915.085 Q59.2097 915.085 56.131 910.502 Q53.0754 905.896 53.0754 897.169 Q53.0754 888.419 56.131 883.836 Q59.2097 879.229 65.0198 879.229 Z\" fill=\"#000000\" fill-rule=\"nonzero\" fill-opacity=\"1\" /><path clip-path=\"url(#clip570)\" d=\"M85.1818 908.535 L90.066 908.535 L90.066 914.414 L85.1818 914.414 L85.1818 908.535 Z\" fill=\"#000000\" fill-rule=\"nonzero\" fill-opacity=\"1\" /><path clip-path=\"url(#clip570)\" d=\"M104.279 910.479 L120.598 910.479 L120.598 914.414 L98.6539 914.414 L98.6539 910.479 Q101.316 907.724 105.899 903.095 Q110.506 898.442 111.686 897.099 Q113.932 894.576 114.811 892.84 Q115.714 891.081 115.714 889.391 Q115.714 886.636 113.77 884.9 Q111.848 883.164 108.746 883.164 Q106.547 883.164 104.094 883.928 Q101.663 884.692 98.8854 886.243 L98.8854 881.521 Q101.709 880.387 104.163 879.808 Q106.617 879.229 108.654 879.229 Q114.024 879.229 117.219 881.914 Q120.413 884.599 120.413 889.09 Q120.413 891.22 119.603 893.141 Q118.816 895.039 116.709 897.632 Q116.131 898.303 113.029 901.521 Q109.927 904.715 104.279 910.479 Z\" fill=\"#000000\" fill-rule=\"nonzero\" fill-opacity=\"1\" /><path clip-path=\"url(#clip570)\" d=\"M64.0708 608.642 Q60.4597 608.642 58.631 612.207 Q56.8254 615.748 56.8254 622.878 Q56.8254 629.984 58.631 633.549 Q60.4597 637.091 64.0708 637.091 Q67.705 637.091 69.5105 633.549 Q71.3392 629.984 71.3392 622.878 Q71.3392 615.748 69.5105 612.207 Q67.705 608.642 64.0708 608.642 M64.0708 604.938 Q69.8809 604.938 72.9365 609.545 Q76.0151 614.128 76.0151 622.878 Q76.0151 631.605 72.9365 636.211 Q69.8809 640.795 64.0708 640.795 Q58.2606 640.795 55.1819 636.211 Q52.1264 631.605 52.1264 622.878 Q52.1264 614.128 55.1819 609.545 Q58.2606 604.938 64.0708 604.938 Z\" fill=\"#000000\" fill-rule=\"nonzero\" fill-opacity=\"1\" /><path clip-path=\"url(#clip570)\" d=\"M84.2327 634.244 L89.1169 634.244 L89.1169 640.123 L84.2327 640.123 L84.2327 634.244 Z\" fill=\"#000000\" fill-rule=\"nonzero\" fill-opacity=\"1\" /><path clip-path=\"url(#clip570)\" d=\"M113.469 621.489 Q116.825 622.207 118.7 624.475 Q120.598 626.744 120.598 630.077 Q120.598 635.193 117.08 637.994 Q113.561 640.795 107.08 640.795 Q104.904 640.795 102.589 640.355 Q100.297 639.938 97.8437 639.082 L97.8437 634.568 Q99.7882 635.702 102.103 636.281 Q104.418 636.859 106.941 636.859 Q111.339 636.859 113.631 635.123 Q115.945 633.387 115.945 630.077 Q115.945 627.022 113.793 625.309 Q111.663 623.572 107.844 623.572 L103.816 623.572 L103.816 619.73 L108.029 619.73 Q111.478 619.73 113.307 618.364 Q115.135 616.975 115.135 614.383 Q115.135 611.721 113.237 610.309 Q111.362 608.873 107.844 608.873 Q105.922 608.873 103.723 609.29 Q101.524 609.707 98.8854 610.586 L98.8854 606.42 Q101.547 605.679 103.862 605.309 Q106.2 604.938 108.26 604.938 Q113.584 604.938 116.686 607.369 Q119.788 609.776 119.788 613.897 Q119.788 616.767 118.145 618.758 Q116.501 620.725 113.469 621.489 Z\" fill=\"#000000\" fill-rule=\"nonzero\" fill-opacity=\"1\" /><path clip-path=\"url(#clip570)\" d=\"M62.9365 334.351 Q59.3254 334.351 57.4967 337.916 Q55.6912 341.458 55.6912 348.587 Q55.6912 355.694 57.4967 359.258 Q59.3254 362.8 62.9365 362.8 Q66.5707 362.8 68.3763 359.258 Q70.205 355.694 70.205 348.587 Q70.205 341.458 68.3763 337.916 Q66.5707 334.351 62.9365 334.351 M62.9365 330.648 Q68.7467 330.648 71.8022 335.254 Q74.8809 339.837 74.8809 348.587 Q74.8809 357.314 71.8022 361.921 Q68.7467 366.504 62.9365 366.504 Q57.1264 366.504 54.0477 361.921 Q50.9921 357.314 50.9921 348.587 Q50.9921 339.837 54.0477 335.254 Q57.1264 330.648 62.9365 330.648 Z\" fill=\"#000000\" fill-rule=\"nonzero\" fill-opacity=\"1\" /><path clip-path=\"url(#clip570)\" d=\"M83.0984 359.953 L87.9827 359.953 L87.9827 365.833 L83.0984 365.833 L83.0984 359.953 Z\" fill=\"#000000\" fill-rule=\"nonzero\" fill-opacity=\"1\" /><path clip-path=\"url(#clip570)\" d=\"M111.015 335.347 L99.2095 353.796 L111.015 353.796 L111.015 335.347 M109.788 331.273 L115.668 331.273 L115.668 353.796 L120.598 353.796 L120.598 357.684 L115.668 357.684 L115.668 365.833 L111.015 365.833 L111.015 357.684 L95.4132 357.684 L95.4132 353.171 L109.788 331.273 Z\" fill=\"#000000\" fill-rule=\"nonzero\" fill-opacity=\"1\" /><path clip-path=\"url(#clip570)\" d=\"M64.418 60.0604 Q60.8069 60.0604 58.9782 63.6252 Q57.1726 67.1669 57.1726 74.2965 Q57.1726 81.4029 58.9782 84.9677 Q60.8069 88.5093 64.418 88.5093 Q68.0522 88.5093 69.8578 84.9677 Q71.6865 81.4029 71.6865 74.2965 Q71.6865 67.1669 69.8578 63.6252 Q68.0522 60.0604 64.418 60.0604 M64.418 56.3567 Q70.2281 56.3567 73.2837 60.9632 Q76.3624 65.5465 76.3624 74.2965 Q76.3624 83.0233 73.2837 87.6297 Q70.2281 92.213 64.418 92.213 Q58.6078 92.213 55.5291 87.6297 Q52.4736 83.0233 52.4736 74.2965 Q52.4736 65.5465 55.5291 60.9632 Q58.6078 56.3567 64.418 56.3567 Z\" fill=\"#000000\" fill-rule=\"nonzero\" fill-opacity=\"1\" /><path clip-path=\"url(#clip570)\" d=\"M84.5799 85.6621 L89.4641 85.6621 L89.4641 91.5417 L84.5799 91.5417 L84.5799 85.6621 Z\" fill=\"#000000\" fill-rule=\"nonzero\" fill-opacity=\"1\" /><path clip-path=\"url(#clip570)\" d=\"M99.6956 56.9817 L118.052 56.9817 L118.052 60.9169 L103.978 60.9169 L103.978 69.3891 Q104.996 69.0419 106.015 68.8798 Q107.033 68.6946 108.052 68.6946 Q113.839 68.6946 117.219 71.8659 Q120.598 75.0372 120.598 80.4538 Q120.598 86.0325 117.126 89.1343 Q113.654 92.213 107.334 92.213 Q105.159 92.213 102.89 91.8427 Q100.645 91.4723 98.2372 90.7316 L98.2372 86.0325 Q100.321 87.1668 102.543 87.7223 Q104.765 88.2779 107.242 88.2779 Q111.246 88.2779 113.584 86.1714 Q115.922 84.0649 115.922 80.4538 Q115.922 76.8427 113.584 74.7363 Q111.246 72.6298 107.242 72.6298 Q105.367 72.6298 103.492 73.0465 Q101.64 73.4631 99.6956 74.3428 L99.6956 56.9817 Z\" fill=\"#000000\" fill-rule=\"nonzero\" fill-opacity=\"1\" /><polyline clip-path=\"url(#clip572)\" style=\"stroke:#009af9; stroke-linecap:round; stroke-linejoin:round; stroke-width:4; stroke-opacity:1; fill:none\" points=\"218.754,1445.72 239.472,1418.56 260.191,1391.68 280.909,1365.07 301.628,1338.74 322.346,1312.68 343.064,1286.9 363.783,1261.39 384.501,1236.16 405.22,1211.2 425.938,1186.51 446.657,1162.1 467.375,1137.96 488.094,1114.1 508.812,1090.51 529.531,1067.19 550.249,1044.15 570.968,1021.39 591.686,998.896 612.405,976.678 633.123,954.735 653.841,933.066 674.56,911.672 695.278,890.551 715.997,869.705 736.715,849.133 757.434,828.836 778.152,808.812 798.871,789.064 819.589,769.589 840.308,750.389 861.026,731.462 881.745,712.811 902.463,694.433 923.182,676.33 943.9,658.501 964.619,640.947 985.337,623.666 1006.06,606.66 1026.77,589.928 1047.49,573.471 1068.21,557.288 1088.93,541.379 1109.65,525.744 1130.37,510.384 1151.08,495.298 1171.8,480.486 1192.52,465.949 1213.24,451.686 1233.96,437.697 1254.68,423.982 1275.4,410.542 1296.11,397.376 1316.83,384.485 1337.55,371.867 1358.27,359.524 1378.99,347.455 1399.71,335.661 1420.42,324.141 1441.14,312.895 1461.86,301.923 1482.58,291.226 1503.3,280.803 1524.02,270.654 1544.74,260.779 1565.45,251.179 1586.17,241.853 1606.89,232.802 1627.61,224.025 1648.33,215.521 1669.05,207.293 1689.76,199.338 1710.48,191.658 1731.2,184.252 1751.92,177.121 1772.64,170.264 1793.36,163.681 1814.08,157.372 1834.79,151.337 1855.51,145.577 1876.23,140.092 1896.95,134.88 1917.67,129.943 1938.39,125.28 1959.11,120.891 1979.82,116.777 2000.54,112.937 2021.26,109.371 2041.98,106.079 2062.7,103.062 2083.42,100.319 2104.13,97.8507 2124.85,95.6564 2145.57,93.7364 2166.29,92.0906 2187.01,90.7192 2207.73,89.622 2228.45,88.7991 2249.16,88.2506 2269.88,87.9763 2290.6,87.9763 \"/>\n",
       "<path clip-path=\"url(#clip570)\" d=\"M229.803 198.898 L501.85 198.898 L501.85 95.2176 L229.803 95.2176  Z\" fill=\"#ffffff\" fill-rule=\"evenodd\" fill-opacity=\"1\"/>\n",
       "<polyline clip-path=\"url(#clip570)\" style=\"stroke:#000000; stroke-linecap:round; stroke-linejoin:round; stroke-width:4; stroke-opacity:1; fill:none\" points=\"229.803,198.898 501.85,198.898 501.85,95.2176 229.803,95.2176 229.803,198.898 \"/>\n",
       "<polyline clip-path=\"url(#clip570)\" style=\"stroke:#009af9; stroke-linecap:round; stroke-linejoin:round; stroke-width:4; stroke-opacity:1; fill:none\" points=\"254.205,147.058 400.616,147.058 \"/>\n",
       "<path clip-path=\"url(#clip570)\" d=\"M438.86 166.745 Q437.054 171.375 435.342 172.787 Q433.629 174.199 430.758 174.199 L427.355 174.199 L427.355 170.634 L429.855 170.634 Q431.615 170.634 432.587 169.8 Q433.559 168.967 434.74 165.865 L435.504 163.921 L425.018 138.412 L429.531 138.412 L437.633 158.689 L445.735 138.412 L450.249 138.412 L438.86 166.745 Z\" fill=\"#000000\" fill-rule=\"nonzero\" fill-opacity=\"1\" /><path clip-path=\"url(#clip570)\" d=\"M457.54 160.402 L465.179 160.402 L465.179 134.037 L456.869 135.703 L456.869 131.444 L465.133 129.778 L469.809 129.778 L469.809 160.402 L477.448 160.402 L477.448 164.338 L457.54 164.338 L457.54 160.402 Z\" fill=\"#000000\" fill-rule=\"nonzero\" fill-opacity=\"1\" /></svg>\n"
      ]
     },
     "metadata": {},
     "output_type": "display_data"
    }
   ],
   "source": [
    "mesh = genMesh(100)\n",
    "c(x) = 1\n",
    "S = genStiffMat(mesh,c)\n",
    "M = genMassMat(mesh)\n",
    "fsource(x) = 1\n",
    "f = genVector(mesh,fsource)\n",
    "\n",
    "\n",
    "print(S)\n",
    "#u = (S + M) \\ f\n",
    "u = S \\ f\n",
    "plot(u)"
   ]
  },
  {
   "cell_type": "code",
   "execution_count": 9,
   "metadata": {},
   "outputs": [
    {
     "data": {
      "text/plain": [
       "101-element Vector{Float64}:\n",
       " 0.0\n",
       " 0.007533616442719018\n",
       " 0.014967986247082312\n",
       " 0.022303852850070315\n",
       " 0.029541949838343323\n",
       " 0.036683001021600166\n",
       " 0.043727720504959176\n",
       " 0.05067681276036869\n",
       " 0.057530972697054254\n",
       " 0.06429088573100951\n",
       " ⋮\n",
       " 0.3464491146427069\n",
       " 0.3468883291912971\n",
       " 0.3472622325728064\n",
       " 0.347570862177573\n",
       " 0.34781424886855733\n",
       " 0.3479924169844284\n",
       " 0.348105384341998\n",
       " 0.34815316223800175\n",
       " 0.34813575545022923"
      ]
     },
     "metadata": {},
     "output_type": "display_data"
    },
    {
     "data": {
      "text/plain": [
       "101-element Vector{Float64}:\n",
       " 0.0\n",
       " 0.007533616442718468\n",
       " 0.014967986247081207\n",
       " 0.02230385285006865\n",
       " 0.0295419498383411\n",
       " 0.036683001021597376\n",
       " 0.04372772050495582\n",
       " 0.05067681276036476\n",
       " 0.05753097269704972\n",
       " 0.06429088573100439\n",
       " ⋮\n",
       " 0.34644911464268197\n",
       " 0.34688832919127227\n",
       " 0.3472622325727816\n",
       " 0.34757086217754823\n",
       " 0.34781424886853257\n",
       " 0.34799241698440375\n",
       " 0.3481053843419733\n",
       " 0.3481531622379771\n",
       " 0.3481357554502046"
      ]
     },
     "metadata": {},
     "output_type": "display_data"
    }
   ],
   "source": [
    "A = S + M\n",
    "\n",
    "preconditioner = ilu(A)\n",
    "x = cg(A, f, Pl=preconditioner)\n",
    "display(x)\n",
    "\n",
    "y=A\\f;\n",
    "display(y)"
   ]
  }
 ],
 "metadata": {
  "kernelspec": {
   "display_name": "Julia 1.9.3",
   "language": "julia",
   "name": "julia-1.9"
  },
  "language_info": {
   "file_extension": ".jl",
   "mimetype": "application/julia",
   "name": "julia",
   "version": "1.9.3"
  }
 },
 "nbformat": 4,
 "nbformat_minor": 2
}
