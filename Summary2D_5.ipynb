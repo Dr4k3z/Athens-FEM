{
 "cells": [
  {
   "cell_type": "markdown",
   "metadata": {},
   "source": [
    "# Implementation of solving algorithm"
   ]
  },
  {
   "cell_type": "markdown",
   "metadata": {},
   "source": [
    "## Section 2: 2-D Case"
   ]
  },
  {
   "cell_type": "markdown",
   "metadata": {},
   "source": [
    "TODO"
   ]
  },
  {
   "cell_type": "code",
   "execution_count": 1,
   "metadata": {},
   "outputs": [
    {
     "ename": "ArgumentError",
     "evalue": "ArgumentError: Package AlgebraicMultigrid not found in current path.\n- Run `import Pkg; Pkg.add(\"AlgebraicMultigrid\")` to install the AlgebraicMultigrid package.",
     "output_type": "error",
     "traceback": [
      "ArgumentError: Package AlgebraicMultigrid not found in current path.\n",
      "- Run `import Pkg; Pkg.add(\"AlgebraicMultigrid\")` to install the AlgebraicMultigrid package.\n",
      "\n",
      "Stacktrace:\n",
      "  [1] macro expansion\n",
      "    @ .\\loading.jl:1630 [inlined]\n",
      "  [2] macro expansion\n",
      "    @ .\\lock.jl:267 [inlined]\n",
      "  [3] require(into::Module, mod::Symbol)\n",
      "    @ Base .\\loading.jl:1611\n",
      "  [4] eval\n",
      "    @ .\\boot.jl:370 [inlined]\n",
      "  [5] include_string(mapexpr::typeof(REPL.softscope), mod::Module, code::String, filename::String)\n",
      "    @ Base .\\loading.jl:1903\n",
      "  [6] #invokelatest#2\n",
      "    @ .\\essentials.jl:819 [inlined]\n",
      "  [7] invokelatest\n",
      "    @ .\\essentials.jl:816 [inlined]\n",
      "  [8] (::VSCodeServer.var\"#202#203\"{VSCodeServer.NotebookRunCellArguments, String})()\n",
      "    @ VSCodeServer c:\\Users\\Piotr\\.vscode\\extensions\\julialang.language-julia-1.60.2\\scripts\\packages\\VSCodeServer\\src\\serve_notebook.jl:19\n",
      "  [9] withpath(f::VSCodeServer.var\"#202#203\"{VSCodeServer.NotebookRunCellArguments, String}, path::String)\n",
      "    @ VSCodeServer c:\\Users\\Piotr\\.vscode\\extensions\\julialang.language-julia-1.60.2\\scripts\\packages\\VSCodeServer\\src\\repl.jl:274\n",
      " [10] notebook_runcell_request(conn::VSCodeServer.JSONRPC.JSONRPCEndpoint{Base.PipeEndpoint, Base.PipeEndpoint}, params::VSCodeServer.NotebookRunCellArguments)\n",
      "    @ VSCodeServer c:\\Users\\Piotr\\.vscode\\extensions\\julialang.language-julia-1.60.2\\scripts\\packages\\VSCodeServer\\src\\serve_notebook.jl:13\n",
      " [11] dispatch_msg(x::VSCodeServer.JSONRPC.JSONRPCEndpoint{Base.PipeEndpoint, Base.PipeEndpoint}, dispatcher::VSCodeServer.JSONRPC.MsgDispatcher, msg::Dict{String, Any})\n",
      "    @ VSCodeServer.JSONRPC c:\\Users\\Piotr\\.vscode\\extensions\\julialang.language-julia-1.60.2\\scripts\\packages\\JSONRPC\\src\\typed.jl:67\n",
      " [12] serve_notebook(pipename::String, outputchannel_logger::Base.CoreLogging.SimpleLogger; crashreporting_pipename::String)\n",
      "    @ VSCodeServer c:\\Users\\Piotr\\.vscode\\extensions\\julialang.language-julia-1.60.2\\scripts\\packages\\VSCodeServer\\src\\serve_notebook.jl:139\n",
      " [13] top-level scope\n",
      "    @ c:\\Users\\Piotr\\.vscode\\extensions\\julialang.language-julia-1.60.2\\scripts\\notebook\\notebook.jl:32"
     ]
    }
   ],
   "source": [
    "include(\"group4-2D.jl\")\n",
    "using LinearAlgebra\n",
    "using SparseArrays \n",
    "using StructArrays\n",
    "using StaticArrays\n",
    "using SparseArrays \n",
    "using StructArrays\n",
    "using StaticArrays\n",
    "using StaticRanges\n",
    "using FastGaussQuadrature\n",
    "using IterativeSolvers\n",
    "using Preconditioners\n",
    "using LinearSolve\n",
    "using BenchmarkTools\n",
    "using Profile\n",
    "using ProfileView\n",
    "using IncompleteLU\n",
    "using Plots \n",
    "using FastGaussQuadrature\n",
    "using IterativeSolvers\n",
    "using Preconditioners\n",
    "using LinearSolve\n",
    "using Benchm\n",
    "using Profile\n",
    "using ProfileView\n",
    "using IncompleteLU\n",
    "using Plots \n",
    "using AlgebraicMultigrid: ruge_stuben,smoothed_aggregation, asprec"
   ]
  },
  {
   "cell_type": "code",
   "execution_count": 2,
   "metadata": {},
   "outputs": [],
   "source": [
    "# function mesh_maker(n)\n",
    "#     if dim == 1\n",
    "#         mesh = meshFromGmsh(\"square-1.msh\");\n",
    "#     elseif dim == 2\n",
    "#         mesh = meshFromGmsh(\"square-10.msh\");\n",
    "#     elseif dim == 3\n",
    "#         mesh = meshFromGmsh(\"square-100.msh\");\n",
    "#     else\n",
    "#         throw(DomainError(dim, \"this value is not 1,10,100\"))\n",
    "#     end\n",
    "\n",
    "#     return mesh\n",
    "# end"
   ]
  },
  {
   "cell_type": "code",
   "execution_count": 3,
   "metadata": {},
   "outputs": [],
   "source": [
    "# function assembly(mesh)\n",
    "\n",
    "#     returning_struct = []\n",
    "\n",
    "#     A = genStiffMat(mesh);\n",
    "#     f = genVector(mesh, mySourceFct);\n",
    "#     A, f = handleBoundary!(mesh, A, f);\n",
    "\n",
    "#     push!(returning_struct, A);\n",
    "#     push!(returning_struct,f);\n",
    "#     return returning_struct;\n",
    "# end"
   ]
  },
  {
   "cell_type": "markdown",
   "metadata": {},
   "source": [
    "### 1.1 Algorithm comparation"
   ]
  },
  {
   "cell_type": "markdown",
   "metadata": {},
   "source": [
    "In this section we compare the time spent by different solving algorithm. For the one dimension problem we have chosen to analyze the classical \"\\\\\" operator, with and without using the LU decomposition, and two different iterative solvers: $pcg$ : preconditioned conjugate gradient method using the $ILU$ preconditioner and the $MINRES$ method. <br> The conjugate gradient method starts with a guess for the u vector and stops whetever the $residual: r=\\|\\mathbf{Au-b}\\|$ is as near as we initially wanted to be to $0$. <br> The $MINRES  method$  uses the same idea but it doesn't assume that the matrix is positive definite. "
   ]
  },
  {
   "cell_type": "code",
   "execution_count": 4,
   "metadata": {},
   "outputs": [
    {
     "data": {
      "text/plain": [
       "solve_and_write_time (generic function with 1 method)"
      ]
     },
     "metadata": {},
     "output_type": "display_data"
    }
   ],
   "source": [
    "function solve_and_write_time(n)\n",
    "    \n",
    "    ret = zeros(8);\n",
    "    \n",
    "    #Measure the time of assembly\n",
    "    LP=buildMatandVec(1/n)\n",
    "    ret[1]= LP[3]\n",
    "\n",
    "    A = LP[1]\n",
    "    f = LP[2]\n",
    "\n",
    "    #Measure the time to solve the linear system with the cg method\n",
    "    elapsed_time_solving = @elapsed begin\n",
    "        preconditioner = ilu(A)\n",
    "        x = cg(A, f, Pl=preconditioner,abstol=1e-7)\n",
    "    end\n",
    "    ret[2] = elapsed_time_solving\n",
    "\n",
    "    #Measure the time to solve the linear system with the AMG algorithm - smoothed_aggregation\n",
    "    elpased_time_AMGsa= @elapsed begin\n",
    "        ml_sa = smoothed_aggregation(A)\n",
    "        p_sa = aspreconditioner(ml_sa)\n",
    "    \n",
    "        x = cg(A, f, Pl = p_sa,abstol=1e-7)\n",
    "    end\n",
    "    ret[5]= elpased_time_AMGsa \n",
    "\n",
    "    #Measure the time to solve the linear system with the AMG algorithm - ruge_stuben\n",
    "    elpased_time_AMGrs= @elapsed begin\n",
    "        ml_rs = ruge_stuben(A)\n",
    "        p_rs = aspreconditioner(ml_rs)\n",
    "        x = cg(A, f, Pl = p_rs,abstol=1e-7)\n",
    "    \n",
    "    end\n",
    "    ret[6]= elpased_time_AMGrs\n",
    "    \n",
    "\n",
    "    #Measure the time to solve the linear system with the LU decomposition and \\ operator\n",
    "    elapsed_time_LU = @elapsed begin\n",
    "        luMat = lu(m)\n",
    "        x = luMat\\f\n",
    "    end\n",
    "    ret[8]=elapsed_time_LU\n",
    "\n",
    "    ret[4] = size(f)[1]\n",
    "\n",
    "    return ret\n",
    "end\n"
   ]
  },
  {
   "cell_type": "markdown",
   "metadata": {},
   "source": [
    "Now we need to call the function to see how the time changes with the increasing of the dimension of the problem for each algorithm, so we make a loop in which we iterate the dimension and in each iteration we calculate the time to solve the linear problem"
   ]
  },
  {
   "cell_type": "code",
   "execution_count": 5,
   "metadata": {},
   "outputs": [
    {
     "name": "stdout",
     "output_type": "stream",
     "text": [
      "Info    : Meshing 1D...\n",
      "Info    : [  0%] Meshing curve 1 (Line)\n",
      "Info    : [ 30%] Meshing curve 2 (Line)\n",
      "Info    : [ 50%] Meshing curve 3 (Line)\n",
      "Info    : [ 80%] Meshing curve 4 (Line)\n",
      "Info    : Done meshing 1D (Wall 0s, CPU 0s)\n",
      "Info    : Meshing 2D...\n",
      "Info    : Meshing surface 1 (Plane, Frontal-Delaunay)\n",
      "Info    : Done meshing 2D (Wall 0.488692s, CPU 0.25s)\n",
      "Info    : 3013 nodes 6028 elements\n",
      "Info    : Writing 'square.msh'...\n",
      "Info    : Done writing 'square.msh'\n",
      "Info    : Reading 'square.msh'...\n",
      "Info    : 9 entities\n",
      "Info    : 3013 nodes\n",
      "Info    : 6028 elements\n",
      "Info    : Done reading 'square.msh'\n",
      "  0.003465 seconds (17.50 k allocations: 3.718 MiB)\n"
     ]
    },
    {
     "name": "stdout",
     "output_type": "stream",
     "text": [
      "  0.001739 seconds (11.67 k allocations: 1.671 MiB)\n"
     ]
    },
    {
     "name": "stdout",
     "output_type": "stream",
     "text": [
      "  0.001456 seconds (23.30 k allocations: 1.800 MiB)\n",
      "Info    : Reading 'square.msh'...\n",
      "Info    : 9 entities\n",
      "Info    : 3013 nodes\n",
      "Info    : 6028 elements\n",
      "Info    : Done reading 'square.msh'\n"
     ]
    },
    {
     "ename": "UndefVarError",
     "evalue": "UndefVarError: `ilu` not defined",
     "output_type": "error",
     "traceback": [
      "UndefVarError: `ilu` not defined\n",
      "\n",
      "Stacktrace:\n",
      " [1] macro expansion\n",
      "   @ c:\\Users\\Piotr\\Downloads\\Athens\\Athens-FEM\\Summary2D_5.ipynb:14 [inlined]\n",
      " [2] macro expansion\n",
      "   @ .\\timing.jl:393 [inlined]\n",
      " [3] solve_and_write_time(n::Int64)\n",
      "   @ Main c:\\Users\\Piotr\\Downloads\\Athens\\Athens-FEM\\Summary2D_5.ipynb:13\n",
      " [4] top-level scope\n",
      "   @ c:\\Users\\Piotr\\Downloads\\Athens\\Athens-FEM\\Summary2D_5.ipynb:12"
     ]
    }
   ],
   "source": [
    "# Set the dimensions for the loop (e.g., from 2 to 100000 with a step of 1000)\n",
    "dimensions = 2:1000:10000\n",
    "times_assembly = []\n",
    "times_ilu = []\n",
    "times_AMGsa = []\n",
    "times_AMGrs = []\n",
    "times_LU = []\n",
    "steps = []\n",
    "\n",
    "# Solve linear systems and collect elapsed times\n",
    "for n in dimensions\n",
    "    time = solve_and_write_time(n)\n",
    "\n",
    "    push!(times_assembly, time[1])\n",
    "    push!(times_ilu, time[2])\n",
    "    push!(times_AMGsa, time[5])\n",
    "    push!(times_AMGrs, time[6])\n",
    "    push!(times_LU,time[8])\n",
    "\n",
    "    push!(steps,time[4])\n",
    "\n",
    "end\n",
    "\n",
    "# Plot the graph\n",
    "plot(steps, times_assembly, xlabel=\"Dimension\", ylabel=\"Elapsed Time (seconds)\", label=\"Assembly\", legend=:topleft)\n",
    "plot!(steps,times_ilu, label=\"Solving_ILU\")\n",
    "plot!(steps,times_AMGsa, label=\"Solving_AMGsa\")\n",
    "plot!(steps,times_AMGrs, label=\"Solving_AMGrs\")\n",
    "plot!(steps,times_LU, label=\"Solving_LU\")\n"
   ]
  }
 ],
 "metadata": {
  "kernelspec": {
   "display_name": "Julia 1.9.4",
   "language": "julia",
   "name": "julia-1.9"
  },
  "language_info": {
   "file_extension": ".jl",
   "mimetype": "application/julia",
   "name": "julia",
   "version": "1.9.4"
  }
 },
 "nbformat": 4,
 "nbformat_minor": 2
}
