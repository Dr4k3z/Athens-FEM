{
 "cells": [
  {
   "cell_type": "code",
   "execution_count": 1,
   "metadata": {},
   "outputs": [],
   "source": [
    "using LinearAlgebra\n",
    "using BenchmarkTools\n",
    "using Plots\n",
    "using SparseArrays\n",
    "using LinearSolve"
   ]
  },
  {
   "cell_type": "code",
   "execution_count": 2,
   "metadata": {},
   "outputs": [
    {
     "data": {
      "text/plain": [
       "backslash (generic function with 1 method)"
      ]
     },
     "metadata": {},
     "output_type": "display_data"
    }
   ],
   "source": [
    "function LU_pre(m::Tridiagonal{Float64, Vector{Float64}})\n",
    "    return lu(m)\n",
    "end\n",
    "\n",
    "function LU_calc(lu::LU{Float64, Tridiagonal{Float64, Vector{Float64}}, Vector{Int64}}, f::Vector{Float64})\n",
    "    return lu\\F\n",
    "end\n",
    "\n",
    "function backslash(m::Tridiagonal{Float64, Vector{Float64}}, f::Vector{Float64})\n",
    "    return m\\f\n",
    "end"
   ]
  },
  {
   "cell_type": "code",
   "execution_count": 3,
   "id": "72d08ef1-d9d0-4f1c-b34a-1194391bbb19",
   "metadata": {},
   "outputs": [
    {
     "ename": "MethodError",
     "evalue": "MethodError: no method matching backslash(::SparseMatrixCSC{Float64, Int64}, ::Vector{Float64})\n\nClosest candidates are:\n  backslash(!Matched::Tridiagonal{Float64, Vector{Float64}}, ::Vector{Float64})\n   @ Main c:\\Users\\Piotr\\Downloads\\Athens\\Athens-FEM\\code_to_save_elapsed_time_and_plot.ipynb:9\n",
     "output_type": "error",
     "traceback": [
      "MethodError: no method matching backslash(::SparseMatrixCSC{Float64, Int64}, ::Vector{Float64})\n",
      "\n",
      "Closest candidates are:\n",
      "  backslash(!Matched::Tridiagonal{Float64, Vector{Float64}}, ::Vector{Float64})\n",
      "   @ Main c:\\Users\\Piotr\\Downloads\\Athens\\Athens-FEM\\code_to_save_elapsed_time_and_plot.ipynb:9\n",
      "\n",
      "\n",
      "Stacktrace:\n",
      " [1] macro expansion\n",
      "   @ c:\\Users\\Piotr\\Downloads\\Athens\\Athens-FEM\\code_to_save_elapsed_time_and_plot.ipynb:13 [inlined]\n",
      " [2] macro expansion\n",
      "   @ .\\timing.jl:393 [inlined]\n",
      " [3] solve_and_write_time(n::Int64)\n",
      "   @ Main c:\\Users\\Piotr\\Downloads\\Athens\\Athens-FEM\\code_to_save_elapsed_time_and_plot.ipynb:12\n",
      " [4] top-level scope\n",
      "   @ c:\\Users\\Piotr\\Downloads\\Athens\\Athens-FEM\\code_to_save_elapsed_time_and_plot.ipynb:33"
     ]
    }
   ],
   "source": [
    "\n",
    "\n",
    "function solve_and_write_time(n)\n",
    "    # Generate a random square matrix of size n\n",
    "    matrix = sprand(n, n, 1.)\n",
    "\n",
    "    # Generate a random vector of size n\n",
    "    vector = randn(n)\n",
    "\n",
    "    F = rand(n);\n",
    "\n",
    "#generating the low, high and main diagonal of a tridiagonal matrix\n",
    "hd = rand(n-1);\n",
    "ld = rand(n-1);\n",
    "d = rand(n)\n",
    "\n",
    "A = Tridiagonal(ld,d,hd)\n",
    "    ret = zeros(2)\n",
    "\n",
    "    # Measure the time to solve the linear system\n",
    "    elapsed_time_backslash = @elapsed begin\n",
    "        x = backslash( matrix , vector)\n",
    "    end\n",
    "    ret[1] = elapsed_time_backslash\n",
    "\n",
    "    luMat = LU_pre(matrix)\n",
    "    elapsed_time_LU = @elapsed begin\n",
    "        x = LU_calc(luMat, vector)\n",
    "    end\n",
    "    ret[2] = elapsed_time_LU\n",
    "\n",
    "    return ret\n",
    "end\n",
    "\n",
    "# Set the dimensions for the loop (e.g., from 1 to 1000 with a step of 2)\n",
    "dimensions = 1:2:1000\n",
    "times_backslash = []\n",
    "times_LU = []\n",
    "\n",
    "# Solve linear systems and collect elapsed times\n",
    "for n in dimensions\n",
    "    time = solve_and_write_time(n)\n",
    "    push!(times_backslash, time[1])\n",
    "    push!(times_LU, time[2])\n",
    "end\n",
    "\n",
    "# Plot the graph\n",
    "plot(dimensions, times_backslash, xlabel=\"Dimension\", ylabel=\"Elapsed Time (seconds)\", label=\"Backslash solving\", legend=:topleft)\n",
    "plot!(dimensions, times_LU, label=\"LU solving\")"
   ]
  },
  {
   "cell_type": "code",
   "execution_count": 4,
   "id": "4808bf1a-52af-490a-8928-fc277f81bf64",
   "metadata": {},
   "outputs": [],
   "source": []
  }
 ],
 "metadata": {
  "kernelspec": {
   "display_name": "Julia 1.9.4",
   "language": "julia",
   "name": "julia-1.9"
  },
  "language_info": {
   "file_extension": ".jl",
   "mimetype": "application/julia",
   "name": "julia",
   "version": "1.9.4"
  }
 },
 "nbformat": 4,
 "nbformat_minor": 5
}
